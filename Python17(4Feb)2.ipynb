{
 "cells": [
  {
   "cell_type": "code",
   "execution_count": 1,
   "id": "fa300f06",
   "metadata": {},
   "outputs": [
    {
     "name": "stdout",
     "output_type": "stream",
     "text": [
      "Area of triangle is 75.0\n",
      "It is a small triangle\n",
      "The triangle is not a right triangle\n"
     ]
    }
   ],
   "source": [
    "%run Python17(4Feb).py"
   ]
  },
  {
   "cell_type": "code",
   "execution_count": 3,
   "id": "bd7f887c",
   "metadata": {},
   "outputs": [
    {
     "name": "stdout",
     "output_type": "stream",
     "text": [
      "Area of triangle is 75.0\n",
      "It is a small triangle\n",
      "The triangle is not a right triangle\n"
     ]
    }
   ],
   "source": [
    "# %load Python17(4Feb).py\n",
    "import trigonometry as tri\n",
    "tri_area,unit  = tri.area_of_triangle(10,15) \n",
    "\n",
    "print(f\"Area of triangle is {tri_area}\")\n",
    "\n",
    "if tri_area > 100:    \n",
    "    print(\"Its is a big triangle\")\n",
    "else:    \n",
    "    print(\"It is a small triangle\")\n",
    "\n",
    "print(tri.check_right_triangle(10,12, 15))"
   ]
  },
  {
   "cell_type": "code",
   "execution_count": null,
   "id": "031a3911",
   "metadata": {},
   "outputs": [],
   "source": []
  }
 ],
 "metadata": {
  "kernelspec": {
   "display_name": "Python 3 (ipykernel)",
   "language": "python",
   "name": "python3"
  },
  "language_info": {
   "codemirror_mode": {
    "name": "ipython",
    "version": 3
   },
   "file_extension": ".py",
   "mimetype": "text/x-python",
   "name": "python",
   "nbconvert_exporter": "python",
   "pygments_lexer": "ipython3",
   "version": "3.9.7"
  }
 },
 "nbformat": 4,
 "nbformat_minor": 5
}

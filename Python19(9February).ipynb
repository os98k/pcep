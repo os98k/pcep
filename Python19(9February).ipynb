{
 "cells": [
  {
   "cell_type": "markdown",
   "id": "eb9e1efa",
   "metadata": {},
   "source": [
    "# Object Oriented Programming"
   ]
  },
  {
   "cell_type": "code",
   "execution_count": 1,
   "id": "ce96a595",
   "metadata": {},
   "outputs": [],
   "source": [
    "# what is object oriented programming?\n",
    "# What are other types of programmings?\n",
    "# what we have learnt so far is what type of programming?"
   ]
  },
  {
   "cell_type": "markdown",
   "id": "63b03a89",
   "metadata": {},
   "source": [
    "In python everything is object:\n",
    "\n",
    "            -characteristics\n",
    "            -Actions"
   ]
  },
  {
   "cell_type": "code",
   "execution_count": 6,
   "id": "0ad32b86",
   "metadata": {},
   "outputs": [],
   "source": [
    "class Car():    \n",
    "    # characteristics/properties / attributes >>>> variables\n",
    "    make = \"CIVIC\"\n",
    "    model = '2019'\n",
    "    Reg = '2022'\n",
    "    color = \"Black\"\n",
    "    Engine = '1300CC'\n",
    "    \n",
    "    # Actions / behaviours >>>>>>>>functions(methods)\n",
    "    def run():\n",
    "        print(\"Car is running\")\n",
    "    def stop():\n",
    "        print(\"Car stops\")  \n",
    "    def door_open():\n",
    "        print(\"Door opens\")\n",
    "    def door_close():\n",
    "        print(\"Door closes\")"
   ]
  },
  {
   "cell_type": "code",
   "execution_count": 22,
   "id": "40a8b202",
   "metadata": {},
   "outputs": [],
   "source": [
    "class Human():\n",
    "    def __init__(self,name,gender,age,blood_group):\n",
    "        \"\"\" \n",
    "        This function init is called initializer.(Contructor)\n",
    "        Values required in initializer are mandatory to supply\n",
    "        to create an object\n",
    "        \"\"\"\n",
    "        #####ATTRIBUTES OF HUMAN#############\n",
    "        \n",
    "        self.name         =  name \n",
    "        self.gender       =  gender\n",
    "        self.age          =  age\n",
    "        self.blood_group  =  blood_group\n",
    "    \n",
    "    def eat(self):\n",
    "        print(f\"{self.name} is eating\")\n",
    "        \n",
    "    def sleep(self):\n",
    "        print(f\"{self.name} is sleeping\")\n",
    "    \n",
    "    def read(self):\n",
    "        print(f\"{self.name}is reading\")"
   ]
  },
  {
   "cell_type": "code",
   "execution_count": 23,
   "id": "1a0cb123",
   "metadata": {},
   "outputs": [
    {
     "ename": "TypeError",
     "evalue": "__init__() missing 4 required positional arguments: 'name', 'gender', 'age', and 'blood_group'",
     "output_type": "error",
     "traceback": [
      "\u001b[1;31m---------------------------------------------------------------------------\u001b[0m",
      "\u001b[1;31mTypeError\u001b[0m                                 Traceback (most recent call last)",
      "\u001b[1;32mC:\\Users\\ADMINI~1\\AppData\\Local\\Temp/ipykernel_7768/1495294994.py\u001b[0m in \u001b[0;36m<module>\u001b[1;34m\u001b[0m\n\u001b[1;32m----> 1\u001b[1;33m \u001b[0mhuman1\u001b[0m \u001b[1;33m=\u001b[0m \u001b[0mHuman\u001b[0m\u001b[1;33m(\u001b[0m\u001b[1;33m)\u001b[0m\u001b[1;33m\u001b[0m\u001b[1;33m\u001b[0m\u001b[0m\n\u001b[0m",
      "\u001b[1;31mTypeError\u001b[0m: __init__() missing 4 required positional arguments: 'name', 'gender', 'age', and 'blood_group'"
     ]
    }
   ],
   "source": [
    "human1 = Human()"
   ]
  },
  {
   "cell_type": "code",
   "execution_count": 24,
   "id": "6159a213",
   "metadata": {},
   "outputs": [],
   "source": [
    "human1 = Human(\"Nasir\",\"Male\", 30, \"B+\")\n",
    "# object / instance"
   ]
  },
  {
   "cell_type": "code",
   "execution_count": 25,
   "id": "545c136e",
   "metadata": {},
   "outputs": [
    {
     "data": {
      "text/plain": [
       "'Nasir'"
      ]
     },
     "execution_count": 25,
     "metadata": {},
     "output_type": "execute_result"
    }
   ],
   "source": [
    "human1.name\n",
    "# object is accessing its property"
   ]
  },
  {
   "cell_type": "code",
   "execution_count": 26,
   "id": "a7fc1564",
   "metadata": {},
   "outputs": [
    {
     "data": {
      "text/plain": [
       "'Male'"
      ]
     },
     "execution_count": 26,
     "metadata": {},
     "output_type": "execute_result"
    }
   ],
   "source": [
    "human1.gender"
   ]
  },
  {
   "cell_type": "code",
   "execution_count": 27,
   "id": "4be69f5e",
   "metadata": {},
   "outputs": [
    {
     "data": {
      "text/plain": [
       "30"
      ]
     },
     "execution_count": 27,
     "metadata": {},
     "output_type": "execute_result"
    }
   ],
   "source": [
    "human1.age"
   ]
  },
  {
   "cell_type": "code",
   "execution_count": 28,
   "id": "7ee066f7",
   "metadata": {},
   "outputs": [
    {
     "data": {
      "text/plain": [
       "'B+'"
      ]
     },
     "execution_count": 28,
     "metadata": {},
     "output_type": "execute_result"
    }
   ],
   "source": [
    "human1.blood_group"
   ]
  },
  {
   "cell_type": "code",
   "execution_count": 29,
   "id": "ced88dce",
   "metadata": {},
   "outputs": [
    {
     "name": "stdout",
     "output_type": "stream",
     "text": [
      "Nasir is eating\n"
     ]
    }
   ],
   "source": [
    "human1.eat()\n",
    "# object is accessing its behaviour"
   ]
  },
  {
   "cell_type": "code",
   "execution_count": 30,
   "id": "6ff623df",
   "metadata": {},
   "outputs": [
    {
     "name": "stdout",
     "output_type": "stream",
     "text": [
      "Nasir is sleeping\n"
     ]
    }
   ],
   "source": [
    "human1.sleep()"
   ]
  },
  {
   "cell_type": "code",
   "execution_count": 31,
   "id": "f842d71c",
   "metadata": {},
   "outputs": [
    {
     "name": "stdout",
     "output_type": "stream",
     "text": [
      "Nasiris reading\n"
     ]
    }
   ],
   "source": [
    "human1.read()"
   ]
  },
  {
   "cell_type": "code",
   "execution_count": 32,
   "id": "3fb277ac",
   "metadata": {},
   "outputs": [],
   "source": [
    "# Creting another object of human\n",
    "human2 = Human(\"Rehan\", 'Male',23, \"O+\")"
   ]
  },
  {
   "cell_type": "code",
   "execution_count": 33,
   "id": "a045fa59",
   "metadata": {},
   "outputs": [
    {
     "name": "stdout",
     "output_type": "stream",
     "text": [
      "Nasir is sleeping\n"
     ]
    }
   ],
   "source": [
    "human1.sleep()"
   ]
  },
  {
   "cell_type": "code",
   "execution_count": 34,
   "id": "7b759e58",
   "metadata": {},
   "outputs": [
    {
     "name": "stdout",
     "output_type": "stream",
     "text": [
      "Rehan is sleeping\n"
     ]
    }
   ],
   "source": [
    "human2.sleep()"
   ]
  },
  {
   "cell_type": "code",
   "execution_count": 35,
   "id": "8c0ffdc2",
   "metadata": {},
   "outputs": [],
   "source": [
    "human3 = Human(\"Sana\", 'Female', 18, \"B+\")\n",
    "human4 = Human(\"Saba\", \"Female\", 18, \"A\")"
   ]
  },
  {
   "cell_type": "code",
   "execution_count": 36,
   "id": "aa8e8142",
   "metadata": {},
   "outputs": [
    {
     "data": {
      "text/plain": [
       "'Sana'"
      ]
     },
     "execution_count": 36,
     "metadata": {},
     "output_type": "execute_result"
    }
   ],
   "source": [
    "human3.name"
   ]
  },
  {
   "cell_type": "code",
   "execution_count": 37,
   "id": "670401f1",
   "metadata": {},
   "outputs": [
    {
     "data": {
      "text/plain": [
       "'Saba'"
      ]
     },
     "execution_count": 37,
     "metadata": {},
     "output_type": "execute_result"
    }
   ],
   "source": [
    "human4.name"
   ]
  },
  {
   "cell_type": "code",
   "execution_count": 38,
   "id": "01b3e086",
   "metadata": {},
   "outputs": [],
   "source": [
    "nam = \"Sana\"\n",
    "nam = \"Saba\""
   ]
  },
  {
   "cell_type": "code",
   "execution_count": 39,
   "id": "300431dd",
   "metadata": {},
   "outputs": [
    {
     "data": {
      "text/plain": [
       "'Saba'"
      ]
     },
     "execution_count": 39,
     "metadata": {},
     "output_type": "execute_result"
    }
   ],
   "source": [
    "nam"
   ]
  },
  {
   "cell_type": "code",
   "execution_count": null,
   "id": "bf210abb",
   "metadata": {},
   "outputs": [],
   "source": [
    "def add(val1, val2):#Parameteras\n",
    "    \n",
    "    num1 = val1\n",
    "    num2 = val2\n",
    "    sum = num1 + num2\n",
    "add(2,3)# arguments"
   ]
  },
  {
   "cell_type": "code",
   "execution_count": null,
   "id": "0278fac9",
   "metadata": {},
   "outputs": [],
   "source": []
  },
  {
   "cell_type": "code",
   "execution_count": null,
   "id": "5eb4b4d2",
   "metadata": {},
   "outputs": [],
   "source": []
  },
  {
   "cell_type": "code",
   "execution_count": null,
   "id": "799a7b54",
   "metadata": {},
   "outputs": [],
   "source": []
  }
 ],
 "metadata": {
  "kernelspec": {
   "display_name": "Python 3 (ipykernel)",
   "language": "python",
   "name": "python3"
  },
  "language_info": {
   "codemirror_mode": {
    "name": "ipython",
    "version": 3
   },
   "file_extension": ".py",
   "mimetype": "text/x-python",
   "name": "python",
   "nbconvert_exporter": "python",
   "pygments_lexer": "ipython3",
   "version": "3.9.7"
  }
 },
 "nbformat": 4,
 "nbformat_minor": 5
}

{
 "cells": [
  {
   "cell_type": "markdown",
   "id": "eab210a7",
   "metadata": {},
   "source": [
    "# Return"
   ]
  },
  {
   "cell_type": "code",
   "execution_count": 16,
   "id": "2997af0c",
   "metadata": {},
   "outputs": [],
   "source": [
    "def square_of_a_number(num):\n",
    "    \n",
    "    square = num**2# local variable\n",
    "    return square   "
   ]
  },
  {
   "cell_type": "code",
   "execution_count": 17,
   "id": "bec5fffa",
   "metadata": {},
   "outputs": [],
   "source": [
    "squared_value = square_of_a_number(5)"
   ]
  },
  {
   "cell_type": "code",
   "execution_count": 18,
   "id": "eb3b88a9",
   "metadata": {},
   "outputs": [],
   "source": [
    "_3_square= square_of_a_number(3)"
   ]
  },
  {
   "cell_type": "code",
   "execution_count": 19,
   "id": "cdf9cbc8",
   "metadata": {},
   "outputs": [
    {
     "data": {
      "text/plain": [
       "25"
      ]
     },
     "execution_count": 19,
     "metadata": {},
     "output_type": "execute_result"
    }
   ],
   "source": [
    "squared_value"
   ]
  },
  {
   "cell_type": "code",
   "execution_count": 20,
   "id": "ec8c433b",
   "metadata": {},
   "outputs": [
    {
     "data": {
      "text/plain": [
       "9"
      ]
     },
     "execution_count": 20,
     "metadata": {},
     "output_type": "execute_result"
    }
   ],
   "source": [
    "_3_square"
   ]
  },
  {
   "cell_type": "code",
   "execution_count": 21,
   "id": "c5598979",
   "metadata": {},
   "outputs": [],
   "source": [
    "square = square_of_a_number(11)"
   ]
  },
  {
   "cell_type": "code",
   "execution_count": 22,
   "id": "05149e25",
   "metadata": {},
   "outputs": [
    {
     "data": {
      "text/plain": [
       "121"
      ]
     },
     "execution_count": 22,
     "metadata": {},
     "output_type": "execute_result"
    }
   ],
   "source": [
    "square"
   ]
  },
  {
   "cell_type": "raw",
   "id": "89413d76",
   "metadata": {},
   "source": [
    "Q: how many values ?"
   ]
  },
  {
   "cell_type": "code",
   "execution_count": 33,
   "id": "54247950",
   "metadata": {},
   "outputs": [],
   "source": [
    "def square_of_a_number(num):\n",
    "    \n",
    "    square = num**2# local variable\n",
    "    print(\"I am code written after return\")\n",
    "    return square, f\"I am sqaured of {num}\" \n",
    "    \n",
    "    "
   ]
  },
  {
   "cell_type": "code",
   "execution_count": 34,
   "id": "6ad2a07c",
   "metadata": {},
   "outputs": [
    {
     "name": "stdout",
     "output_type": "stream",
     "text": [
      "I am code written after return\n"
     ]
    }
   ],
   "source": [
    "returned_values = square_of_a_number(6)\n",
    "#tuple"
   ]
  },
  {
   "cell_type": "code",
   "execution_count": 30,
   "id": "418d4feb",
   "metadata": {},
   "outputs": [
    {
     "name": "stdout",
     "output_type": "stream",
     "text": [
      "36\n",
      "I am sqaured of 6\n"
     ]
    }
   ],
   "source": [
    "a,b = returned_values\n",
    "print(a)\n",
    "print(b)"
   ]
  },
  {
   "cell_type": "code",
   "execution_count": 35,
   "id": "7bb02df0",
   "metadata": {},
   "outputs": [],
   "source": [
    "def build_person(first_name, last_name):\n",
    "    \"\"\"Return a dictionary of information about a person.\"\"\"\n",
    "    person = {'first': first_name, 'last': last_name}\n",
    "    return person\n"
   ]
  },
  {
   "cell_type": "code",
   "execution_count": 36,
   "id": "110f3c69",
   "metadata": {},
   "outputs": [
    {
     "name": "stdout",
     "output_type": "stream",
     "text": [
      "{'first': 'jimi', 'last': 'hendrix'}\n"
     ]
    }
   ],
   "source": [
    "musician = build_person('jimi', 'hendrix')\n",
    "print(musician)"
   ]
  },
  {
   "cell_type": "code",
   "execution_count": 38,
   "id": "02d7c7c3",
   "metadata": {},
   "outputs": [],
   "source": [
    "def build_person(first_name, last_name, age=''):\n",
    "    person = {'first': first_name, 'last': last_name}\n",
    "    if age:\n",
    "        person['age'] = age\n",
    "    return person\n"
   ]
  },
  {
   "cell_type": "code",
   "execution_count": 39,
   "id": "0ec71b65",
   "metadata": {},
   "outputs": [
    {
     "name": "stdout",
     "output_type": "stream",
     "text": [
      "{'first': 'jimi', 'last': 'hendrix', 'age': 27}\n"
     ]
    }
   ],
   "source": [
    "musician = build_person('jimi', 'hendrix', age=27)\n",
    "print(musician)"
   ]
  },
  {
   "cell_type": "code",
   "execution_count": 40,
   "id": "0908707f",
   "metadata": {},
   "outputs": [
    {
     "name": "stdout",
     "output_type": "stream",
     "text": [
      "{'first': 'jimi', 'last': 'hendrix'}\n"
     ]
    }
   ],
   "source": [
    "musician = build_person('jimi', 'hendrix')\n",
    "print(musician)"
   ]
  },
  {
   "cell_type": "code",
   "execution_count": 1,
   "id": "4e8658e1",
   "metadata": {},
   "outputs": [],
   "source": [
    "def get_formatted_name(first_name, last_name):    \n",
    "    full_name = first_name + ' ' + last_name\n",
    "    return full_name.title()"
   ]
  },
  {
   "cell_type": "code",
   "execution_count": 2,
   "id": "49bbd890",
   "metadata": {},
   "outputs": [
    {
     "name": "stdout",
     "output_type": "stream",
     "text": [
      "\n",
      "Please tell me your name:\n",
      "(enter 'q' at any time to quit)\n",
      "First name: Hassan\n",
      "Last name: Ali\n",
      "\n",
      "Hello, Hassan Ali!\n",
      "\n",
      "Please tell me your name:\n",
      "(enter 'q' at any time to quit)\n",
      "First name: Saad\n",
      "Last name: Khan\n",
      "\n",
      "Hello, Saad Khan!\n",
      "\n",
      "Please tell me your name:\n",
      "(enter 'q' at any time to quit)\n",
      "First name: q\n"
     ]
    }
   ],
   "source": [
    "while True:\n",
    "    print(\"\\nPlease tell me your name:\")\n",
    "    print(\"(enter 'q' at any time to quit)\")\n",
    "\n",
    "    f_name = input(\"First name: \")\n",
    "    if f_name == 'q':\n",
    "        break\n",
    "    l_name = input(\"Last name: \")\n",
    "    if l_name == 'q':\n",
    "        break\n",
    "    formatted_name = get_formatted_name(f_name, l_name)\n",
    "\n",
    "    print(\"\\nHello, \" + formatted_name + \"!\")"
   ]
  },
  {
   "cell_type": "markdown",
   "id": "e1728112",
   "metadata": {},
   "source": [
    "8-7. Album: Write a function called make_album() that builds a dictionary\n",
    "describing a music album. The function should take in an artist name and an\n",
    "album title, and it should return a dictionary containing these two pieces of\n",
    "information. Use the function to make three dictionaries representing different\n",
    "albums. Print each return value to show that the dictionaries are storing the\n",
    "album information correctly.\n",
    "Add an optional parameter to make_album() that allows you to store the\n",
    "number of tracks on an album. If the calling line includes a value for the number of tracks, add that value to the album’s dictionary. Make at least one new\n",
    "function call that includes the number of tracks on an album."
   ]
  },
  {
   "cell_type": "code",
   "execution_count": 12,
   "id": "a7fc132f",
   "metadata": {},
   "outputs": [],
   "source": [
    "def make_album(artist_name,album_title, num_of_tracks=\"\"):\n",
    "    album_dic ={'artist':artist_name, 'album':album_title}\n",
    "    if num_of_tracks:\n",
    "        album_dic['tracks']=num_of_tracks\n",
    "    \n",
    "    return album_dic"
   ]
  },
  {
   "cell_type": "code",
   "execution_count": 23,
   "id": "bd9956ed",
   "metadata": {},
   "outputs": [],
   "source": [
    "studio=[]"
   ]
  },
  {
   "cell_type": "code",
   "execution_count": 25,
   "id": "0cbd3e7d",
   "metadata": {},
   "outputs": [
    {
     "name": "stdout",
     "output_type": "stream",
     "text": [
      "press q to exit,Tell me artist  name: Nasir\n",
      "press q to exit,Tell me album name: PataNahi\n",
      "press q to exit,How many tracks are in album: 4\n",
      "press q to exit,Tell me artist  name: Jawed\n",
      "press q to exit,Tell me album name: Hello World\n",
      "press q to exit,How many tracks are in album: 10\n",
      "press q to exit,Tell me artist  name: Python\n",
      "press q to exit,Tell me album name: Anaconda\n",
      "press q to exit,How many tracks are in album: 8\n",
      "press q to exit,Tell me artist  name: q\n"
     ]
    }
   ],
   "source": [
    "while True:\n",
    "    artist_name = input(\"press q to exit,Tell me artist  name: \")\n",
    "    if artist_name==\"q\":\n",
    "        break\n",
    "    \n",
    "    album_name  = input(\"press q to exit,Tell me album name: \")\n",
    "    if artist_name==\"q\":\n",
    "        break\n",
    "    num_of_tracks = int(input(\"press q to exit,How many tracks are in album: \"))\n",
    "    if artist_name==\"q\":\n",
    "        break\n",
    "    \n",
    "    \n",
    "    "
   ]
  },
  {
   "cell_type": "code",
   "execution_count": 26,
   "id": "0906f822",
   "metadata": {},
   "outputs": [
    {
     "data": {
      "text/plain": [
       "[{'artist': 'Nasir', 'album': 'PataNahi', 'tracks': 4},\n",
       " {'artist': 'Jawed', 'album': 'Hello World', 'tracks': 10},\n",
       " {'artist': 'Python', 'album': 'Anaconda', 'tracks': 8}]"
      ]
     },
     "execution_count": 26,
     "metadata": {},
     "output_type": "execute_result"
    }
   ],
   "source": [
    "studio\n"
   ]
  },
  {
   "cell_type": "code",
   "execution_count": 13,
   "id": "522dd3ed",
   "metadata": {},
   "outputs": [
    {
     "name": "stdout",
     "output_type": "stream",
     "text": [
      "{'artist': 'ABC', 'album': 'Album1'}\n"
     ]
    }
   ],
   "source": [
    "print(make_album(\"ABC\",\"Album1\"))"
   ]
  },
  {
   "cell_type": "code",
   "execution_count": 14,
   "id": "96c485e5",
   "metadata": {},
   "outputs": [
    {
     "name": "stdout",
     "output_type": "stream",
     "text": [
      "{'artist': 'xyz', 'album': 'Album2', 'tracks': 5}\n"
     ]
    }
   ],
   "source": [
    "print(make_album(\"xyz\",\"Album2\", 5))"
   ]
  },
  {
   "cell_type": "markdown",
   "id": "c4068629",
   "metadata": {},
   "source": [
    "# Passing a List"
   ]
  },
  {
   "cell_type": "code",
   "execution_count": 27,
   "id": "1da5d42c",
   "metadata": {},
   "outputs": [],
   "source": [
    "def my_sum(alist):\n",
    "    total=sum(alist)\n",
    "    return total"
   ]
  },
  {
   "cell_type": "code",
   "execution_count": 28,
   "id": "6704823a",
   "metadata": {},
   "outputs": [
    {
     "data": {
      "text/plain": [
       "55"
      ]
     },
     "execution_count": 28,
     "metadata": {},
     "output_type": "execute_result"
    }
   ],
   "source": [
    "my_sum([1,2,3,4,5,6,7,8,9,10])"
   ]
  },
  {
   "cell_type": "code",
   "execution_count": 29,
   "id": "522cd611",
   "metadata": {},
   "outputs": [],
   "source": [
    "def greet_users(names):\n",
    "    for name in names:\n",
    "        msg = \"Hello, \" + name.title() + \"!\"\n",
    "        print(msg)\n"
   ]
  },
  {
   "cell_type": "code",
   "execution_count": 30,
   "id": "6fd266db",
   "metadata": {},
   "outputs": [
    {
     "name": "stdout",
     "output_type": "stream",
     "text": [
      "Hello, Hannah!\n",
      "Hello, Ty!\n",
      "Hello, Margot!\n"
     ]
    }
   ],
   "source": [
    "usernames = ['hannah', 'ty', 'margot']\n",
    "greet_users(usernames)"
   ]
  },
  {
   "cell_type": "markdown",
   "id": "b4d60630",
   "metadata": {},
   "source": [
    "# Modifying a List in a Function"
   ]
  },
  {
   "cell_type": "code",
   "execution_count": 31,
   "id": "18800a70",
   "metadata": {},
   "outputs": [],
   "source": [
    "unprinted_designs = ['iphone case', 'robot pendant', 'dodecahedron']\n",
    "completed_models = []"
   ]
  },
  {
   "cell_type": "code",
   "execution_count": 32,
   "id": "358d4b12",
   "metadata": {},
   "outputs": [
    {
     "name": "stdout",
     "output_type": "stream",
     "text": [
      "Printing model: dodecahedron\n",
      "Printing model: robot pendant\n",
      "Printing model: iphone case\n"
     ]
    }
   ],
   "source": [
    "while unprinted_designs:\n",
    "    current_design = unprinted_designs.pop()\n",
    "    \n",
    "    print(\"Printing model: \" + current_design)\n",
    "    completed_models.append(current_design)\n"
   ]
  },
  {
   "cell_type": "code",
   "execution_count": 33,
   "id": "ee345f34",
   "metadata": {},
   "outputs": [
    {
     "name": "stdout",
     "output_type": "stream",
     "text": [
      "\n",
      "The following models have been printed:\n",
      "dodecahedron\n",
      "robot pendant\n",
      "iphone case\n"
     ]
    }
   ],
   "source": [
    "# Display all completed models.\n",
    "print(\"\\nThe following models have been printed:\")\n",
    "for completed_model in completed_models:\n",
    "    print(completed_model)"
   ]
  },
  {
   "cell_type": "markdown",
   "id": "1045871b",
   "metadata": {},
   "source": [
    "# Passing an Arbitrary Number of Arguments"
   ]
  },
  {
   "cell_type": "code",
   "execution_count": 47,
   "id": "b5e96bc1",
   "metadata": {},
   "outputs": [],
   "source": [
    "def addfunction(a=\"\",b=\"\",c=\"\",d=\"\",e=\"\",f=\"\"):\n",
    "    print(a,b,c,d,e,f)"
   ]
  },
  {
   "cell_type": "code",
   "execution_count": 48,
   "id": "97ac82e2",
   "metadata": {},
   "outputs": [
    {
     "name": "stdout",
     "output_type": "stream",
     "text": [
      "A B C D E Q\n"
     ]
    }
   ],
   "source": [
    "addfunction(\"A\",\"B\",\"C\",\"D\",\"E\",\"Q\")"
   ]
  },
  {
   "cell_type": "code",
   "execution_count": 49,
   "id": "07657284",
   "metadata": {},
   "outputs": [
    {
     "name": "stdout",
     "output_type": "stream",
     "text": [
      "     \n"
     ]
    }
   ],
   "source": [
    "addfunction()"
   ]
  },
  {
   "cell_type": "code",
   "execution_count": 50,
   "id": "8fba1525",
   "metadata": {},
   "outputs": [
    {
     "ename": "TypeError",
     "evalue": "addfunction() takes from 0 to 6 positional arguments but 7 were given",
     "output_type": "error",
     "traceback": [
      "\u001b[1;31m---------------------------------------------------------------------------\u001b[0m",
      "\u001b[1;31mTypeError\u001b[0m                                 Traceback (most recent call last)",
      "\u001b[1;32mC:\\Users\\ADMINI~1\\AppData\\Local\\Temp/ipykernel_7044/93786177.py\u001b[0m in \u001b[0;36m<module>\u001b[1;34m\u001b[0m\n\u001b[1;32m----> 1\u001b[1;33m \u001b[0maddfunction\u001b[0m\u001b[1;33m(\u001b[0m\u001b[1;36m111\u001b[0m\u001b[1;33m,\u001b[0m\u001b[1;36m222\u001b[0m\u001b[1;33m,\u001b[0m\u001b[1;36m333\u001b[0m\u001b[1;33m,\u001b[0m\u001b[1;36m444\u001b[0m\u001b[1;33m,\u001b[0m\u001b[1;36m555\u001b[0m\u001b[1;33m,\u001b[0m\u001b[1;36m666\u001b[0m\u001b[1;33m,\u001b[0m\u001b[1;36m777\u001b[0m\u001b[1;33m)\u001b[0m\u001b[1;33m\u001b[0m\u001b[1;33m\u001b[0m\u001b[0m\n\u001b[0m",
      "\u001b[1;31mTypeError\u001b[0m: addfunction() takes from 0 to 6 positional arguments but 7 were given"
     ]
    }
   ],
   "source": [
    "addfunction(111,222,333,444,555,666,777)"
   ]
  },
  {
   "cell_type": "code",
   "execution_count": 63,
   "id": "955099f8",
   "metadata": {},
   "outputs": [],
   "source": [
    "def make_pizza(*toppings):\n",
    "    print(\"\\nMaking a pizza with the following toppings:\")\n",
    "    for topping in toppings:\n",
    "        print(\"- \" + topping)\n",
    "    "
   ]
  },
  {
   "cell_type": "code",
   "execution_count": 64,
   "id": "b9bd2dc0",
   "metadata": {},
   "outputs": [
    {
     "name": "stdout",
     "output_type": "stream",
     "text": [
      "\n",
      "Making a pizza with the following toppings:\n",
      "- pepperoni\n"
     ]
    }
   ],
   "source": [
    "make_pizza('pepperoni')"
   ]
  },
  {
   "cell_type": "code",
   "execution_count": 65,
   "id": "73db22b8",
   "metadata": {},
   "outputs": [
    {
     "name": "stdout",
     "output_type": "stream",
     "text": [
      "\n",
      "Making a pizza with the following toppings:\n",
      "- mushrooms\n",
      "- green peppers\n",
      "- extra cheese\n"
     ]
    }
   ],
   "source": [
    "make_pizza('mushrooms', 'green peppers', 'extra cheese')"
   ]
  },
  {
   "cell_type": "code",
   "execution_count": 58,
   "id": "d2c1280d",
   "metadata": {},
   "outputs": [],
   "source": [
    "a = (12,)"
   ]
  },
  {
   "cell_type": "code",
   "execution_count": 59,
   "id": "d3669fab",
   "metadata": {},
   "outputs": [
    {
     "data": {
      "text/plain": [
       "(12,)"
      ]
     },
     "execution_count": 59,
     "metadata": {},
     "output_type": "execute_result"
    }
   ],
   "source": [
    "a"
   ]
  },
  {
   "cell_type": "code",
   "execution_count": 66,
   "id": "8fcb028f",
   "metadata": {},
   "outputs": [
    {
     "name": "stdout",
     "output_type": "stream",
     "text": [
      "\n",
      "Making a 16-inch pizza with the following toppings:\n",
      "- pepperoni\n",
      "\n",
      "Making a 12-inch pizza with the following toppings:\n",
      "- mushrooms\n",
      "- green peppers\n",
      "- extra cheese\n"
     ]
    }
   ],
   "source": [
    "def make_pizza(size, *toppings):\n",
    "    print(\"\\nMaking a \" + str(size) +\"-inch pizza with the following toppings:\")\n",
    "    for topping in toppings:\n",
    "         print(\"- \" + topping)\n",
    "\n",
    "make_pizza(16, 'pepperoni')\n",
    "make_pizza(12, 'mushrooms', 'green peppers', 'extra cheese')"
   ]
  },
  {
   "cell_type": "code",
   "execution_count": 68,
   "id": "3f46b8e1",
   "metadata": {},
   "outputs": [
    {
     "data": {
      "text/plain": [
       "0"
      ]
     },
     "execution_count": 68,
     "metadata": {},
     "output_type": "execute_result"
    }
   ],
   "source": [
    "len(\"\")"
   ]
  },
  {
   "cell_type": "code",
   "execution_count": 83,
   "id": "2eeae25d",
   "metadata": {},
   "outputs": [],
   "source": [
    "a = 120\n",
    "def local_global():\n",
    "    \n",
    "    global a\n",
    "    a = 10\n",
    "    print(a)"
   ]
  },
  {
   "cell_type": "code",
   "execution_count": 84,
   "id": "db4ae5ab",
   "metadata": {},
   "outputs": [
    {
     "name": "stdout",
     "output_type": "stream",
     "text": [
      "10\n"
     ]
    }
   ],
   "source": [
    "local_global()"
   ]
  },
  {
   "cell_type": "code",
   "execution_count": 85,
   "id": "05364cda",
   "metadata": {},
   "outputs": [
    {
     "data": {
      "text/plain": [
       "10"
      ]
     },
     "execution_count": 85,
     "metadata": {},
     "output_type": "execute_result"
    }
   ],
   "source": [
    "a"
   ]
  },
  {
   "cell_type": "code",
   "execution_count": null,
   "id": "8d259a2b",
   "metadata": {},
   "outputs": [],
   "source": []
  },
  {
   "cell_type": "code",
   "execution_count": null,
   "id": "21c6331d",
   "metadata": {},
   "outputs": [],
   "source": []
  }
 ],
 "metadata": {
  "kernelspec": {
   "display_name": "Python 3 (ipykernel)",
   "language": "python",
   "name": "python3"
  },
  "language_info": {
   "codemirror_mode": {
    "name": "ipython",
    "version": 3
   },
   "file_extension": ".py",
   "mimetype": "text/x-python",
   "name": "python",
   "nbconvert_exporter": "python",
   "pygments_lexer": "ipython3",
   "version": "3.9.7"
  }
 },
 "nbformat": 4,
 "nbformat_minor": 5
}

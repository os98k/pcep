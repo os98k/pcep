{
 "cells": [
  {
   "cell_type": "markdown",
   "id": "f91ed4f7",
   "metadata": {},
   "source": [
    "# else and elif statements\n"
   ]
  },
  {
   "cell_type": "code",
   "execution_count": 9,
   "id": "720dbd82",
   "metadata": {},
   "outputs": [
    {
     "name": "stdout",
     "output_type": "stream",
     "text": [
      "Enter a number8\n",
      "The number 8 is even\n"
     ]
    }
   ],
   "source": [
    "# check wether the user has enterd a even or odd number \n",
    "num  = int(input(\"Enter a number\"))\n",
    "\n",
    "# evens are multiple of 2 / numbers divisible by 2 are even \n",
    "# odds are not multiple of 2 / numbers not divisible by 2 are odd\n",
    "if num % 2 == 0:  \n",
    "    # if i divide the number by 2 and the remiander is 0 \n",
    "    print(f\"The number {num} is even\")\n",
    "else:\n",
    "    print(f\"The number {num} is odd\")\n"
   ]
  },
  {
   "cell_type": "code",
   "execution_count": 10,
   "id": "47f4017d",
   "metadata": {},
   "outputs": [
    {
     "data": {
      "text/plain": [
       "0"
      ]
     },
     "execution_count": 10,
     "metadata": {},
     "output_type": "execute_result"
    }
   ],
   "source": [
    "12%2\n",
    "\n",
    "# 12 modulo 2 remainder 0, \n",
    "# 12 is a multiple of 2\n",
    "# 12 completely divisable by 2\n",
    "# 12 is a even number "
   ]
  },
  {
   "cell_type": "markdown",
   "id": "02154e37",
   "metadata": {},
   "source": [
    "# Multiple if's"
   ]
  },
  {
   "cell_type": "code",
   "execution_count": 16,
   "id": "f4db8641",
   "metadata": {},
   "outputs": [
    {
     "name": "stdout",
     "output_type": "stream",
     "text": [
      "What is the condition of donuts (fresh/low)excellent\n",
      "No answer matched\n",
      "0\n"
     ]
    }
   ],
   "source": [
    "donut_condition = input(\"What is the condition of donuts (fresh/low)\")\n",
    "\n",
    "if donut_condition == \"fresh\":\n",
    "    buy_score = 10\n",
    "elif donut_condition == \"low\":\n",
    "    buy_score = 5\n",
    "else:\n",
    "    print(\"No answer matched\")\n",
    "    buy_score = 0\n",
    "\n",
    "    \n",
    "print(buy_score)"
   ]
  },
  {
   "cell_type": "code",
   "execution_count": 23,
   "id": "e5dc5bad",
   "metadata": {},
   "outputs": [
    {
     "name": "stdout",
     "output_type": "stream",
     "text": [
      "What is the students percentage49.99\n",
      "your garde is U\n"
     ]
    }
   ],
   "source": [
    "# assign the grade according to the percentage.\n",
    "grade = None\n",
    "\n",
    "percentage = float(input(\"What is the students percentage\"))\n",
    "\n",
    "# 90>=A* ,# 80>=A+,# 70>=A,# 60>=B,# 50>=C,# others == U\n",
    "if percentage >=90:\n",
    "    grade= \"A*\"\n",
    "elif percentage >=80:\n",
    "    grade=\"A+\"\n",
    "elif percentage >=70:\n",
    "    grade=\"A\"\n",
    "elif percentage >=60:\n",
    "    grade=\"B\"\n",
    "elif percentage >=50:\n",
    "    grade=\"C\"\n",
    "else:\n",
    "    grade=\"U\"\n",
    "    \n",
    "print(\"your grade is \" + grade)"
   ]
  },
  {
   "cell_type": "markdown",
   "id": "6bbf7d0d",
   "metadata": {},
   "source": [
    "# Nested if's"
   ]
  },
  {
   "cell_type": "code",
   "execution_count": 35,
   "id": "2a888435",
   "metadata": {},
   "outputs": [
    {
     "name": "stdout",
     "output_type": "stream",
     "text": [
      "a not equals b\n"
     ]
    }
   ],
   "source": [
    "a=b=c=d=e=f=0\n",
    "e=1\n",
    "c=2\n",
    "b=2\n",
    "if a==b:    \n",
    "    if b==c:\n",
    "        if c==d:\n",
    "            if d==e:\n",
    "                if e==f:\n",
    "                    print(\"All is well\")\n",
    "                else:\n",
    "                    print(\"e not equals f\")\n",
    "            \n",
    "            else:\n",
    "                print(\"d not equals e\")\n",
    "            \n",
    "        else:\n",
    "            print(\"c not equals d\")\n",
    "    else:\n",
    "        print(\"b not equals c\")\n",
    "else:\n",
    "    print(\"a not equals b\")"
   ]
  },
  {
   "cell_type": "code",
   "execution_count": 31,
   "id": "6bfe7a25",
   "metadata": {},
   "outputs": [
    {
     "name": "stdout",
     "output_type": "stream",
     "text": [
      "Have you paid your exam fee?unpaid\n",
      "You cant appear in exam\n"
     ]
    }
   ],
   "source": [
    "# a student can only appear in exam \n",
    "#iff his dues are cleared and he must have admit card\n",
    "\n",
    "feeStatus = input(\"Have you paid your exam fee?\")\n",
    "\n",
    "\n",
    "if feeStatus == 'paid':\n",
    "    admitCard = input(\"Do you have admit card?\")\n",
    "    if admitCard == \"yes\":\n",
    "        print(\"You can appear in exam \")\n",
    "              \n",
    "    else:\n",
    "        print(\"you dont have admit card you cant appear in exam\")\n",
    "else:\n",
    "    print(\"You cant appear in exam\")"
   ]
  },
  {
   "cell_type": "code",
   "execution_count": null,
   "id": "c1b00194",
   "metadata": {},
   "outputs": [],
   "source": []
  }
 ],
 "metadata": {
  "kernelspec": {
   "display_name": "Python 3 (ipykernel)",
   "language": "python",
   "name": "python3"
  },
  "language_info": {
   "codemirror_mode": {
    "name": "ipython",
    "version": 3
   },
   "file_extension": ".py",
   "mimetype": "text/x-python",
   "name": "python",
   "nbconvert_exporter": "python",
   "pygments_lexer": "ipython3",
   "version": "3.9.7"
  }
 },
 "nbformat": 4,
 "nbformat_minor": 5
}

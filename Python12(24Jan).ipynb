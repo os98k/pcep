{
 "cells": [
  {
   "cell_type": "markdown",
   "id": "deadf4b7",
   "metadata": {},
   "source": [
    "# Last Class:\n",
    "    - Dictionary\n",
    "    - List in Dictionry"
   ]
  },
  {
   "cell_type": "markdown",
   "id": "88168a4e",
   "metadata": {},
   "source": [
    "# More on dictionary"
   ]
  },
  {
   "cell_type": "markdown",
   "id": "fbc1f786",
   "metadata": {},
   "source": [
    "# Dictionary in Dictionary"
   ]
  },
  {
   "cell_type": "code",
   "execution_count": 1,
   "id": "2b11e2fa",
   "metadata": {},
   "outputs": [],
   "source": [
    "multiDic = {\n",
    "            'Python':    {'Nasir':4, 'Hamza':10, 'Ali':9},\n",
    "            'JavaScript':{'Nasir':8, 'Hamza':5, 'Ali':7},\n",
    "            'Java':      {'Nasir':8, 'Hamza':5, 'Ali':7}\n",
    "           }"
   ]
  },
  {
   "cell_type": "code",
   "execution_count": 2,
   "id": "8e186338",
   "metadata": {},
   "outputs": [
    {
     "data": {
      "text/plain": [
       "{'Nasir': 8, 'Hamza': 5, 'Ali': 7}"
      ]
     },
     "execution_count": 2,
     "metadata": {},
     "output_type": "execute_result"
    }
   ],
   "source": [
    "multiDic['Java']"
   ]
  },
  {
   "cell_type": "code",
   "execution_count": 3,
   "id": "cf035f35",
   "metadata": {},
   "outputs": [
    {
     "data": {
      "text/plain": [
       "{'Nasir': 4, 'Hamza': 10, 'Ali': 9}"
      ]
     },
     "execution_count": 3,
     "metadata": {},
     "output_type": "execute_result"
    }
   ],
   "source": [
    "multiDic['Python']"
   ]
  },
  {
   "cell_type": "code",
   "execution_count": 4,
   "id": "a94c102c",
   "metadata": {},
   "outputs": [
    {
     "data": {
      "text/plain": [
       "9"
      ]
     },
     "execution_count": 4,
     "metadata": {},
     "output_type": "execute_result"
    }
   ],
   "source": [
    "multiDic['Python']['Ali']"
   ]
  },
  {
   "cell_type": "code",
   "execution_count": 5,
   "id": "9f3983fc",
   "metadata": {},
   "outputs": [],
   "source": [
    "multiDic['Python']['Hamza']=8"
   ]
  },
  {
   "cell_type": "code",
   "execution_count": 6,
   "id": "a0d78c06",
   "metadata": {},
   "outputs": [
    {
     "data": {
      "text/plain": [
       "{'Python': {'Nasir': 4, 'Hamza': 8, 'Ali': 9},\n",
       " 'JavaScript': {'Nasir': 8, 'Hamza': 5, 'Ali': 7},\n",
       " 'Java': {'Nasir': 8, 'Hamza': 5, 'Ali': 7}}"
      ]
     },
     "execution_count": 6,
     "metadata": {},
     "output_type": "execute_result"
    }
   ],
   "source": [
    "multiDic"
   ]
  },
  {
   "cell_type": "markdown",
   "id": "4996fff5",
   "metadata": {},
   "source": [
    "# Dictionary in List"
   ]
  },
  {
   "cell_type": "code",
   "execution_count": 7,
   "id": "bd5f4fd7",
   "metadata": {},
   "outputs": [],
   "source": [
    "dic_int_list  = []"
   ]
  },
  {
   "cell_type": "code",
   "execution_count": 8,
   "id": "be591069",
   "metadata": {},
   "outputs": [],
   "source": [
    "dic_int_list.append({'Country':'USA'})"
   ]
  },
  {
   "cell_type": "code",
   "execution_count": 9,
   "id": "f1c69b96",
   "metadata": {},
   "outputs": [
    {
     "data": {
      "text/plain": [
       "[{'Country': 'USA'}]"
      ]
     },
     "execution_count": 9,
     "metadata": {},
     "output_type": "execute_result"
    }
   ],
   "source": [
    "dic_int_list"
   ]
  },
  {
   "cell_type": "code",
   "execution_count": 12,
   "id": "ba689006",
   "metadata": {},
   "outputs": [],
   "source": [
    "dic_int_list.append({'Subject':'Pyhsics'})"
   ]
  },
  {
   "cell_type": "code",
   "execution_count": 13,
   "id": "cd31e380",
   "metadata": {},
   "outputs": [
    {
     "data": {
      "text/plain": [
       "[{'Country': 'USA'}, {'Subject': 'Pyhysics'}, {'Subject': 'Pyhsics'}]"
      ]
     },
     "execution_count": 13,
     "metadata": {},
     "output_type": "execute_result"
    }
   ],
   "source": [
    "dic_int_list\n"
   ]
  },
  {
   "cell_type": "code",
   "execution_count": 15,
   "id": "d7fb840a",
   "metadata": {},
   "outputs": [
    {
     "data": {
      "text/plain": [
       "'Pyhsics'"
      ]
     },
     "execution_count": 15,
     "metadata": {},
     "output_type": "execute_result"
    }
   ],
   "source": [
    "dic_int_list[2]['Subject']"
   ]
  },
  {
   "cell_type": "code",
   "execution_count": 16,
   "id": "7cb6b9db",
   "metadata": {},
   "outputs": [],
   "source": [
    "miscList = [1000, 50.5, True, 'Nasir', {200}, (100,200),{'Country': 'USA'},[3,4,5]]"
   ]
  },
  {
   "cell_type": "code",
   "execution_count": 17,
   "id": "829a068c",
   "metadata": {},
   "outputs": [
    {
     "data": {
      "text/plain": [
       "[1000, 50.5, True, 'Nasir', {200}, (100, 200), {'Country': 'USA'}, [3, 4, 5]]"
      ]
     },
     "execution_count": 17,
     "metadata": {},
     "output_type": "execute_result"
    }
   ],
   "source": [
    "miscList"
   ]
  },
  {
   "cell_type": "code",
   "execution_count": 21,
   "id": "b158a745",
   "metadata": {},
   "outputs": [
    {
     "data": {
      "text/plain": [
       "{200}"
      ]
     },
     "execution_count": 21,
     "metadata": {},
     "output_type": "execute_result"
    }
   ],
   "source": [
    "miscList[4]"
   ]
  },
  {
   "cell_type": "code",
   "execution_count": 25,
   "id": "edcbf7fb",
   "metadata": {},
   "outputs": [],
   "source": [
    "newDictionary={'Students': ['Asad', 'Fahad', 'Hassan', 'Nasir', 'Karim', 'Rehan'],\n",
    "               'Courses' : ['Python', 'GD', 'WEb', 'Networking', 'ChatBot', 'Python'],\n",
    "               'Day'     : ['MOnday', 'Tuesday', 'Wednesday', 'Thursday', 'Friday', 'Sarturday'],\n",
    "               'Ages'    : [34, 56, 34, 23, 19, 20]}"
   ]
  },
  {
   "cell_type": "code",
   "execution_count": 26,
   "id": "b2033a42",
   "metadata": {},
   "outputs": [],
   "source": [
    "old_Dic = newDictionary.copy()"
   ]
  },
  {
   "cell_type": "code",
   "execution_count": 27,
   "id": "0b11b05b",
   "metadata": {},
   "outputs": [],
   "source": [
    "old_Dic.clear()"
   ]
  },
  {
   "cell_type": "code",
   "execution_count": 28,
   "id": "1f2b6dfa",
   "metadata": {},
   "outputs": [
    {
     "data": {
      "text/plain": [
       "{}"
      ]
     },
     "execution_count": 28,
     "metadata": {},
     "output_type": "execute_result"
    }
   ],
   "source": [
    "old_Dic"
   ]
  },
  {
   "cell_type": "code",
   "execution_count": 29,
   "id": "80bb5071",
   "metadata": {},
   "outputs": [
    {
     "data": {
      "text/plain": [
       "{1000: None, 2000: None, 3000: None, 4000: None}"
      ]
     },
     "execution_count": 29,
     "metadata": {},
     "output_type": "execute_result"
    }
   ],
   "source": [
    "newDictionary.fromkeys([1000,2000,3000,4000])"
   ]
  },
  {
   "cell_type": "code",
   "execution_count": 31,
   "id": "0ea14f6d",
   "metadata": {},
   "outputs": [
    {
     "data": {
      "text/plain": [
       "[34, 56, 34, 23, 19, 20]"
      ]
     },
     "execution_count": 31,
     "metadata": {},
     "output_type": "execute_result"
    }
   ],
   "source": [
    "newDictionary.get(\"Ages\")\n",
    "newDictionary[\"Ages\"]"
   ]
  },
  {
   "cell_type": "code",
   "execution_count": 33,
   "id": "ca0491b9",
   "metadata": {},
   "outputs": [
    {
     "data": {
      "text/plain": [
       "['Python', 'GD', 'WEb', 'Networking', 'ChatBot', 'Python']"
      ]
     },
     "execution_count": 33,
     "metadata": {},
     "output_type": "execute_result"
    }
   ],
   "source": [
    "poppedKey = newDictionary.pop('Courses')\n",
    "poppedKey"
   ]
  },
  {
   "cell_type": "code",
   "execution_count": 34,
   "id": "182b45dc",
   "metadata": {},
   "outputs": [
    {
     "data": {
      "text/plain": [
       "{'Students': ['Asad', 'Fahad', 'Hassan', 'Nasir', 'Karim', 'Rehan'],\n",
       " 'Day': ['MOnday', 'Tuesday', 'Wednesday', 'Thursday', 'Friday', 'Sarturday'],\n",
       " 'Ages': [34, 56, 34, 23, 19, 20]}"
      ]
     },
     "execution_count": 34,
     "metadata": {},
     "output_type": "execute_result"
    }
   ],
   "source": [
    "newDictionary"
   ]
  },
  {
   "cell_type": "code",
   "execution_count": 36,
   "id": "bc611489",
   "metadata": {},
   "outputs": [],
   "source": [
    "del newDictionary['Day']"
   ]
  },
  {
   "cell_type": "code",
   "execution_count": 37,
   "id": "c304390a",
   "metadata": {},
   "outputs": [
    {
     "data": {
      "text/plain": [
       "{'Students': ['Asad', 'Fahad', 'Hassan', 'Nasir', 'Karim', 'Rehan'],\n",
       " 'Ages': [34, 56, 34, 23, 19, 20]}"
      ]
     },
     "execution_count": 37,
     "metadata": {},
     "output_type": "execute_result"
    }
   ],
   "source": [
    "newDictionary"
   ]
  },
  {
   "cell_type": "code",
   "execution_count": 39,
   "id": "da7809f3",
   "metadata": {},
   "outputs": [],
   "source": [
    "x = newDictionary.popitem()"
   ]
  },
  {
   "cell_type": "code",
   "execution_count": 40,
   "id": "e9a23b58",
   "metadata": {},
   "outputs": [
    {
     "data": {
      "text/plain": [
       "('Ages', [34, 56, 34, 23, 19, 20])"
      ]
     },
     "execution_count": 40,
     "metadata": {},
     "output_type": "execute_result"
    }
   ],
   "source": [
    "x"
   ]
  },
  {
   "cell_type": "code",
   "execution_count": 41,
   "id": "a566d443",
   "metadata": {},
   "outputs": [],
   "source": [
    "y = newDictionary.popitem()"
   ]
  },
  {
   "cell_type": "code",
   "execution_count": 42,
   "id": "6e972ac6",
   "metadata": {},
   "outputs": [
    {
     "data": {
      "text/plain": [
       "('Students', ['Asad', 'Fahad', 'Hassan', 'Nasir', 'Karim', 'Rehan'])"
      ]
     },
     "execution_count": 42,
     "metadata": {},
     "output_type": "execute_result"
    }
   ],
   "source": [
    "y"
   ]
  },
  {
   "cell_type": "code",
   "execution_count": 43,
   "id": "2b88a504",
   "metadata": {},
   "outputs": [
    {
     "data": {
      "text/plain": [
       "{}"
      ]
     },
     "execution_count": 43,
     "metadata": {},
     "output_type": "execute_result"
    }
   ],
   "source": [
    "newDictionary"
   ]
  },
  {
   "cell_type": "code",
   "execution_count": 59,
   "id": "35266c31",
   "metadata": {},
   "outputs": [
    {
     "name": "stdout",
     "output_type": "stream",
     "text": [
      "Enter the student's name: A\n",
      "Enter the student's score (0-10): 10\n",
      "Enter the student's name: B\n",
      "Enter the student's score (0-10): 8\n",
      "Enter the student's name: C\n",
      "Enter the student's score (0-10): 9\n",
      "Enter the student's name: A\n",
      "Enter the student's score (0-10): 8\n",
      "Enter the student's name: C\n",
      "Enter the student's score (0-10): 3\n",
      "Enter the student's name: \n",
      "A : 9.0\n",
      "B : 8.0\n",
      "C : 6.0\n"
     ]
    }
   ],
   "source": [
    "school_class = {}\n",
    "\n",
    "while True:\n",
    "    name = input(\"Enter the student's name: \")\n",
    "    if name == '':\n",
    "        break\n",
    "    \n",
    "    score = int(input(\"Enter the student's score (0-10): \"))\n",
    "    if score not in range(0, 11):\n",
    "        break\n",
    "    \n",
    "    if name in school_class:\n",
    "        school_class[name] += (score,)\n",
    "    else:\n",
    "        school_class[name] = (score,)\n",
    "        \n",
    "\n",
    "for name in sorted(school_class.keys()):\n",
    "    adding = 0\n",
    "    counter = 0\n",
    "    for score in school_class[name]:\n",
    "        adding += score\n",
    "        counter += 1\n",
    "    print(name, \":\", adding / counter)\n"
   ]
  },
  {
   "cell_type": "code",
   "execution_count": 45,
   "id": "61aa74e4",
   "metadata": {},
   "outputs": [],
   "source": []
  },
  {
   "cell_type": "code",
   "execution_count": 46,
   "id": "490a6634",
   "metadata": {},
   "outputs": [],
   "source": []
  },
  {
   "cell_type": "code",
   "execution_count": 47,
   "id": "6ec32735",
   "metadata": {},
   "outputs": [
    {
     "data": {
      "text/plain": [
       "[0, 1, 2, 2, 3, 4, 10, 21, 23, 56]"
      ]
     },
     "execution_count": 47,
     "metadata": {},
     "output_type": "execute_result"
    }
   ],
   "source": [
    "a"
   ]
  },
  {
   "cell_type": "code",
   "execution_count": 48,
   "id": "c8169ff8",
   "metadata": {},
   "outputs": [
    {
     "data": {
      "text/plain": [
       "[0, 1, 2, 2, 3, 4, 10, 21, 23, 56]"
      ]
     },
     "execution_count": 48,
     "metadata": {},
     "output_type": "execute_result"
    }
   ],
   "source": [
    "sorted(a)"
   ]
  },
  {
   "cell_type": "code",
   "execution_count": 55,
   "id": "88ea9b59",
   "metadata": {},
   "outputs": [],
   "source": [
    "a = (100,)"
   ]
  },
  {
   "cell_type": "code",
   "execution_count": 56,
   "id": "39687e62",
   "metadata": {},
   "outputs": [
    {
     "data": {
      "text/plain": [
       "(100,)"
      ]
     },
     "execution_count": 56,
     "metadata": {},
     "output_type": "execute_result"
    }
   ],
   "source": [
    "a"
   ]
  },
  {
   "cell_type": "markdown",
   "id": "659349a3",
   "metadata": {},
   "source": [
    "# Functions"
   ]
  },
  {
   "cell_type": "code",
   "execution_count": 64,
   "id": "fa23f9ef",
   "metadata": {},
   "outputs": [],
   "source": [
    "# define\n",
    "def add_two_numbers():\n",
    "    a = 10\n",
    "    b = 20\n",
    "    print(a + b)"
   ]
  },
  {
   "cell_type": "code",
   "execution_count": 66,
   "id": "0bbc4c74",
   "metadata": {},
   "outputs": [
    {
     "name": "stdout",
     "output_type": "stream",
     "text": [
      "30\n"
     ]
    }
   ],
   "source": [
    "# call \n",
    "add_two_numbers()"
   ]
  },
  {
   "cell_type": "code",
   "execution_count": 70,
   "id": "38b04040",
   "metadata": {},
   "outputs": [],
   "source": [
    "def add_two_numbers():\n",
    "    a = float(input(\"Enter first number\"))# string\n",
    "    b = float(input(\"Enter second number\")) # string\n",
    "    print(a + b)"
   ]
  },
  {
   "cell_type": "code",
   "execution_count": 71,
   "id": "32fbd061",
   "metadata": {},
   "outputs": [
    {
     "name": "stdout",
     "output_type": "stream",
     "text": [
      "Enter first number4\n",
      "Enter second number6\n",
      "10.0\n"
     ]
    }
   ],
   "source": [
    "add_two_numbers()"
   ]
  },
  {
   "cell_type": "code",
   "execution_count": 75,
   "id": "405d9c64",
   "metadata": {},
   "outputs": [],
   "source": [
    "def students_detail():\n",
    "    name = input(\"Name=>\")\n",
    "    father = input(\"Father Name+>\")\n",
    "    rollNum = input(\"Roll Number=>\")\n",
    "    course = input(\"Course=>\")\n",
    "    timings = input(\"Time=>\")\n",
    "    institute= input (\"Institute\")\n",
    "    \n",
    "    print(f\"\"\"\n",
    "    Name of Student: {name}\n",
    "    Father Name    : {father}\n",
    "    Roll Number    : {rollNum}\n",
    "    Course         : {course}\n",
    "    Timings        : {timings}\n",
    "    Institute      : {institute}\n",
    "    \"\"\")\n",
    "    # tripple quoates allow us to wrirte a string in multiple lines "
   ]
  },
  {
   "cell_type": "code",
   "execution_count": 76,
   "id": "90c581a4",
   "metadata": {},
   "outputs": [
    {
     "name": "stdout",
     "output_type": "stream",
     "text": [
      "Name=>Nasir Hussain\n",
      "Father Name+>Abdul Latif\n",
      "Roll Number=>SMIT25401\n",
      "Course=>Python Programming\n",
      "Time=>9 - 11\n",
      "InstituteSaylani Mass IT Training(Online)\n",
      "\n",
      "    Name of Student: Nasir Hussain\n",
      "    Father Name    : Abdul Latif\n",
      "    Roll Number    : SMIT25401\n",
      "    Course         : Python Programming\n",
      "    Timings        : 9 - 11\n",
      "    Institute      : Saylani Mass IT Training(Online)\n",
      "    \n"
     ]
    }
   ],
   "source": [
    "students_detail()"
   ]
  },
  {
   "cell_type": "code",
   "execution_count": 77,
   "id": "9cf7585d",
   "metadata": {},
   "outputs": [
    {
     "name": "stdout",
     "output_type": "stream",
     "text": [
      "Name=>Asad\n",
      "Father Name+>Ali\n",
      "Roll Number=>123\n",
      "Course=>Python\n",
      "Time=>3-5\n",
      "InstituteSMIT\n",
      "\n",
      "    Name of Student: Asad\n",
      "    Father Name    : Ali\n",
      "    Roll Number    : 123\n",
      "    Course         : Python\n",
      "    Timings        : 3-5\n",
      "    Institute      : SMIT\n",
      "    \n"
     ]
    }
   ],
   "source": [
    "students_detail()"
   ]
  },
  {
   "cell_type": "code",
   "execution_count": null,
   "id": "ce0399ba",
   "metadata": {},
   "outputs": [],
   "source": []
  },
  {
   "cell_type": "code",
   "execution_count": null,
   "id": "7a3105a3",
   "metadata": {},
   "outputs": [],
   "source": []
  },
  {
   "cell_type": "code",
   "execution_count": null,
   "id": "99d79815",
   "metadata": {},
   "outputs": [],
   "source": []
  },
  {
   "cell_type": "code",
   "execution_count": null,
   "id": "f4f0d507",
   "metadata": {},
   "outputs": [],
   "source": []
  },
  {
   "cell_type": "code",
   "execution_count": null,
   "id": "63a9dbd6",
   "metadata": {},
   "outputs": [],
   "source": []
  },
  {
   "cell_type": "code",
   "execution_count": null,
   "id": "d55e9f16",
   "metadata": {},
   "outputs": [],
   "source": []
  },
  {
   "cell_type": "code",
   "execution_count": null,
   "id": "b37765cd",
   "metadata": {},
   "outputs": [],
   "source": []
  },
  {
   "cell_type": "code",
   "execution_count": null,
   "id": "90034a8f",
   "metadata": {},
   "outputs": [],
   "source": []
  },
  {
   "cell_type": "code",
   "execution_count": null,
   "id": "49263444",
   "metadata": {},
   "outputs": [],
   "source": []
  },
  {
   "cell_type": "code",
   "execution_count": 67,
   "id": "77576cd6",
   "metadata": {},
   "outputs": [
    {
     "name": "stdout",
     "output_type": "stream",
     "text": [
      "30\n"
     ]
    }
   ],
   "source": [
    "add_two_numbers()"
   ]
  },
  {
   "cell_type": "code",
   "execution_count": null,
   "id": "44b363c2",
   "metadata": {},
   "outputs": [],
   "source": []
  }
 ],
 "metadata": {
  "kernelspec": {
   "display_name": "Python 3 (ipykernel)",
   "language": "python",
   "name": "python3"
  },
  "language_info": {
   "codemirror_mode": {
    "name": "ipython",
    "version": 3
   },
   "file_extension": ".py",
   "mimetype": "text/x-python",
   "name": "python",
   "nbconvert_exporter": "python",
   "pygments_lexer": "ipython3",
   "version": "3.9.7"
  }
 },
 "nbformat": 4,
 "nbformat_minor": 5
}

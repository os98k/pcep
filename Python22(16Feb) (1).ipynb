{
 "cells": [
  {
   "cell_type": "code",
   "execution_count": 1,
   "id": "aa5ffaca",
   "metadata": {},
   "outputs": [],
   "source": [
    "class Car(): \n",
    "    def __init__(self, make, model, year):\n",
    "        self.make = make\n",
    "        self.model = model\n",
    "        self.year = year\n",
    "\n",
    "    def get_descriptive_name(self):        \n",
    "        long_name = str(self.year) + ' ' + self.make + ' ' + self.model\n",
    "        return long_name.title()"
   ]
  },
  {
   "cell_type": "code",
   "execution_count": 2,
   "id": "8a9c0b7e",
   "metadata": {},
   "outputs": [],
   "source": [
    "my_new_car = Car('audi', 'a4', 2016)"
   ]
  },
  {
   "cell_type": "code",
   "execution_count": 4,
   "id": "c693c40e",
   "metadata": {},
   "outputs": [
    {
     "name": "stdout",
     "output_type": "stream",
     "text": [
      "2016 Audi A4\n"
     ]
    }
   ],
   "source": [
    "print(my_new_car.get_descriptive_name())"
   ]
  },
  {
   "cell_type": "markdown",
   "id": "e3b6fbdc",
   "metadata": {},
   "source": [
    "# Setting a Default Value for an Attribute"
   ]
  },
  {
   "cell_type": "code",
   "execution_count": 7,
   "id": "696c01c9",
   "metadata": {},
   "outputs": [],
   "source": [
    "# default attribute means it will be set to all objects \n",
    "\n",
    "class Car(): \n",
    "    def __init__(self, make, model, year):\n",
    "        self.make = make\n",
    "        self.model = model\n",
    "        self.year = year\n",
    "        self.odometer_reading = 0\n",
    "\n",
    "    def get_descriptive_name(self):        \n",
    "        long_name = str(self.year) + ' ' + self.make + ' ' + self.model\n",
    "        return long_name.title()\n",
    "    \n",
    "    def read_odometer(self):\n",
    "        print(\"This car has \" + str(self.odometer_reading) + \" miles on it.\")"
   ]
  },
  {
   "cell_type": "code",
   "execution_count": 8,
   "id": "48474525",
   "metadata": {},
   "outputs": [],
   "source": [
    "new_car = Car('audi', 'a4', 2016)"
   ]
  },
  {
   "cell_type": "code",
   "execution_count": 9,
   "id": "3807a7ab",
   "metadata": {},
   "outputs": [
    {
     "name": "stdout",
     "output_type": "stream",
     "text": [
      "This car has 0 miles on it.\n"
     ]
    }
   ],
   "source": [
    "new_car.read_odometer()"
   ]
  },
  {
   "cell_type": "code",
   "execution_count": 10,
   "id": "478c8850",
   "metadata": {},
   "outputs": [],
   "source": [
    "new_car.odometer_reading=100"
   ]
  },
  {
   "cell_type": "code",
   "execution_count": 11,
   "id": "53eaac31",
   "metadata": {},
   "outputs": [
    {
     "name": "stdout",
     "output_type": "stream",
     "text": [
      "This car has 100 miles on it.\n"
     ]
    }
   ],
   "source": [
    "new_car.read_odometer()"
   ]
  },
  {
   "cell_type": "code",
   "execution_count": 12,
   "id": "32ff4913",
   "metadata": {},
   "outputs": [],
   "source": [
    "car1 = Car(\"CIVIC\", 'Rebond', 2015)"
   ]
  },
  {
   "cell_type": "code",
   "execution_count": 13,
   "id": "9a219c71",
   "metadata": {},
   "outputs": [
    {
     "name": "stdout",
     "output_type": "stream",
     "text": [
      "This car has 0 miles on it.\n"
     ]
    }
   ],
   "source": [
    "car1.read_odometer()"
   ]
  },
  {
   "cell_type": "markdown",
   "id": "7a7f528f",
   "metadata": {},
   "source": [
    "# Modifying an Attribute’s Value Through a Method"
   ]
  },
  {
   "cell_type": "code",
   "execution_count": 14,
   "id": "af95a01a",
   "metadata": {},
   "outputs": [],
   "source": [
    "class Car(): \n",
    "    def __init__(self, make, model, year):\n",
    "        self.make = make\n",
    "        self.model = model\n",
    "        self.year = year\n",
    "        self.odometer_reading = 0\n",
    "\n",
    "    def get_descriptive_name(self):        \n",
    "        long_name = str(self.year) + ' ' + self.make + ' ' + self.model\n",
    "        return long_name.title()\n",
    "    \n",
    "    def read_odometer(self):\n",
    "        print(\"This car has \" + str(self.odometer_reading) + \" miles on it.\")\n",
    "    \n",
    "    def update_odometer(self, mileage):\n",
    "        \"\"\"Set the odometer reading to the given value.\"\"\"\n",
    "        self.odometer_reading = mileage"
   ]
  },
  {
   "cell_type": "code",
   "execution_count": 15,
   "id": "69ac1c44",
   "metadata": {},
   "outputs": [],
   "source": [
    "car2 = Car(\"CIVIC\", 'Rebond', 2010)"
   ]
  },
  {
   "cell_type": "code",
   "execution_count": 16,
   "id": "d49cf075",
   "metadata": {},
   "outputs": [
    {
     "data": {
      "text/plain": [
       "'2010 Civic Rebond'"
      ]
     },
     "execution_count": 16,
     "metadata": {},
     "output_type": "execute_result"
    }
   ],
   "source": [
    "car2.get_descriptive_name()"
   ]
  },
  {
   "cell_type": "code",
   "execution_count": 17,
   "id": "696b641c",
   "metadata": {},
   "outputs": [
    {
     "name": "stdout",
     "output_type": "stream",
     "text": [
      "This car has 0 miles on it.\n"
     ]
    }
   ],
   "source": [
    "car2.read_odometer()"
   ]
  },
  {
   "cell_type": "code",
   "execution_count": 19,
   "id": "984bb581",
   "metadata": {},
   "outputs": [],
   "source": [
    "car2.update_odometer(500)"
   ]
  },
  {
   "cell_type": "code",
   "execution_count": 20,
   "id": "30bed90d",
   "metadata": {},
   "outputs": [
    {
     "name": "stdout",
     "output_type": "stream",
     "text": [
      "This car has 500 miles on it.\n"
     ]
    }
   ],
   "source": [
    "car2.read_odometer()"
   ]
  },
  {
   "cell_type": "code",
   "execution_count": 21,
   "id": "df015f15",
   "metadata": {},
   "outputs": [],
   "source": [
    "class Car(): \n",
    "    def __init__(self, make, model, year):\n",
    "        self.make = make\n",
    "        self.model = model\n",
    "        self.year = year\n",
    "        self.odometer_reading = 0\n",
    "\n",
    "    def get_descriptive_name(self):        \n",
    "        long_name = str(self.year) + ' ' + self.make + ' ' + self.model\n",
    "        return long_name.title()\n",
    "    \n",
    "    def read_odometer(self):\n",
    "        print(\"This car has \" + str(self.odometer_reading) + \" miles on it.\")\n",
    "    \n",
    "    def update_odometer(self, mileage):        \n",
    "        if mileage >= self.odometer_reading:\n",
    "            self.odometer_reading = mileage\n",
    "        else:\n",
    "            print(\"You can't roll back an odometer!\")"
   ]
  },
  {
   "cell_type": "code",
   "execution_count": 22,
   "id": "ecc2790a",
   "metadata": {},
   "outputs": [],
   "source": [
    "car4 = Car(\"Honda\", 'CITY', 2019)"
   ]
  },
  {
   "cell_type": "code",
   "execution_count": 23,
   "id": "5922dc40",
   "metadata": {},
   "outputs": [
    {
     "name": "stdout",
     "output_type": "stream",
     "text": [
      "This car has 0 miles on it.\n"
     ]
    }
   ],
   "source": [
    "car4.read_odometer()"
   ]
  },
  {
   "cell_type": "code",
   "execution_count": 24,
   "id": "c1a1957d",
   "metadata": {},
   "outputs": [],
   "source": [
    "car4.update_odometer(100)"
   ]
  },
  {
   "cell_type": "code",
   "execution_count": 25,
   "id": "ccd2323e",
   "metadata": {},
   "outputs": [
    {
     "name": "stdout",
     "output_type": "stream",
     "text": [
      "This car has 100 miles on it.\n"
     ]
    }
   ],
   "source": [
    "car4.read_odometer()"
   ]
  },
  {
   "cell_type": "code",
   "execution_count": 26,
   "id": "56cd627a",
   "metadata": {},
   "outputs": [
    {
     "name": "stdout",
     "output_type": "stream",
     "text": [
      "You can't roll back an odometer!\n"
     ]
    }
   ],
   "source": [
    "car4.update_odometer(75)"
   ]
  },
  {
   "cell_type": "markdown",
   "id": "929339a9",
   "metadata": {},
   "source": [
    "# Incrementing an Attribute’s Value Through a Method"
   ]
  },
  {
   "cell_type": "code",
   "execution_count": 27,
   "id": "30b82c91",
   "metadata": {},
   "outputs": [],
   "source": [
    "class Car(): \n",
    "    def __init__(self, make, model, year):\n",
    "        self.make = make\n",
    "        self.model = model\n",
    "        self.year = year\n",
    "        self.odometer_reading = 0\n",
    "\n",
    "    def get_descriptive_name(self):        \n",
    "        long_name = str(self.year) + ' ' + self.make + ' ' + self.model\n",
    "        return long_name.title()\n",
    "    \n",
    "    def read_odometer(self):\n",
    "        print(\"This car has \" + str(self.odometer_reading) + \" miles on it.\")\n",
    "    \n",
    "    def update_odometer(self, mileage):        \n",
    "        if mileage >= self.odometer_reading:\n",
    "            self.odometer_reading = mileage\n",
    "        else:\n",
    "            print(\"You can't roll back an odometer!\")\n",
    "    def increment_odometer(self, miles):\n",
    "        self.odometer_reading +=miles\n",
    "        "
   ]
  },
  {
   "cell_type": "code",
   "execution_count": 28,
   "id": "c8e618c3",
   "metadata": {},
   "outputs": [],
   "source": [
    "car5 = Car(\"Honda\", 'CITY', 2019)"
   ]
  },
  {
   "cell_type": "code",
   "execution_count": 29,
   "id": "1867cd27",
   "metadata": {},
   "outputs": [
    {
     "name": "stdout",
     "output_type": "stream",
     "text": [
      "This car has 0 miles on it.\n"
     ]
    }
   ],
   "source": [
    "car5.read_odometer()"
   ]
  },
  {
   "cell_type": "code",
   "execution_count": 30,
   "id": "5b6cc0a7",
   "metadata": {},
   "outputs": [],
   "source": [
    "car5.update_odometer(300)"
   ]
  },
  {
   "cell_type": "code",
   "execution_count": 31,
   "id": "0fbe4153",
   "metadata": {},
   "outputs": [
    {
     "name": "stdout",
     "output_type": "stream",
     "text": [
      "This car has 300 miles on it.\n"
     ]
    }
   ],
   "source": [
    "car5.read_odometer()"
   ]
  },
  {
   "cell_type": "code",
   "execution_count": 32,
   "id": "78fbb98a",
   "metadata": {},
   "outputs": [],
   "source": [
    "car5.increment_odometer(15)"
   ]
  },
  {
   "cell_type": "code",
   "execution_count": 33,
   "id": "2b5ac29b",
   "metadata": {},
   "outputs": [
    {
     "name": "stdout",
     "output_type": "stream",
     "text": [
      "This car has 315 miles on it.\n"
     ]
    }
   ],
   "source": [
    "car5.read_odometer()"
   ]
  },
  {
   "cell_type": "markdown",
   "id": "8b96b3fe",
   "metadata": {},
   "source": [
    "# Inheritance"
   ]
  },
  {
   "cell_type": "code",
   "execution_count": 40,
   "id": "524b5005",
   "metadata": {},
   "outputs": [],
   "source": [
    "class ElectricCar(Car):\n",
    "    def __init__(self, make, model, year, engine):        \n",
    "        #################################\n",
    "        super().__init__(make, model, year)\n",
    "        \n",
    "        self.engine = engine"
   ]
  },
  {
   "cell_type": "code",
   "execution_count": 41,
   "id": "d35e586a",
   "metadata": {},
   "outputs": [],
   "source": [
    "my_tesla = ElectricCar('tesla', 'models', 2016,\"Engine\") "
   ]
  },
  {
   "cell_type": "code",
   "execution_count": 42,
   "id": "4c8e99f6",
   "metadata": {},
   "outputs": [
    {
     "data": {
      "text/plain": [
       "'2016 Tesla Models'"
      ]
     },
     "execution_count": 42,
     "metadata": {},
     "output_type": "execute_result"
    }
   ],
   "source": [
    "my_tesla.get_descriptive_name()\n"
   ]
  },
  {
   "cell_type": "code",
   "execution_count": 43,
   "id": "f466c800",
   "metadata": {},
   "outputs": [
    {
     "data": {
      "text/plain": [
       "'Engine'"
      ]
     },
     "execution_count": 43,
     "metadata": {},
     "output_type": "execute_result"
    }
   ],
   "source": [
    "my_tesla.engine"
   ]
  },
  {
   "cell_type": "code",
   "execution_count": 45,
   "id": "111d1626",
   "metadata": {},
   "outputs": [],
   "source": [
    "class ElectricCar(Car):\n",
    "    def __init__(self, make, model, year):        \n",
    "        #################################\n",
    "        super().__init__(make, model, year)\n",
    "        \n",
    "        self.battery_size = 70\n",
    "        \n",
    "    def describe_battery(self): \n",
    "        print(\"This car has a \" + str(self.battery_size) + \"-kWh battery.\")"
   ]
  },
  {
   "cell_type": "code",
   "execution_count": 46,
   "id": "d166f9b5",
   "metadata": {},
   "outputs": [],
   "source": [
    "e1 = ElectricCar(\"Elec Car\", \"Latest\", \"2022\")"
   ]
  },
  {
   "cell_type": "code",
   "execution_count": 47,
   "id": "fca4ef95",
   "metadata": {},
   "outputs": [
    {
     "name": "stdout",
     "output_type": "stream",
     "text": [
      "This car has a 70-kWh battery.\n"
     ]
    }
   ],
   "source": [
    "e1.describe_battery()"
   ]
  },
  {
   "cell_type": "markdown",
   "id": "617c5a69",
   "metadata": {},
   "source": [
    "# Overriding Methods from the Parent Class"
   ]
  },
  {
   "cell_type": "code",
   "execution_count": 48,
   "id": "9e1be7bb",
   "metadata": {},
   "outputs": [],
   "source": [
    "class Car(): \n",
    "    def __init__(self, make, model, year):\n",
    "        self.make = make\n",
    "        self.model = model\n",
    "        self.year = year\n",
    "        self.odometer_reading = 0\n",
    "\n",
    "    def get_descriptive_name(self):        \n",
    "        long_name = str(self.year) + ' ' + self.make + ' ' + self.model\n",
    "        return long_name.title()\n",
    "    \n",
    "    def read_odometer(self):\n",
    "        print(\"This car has \" + str(self.odometer_reading) + \" miles on it.\")\n",
    "    \n",
    "    def update_odometer(self, mileage):        \n",
    "        if mileage >= self.odometer_reading:\n",
    "            self.odometer_reading = mileage\n",
    "        else:\n",
    "            print(\"You can't roll back an odometer!\")\n",
    "    def increment_odometer(self, miles):\n",
    "        self.odometer_reading +=miles\n",
    "    \n",
    "    def fill_gas_tank(self):\n",
    "        print(\"Gas tank is being filled\")"
   ]
  },
  {
   "cell_type": "code",
   "execution_count": 58,
   "id": "e25ba79a",
   "metadata": {},
   "outputs": [],
   "source": [
    "class Battery():\n",
    "    def __init__(self,manufac,hp,watts, cells):\n",
    "        self.manufac = manufac\n",
    "        self.hp  = hp\n",
    "        self.watts =watts\n",
    "        self.cells = cells\n",
    "        \n",
    "    def charge(self):\n",
    "        print(\"Battery is charging\")\n",
    "    \n",
    "    def description(self):\n",
    "        print(f\"\"\"\n",
    "                 Battery Details\n",
    "                =================\n",
    "        Manufacturer : {self.manufac}\n",
    "        Horse power   :{self.hp}\n",
    "        Watts         : {self.watts}\n",
    "        NUm of Cells   : {self.cells}\"\"\")\n",
    "    "
   ]
  },
  {
   "cell_type": "code",
   "execution_count": 55,
   "id": "f9a9b962",
   "metadata": {},
   "outputs": [],
   "source": [
    "class ElectricCar(Car):\n",
    "    def __init__(self, make, model, year):        \n",
    "        #################################\n",
    "        super().__init__(make, model, year)\n",
    "        self.battery_size =  70\n",
    "        \n",
    "        \n",
    "        \n",
    "    def describe_battery(self): \n",
    "        print(\"This car has a \" + str(self.battery_size) + \"-kWh battery.\")\n",
    "    \n",
    "    def fill_gas_tank(self):\n",
    "        print(\"Electric car has no gas tank it runs on battery\")\n",
    "        "
   ]
  },
  {
   "cell_type": "code",
   "execution_count": null,
   "id": "91fabda2",
   "metadata": {},
   "outputs": [],
   "source": [
    "e2 = ElectricCar(\"Elec Car\", \"Latest\", \"2022\")"
   ]
  },
  {
   "cell_type": "code",
   "execution_count": 57,
   "id": "f09552b8",
   "metadata": {},
   "outputs": [
    {
     "name": "stdout",
     "output_type": "stream",
     "text": [
      "Electric car has no gas tank it runs on battery\n"
     ]
    }
   ],
   "source": [
    "e2.fill_gas_tank()"
   ]
  },
  {
   "cell_type": "markdown",
   "id": "3b518386",
   "metadata": {},
   "source": [
    "# Instances as Attributes\n",
    "\n",
    "\n",
    "Use of and Object of Class as a variable"
   ]
  },
  {
   "cell_type": "code",
   "execution_count": 59,
   "id": "9292ac2a",
   "metadata": {},
   "outputs": [],
   "source": [
    "class ElectricCar(Car):\n",
    "    def __init__(self, make, model, year):        \n",
    "        #################################\n",
    "        super().__init__(make, model, year)\n",
    "        self.battery = Battery(\"AGS\", 200,230, 27)\n",
    "        \n",
    "    def fill_gas_tank(self):\n",
    "        print(\"Electric car has no gas tank it runs on battery\")\n",
    "        "
   ]
  },
  {
   "cell_type": "code",
   "execution_count": 60,
   "id": "2643b6dd",
   "metadata": {},
   "outputs": [],
   "source": [
    "e5 = ElectricCar(\"Elec Car\", \"Latest\", \"2022\")"
   ]
  },
  {
   "cell_type": "code",
   "execution_count": 61,
   "id": "7704dfd2",
   "metadata": {},
   "outputs": [
    {
     "name": "stdout",
     "output_type": "stream",
     "text": [
      "\n",
      "                 Battery Details\n",
      "                =================\n",
      "        Manufacturer : AGS\n",
      "        Horse power   :200\n",
      "        Watts         : 230\n",
      "        NUm of Cells   : 27\n"
     ]
    }
   ],
   "source": [
    "e5.battery.description()"
   ]
  },
  {
   "cell_type": "code",
   "execution_count": null,
   "id": "cc2ebee3",
   "metadata": {},
   "outputs": [],
   "source": []
  }
 ],
 "metadata": {
  "kernelspec": {
   "display_name": "Python 3 (ipykernel)",
   "language": "python",
   "name": "python3"
  },
  "language_info": {
   "codemirror_mode": {
    "name": "ipython",
    "version": 3
   },
   "file_extension": ".py",
   "mimetype": "text/x-python",
   "name": "python",
   "nbconvert_exporter": "python",
   "pygments_lexer": "ipython3",
   "version": "3.9.7"
  }
 },
 "nbformat": 4,
 "nbformat_minor": 5
}

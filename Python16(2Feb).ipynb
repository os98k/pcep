{
 "cells": [
  {
   "cell_type": "markdown",
   "id": "af971f2c",
   "metadata": {},
   "source": [
    "# Modules  / Libraries /Packages"
   ]
  },
  {
   "cell_type": "markdown",
   "id": "d3313be6",
   "metadata": {},
   "source": [
    "- Built in \n",
    "- User defined"
   ]
  },
  {
   "cell_type": "code",
   "execution_count": null,
   "id": "ea573e44",
   "metadata": {},
   "outputs": [],
   "source": [
    "import math\n",
    "# a module can have classes, fucntions etc "
   ]
  },
  {
   "cell_type": "code",
   "execution_count": null,
   "id": "e20c5ed5",
   "metadata": {},
   "outputs": [],
   "source": [
    "math.ceil(2.7)\n",
    "# it will return the very next integer after 2.7"
   ]
  },
  {
   "cell_type": "code",
   "execution_count": null,
   "id": "51e2bb37",
   "metadata": {},
   "outputs": [],
   "source": [
    "math.floor(2.7)\n",
    "# it will return the very last integer before 2.7"
   ]
  },
  {
   "cell_type": "code",
   "execution_count": null,
   "id": "73e48fd2",
   "metadata": {},
   "outputs": [],
   "source": [
    "math.exp(2)"
   ]
  },
  {
   "cell_type": "code",
   "execution_count": null,
   "id": "959e28a6",
   "metadata": {},
   "outputs": [],
   "source": [
    "math.fmod(2,3)\n",
    "# modulus (%)\n"
   ]
  },
  {
   "cell_type": "code",
   "execution_count": null,
   "id": "b4784504",
   "metadata": {},
   "outputs": [],
   "source": [
    "from math import exp"
   ]
  },
  {
   "cell_type": "code",
   "execution_count": null,
   "id": "db9066d1",
   "metadata": {},
   "outputs": [],
   "source": [
    "exp(2)"
   ]
  },
  {
   "cell_type": "code",
   "execution_count": null,
   "id": "fab78d7e",
   "metadata": {},
   "outputs": [],
   "source": [
    "import mymodule"
   ]
  },
  {
   "cell_type": "code",
   "execution_count": null,
   "id": "b8abf94a",
   "metadata": {},
   "outputs": [],
   "source": [
    "mymodule.square_of_a_number(12)"
   ]
  },
  {
   "cell_type": "code",
   "execution_count": null,
   "id": "eb8cc600",
   "metadata": {},
   "outputs": [],
   "source": [
    "myalbum = mymodule.make_album(\"Nasir\",\"Mera Album\",10)"
   ]
  },
  {
   "cell_type": "code",
   "execution_count": null,
   "id": "b68df731",
   "metadata": {},
   "outputs": [],
   "source": [
    "myalbum"
   ]
  },
  {
   "cell_type": "code",
   "execution_count": null,
   "id": "bb8675b5",
   "metadata": {},
   "outputs": [],
   "source": [
    "from mymodule import make_album"
   ]
  },
  {
   "cell_type": "code",
   "execution_count": null,
   "id": "701ef71e",
   "metadata": {},
   "outputs": [],
   "source": [
    "make_album(\"Asad\", \"Hawaen\", 41)"
   ]
  },
  {
   "cell_type": "code",
   "execution_count": null,
   "id": "cde21d61",
   "metadata": {},
   "outputs": [],
   "source": [
    "import mymodule as mm"
   ]
  },
  {
   "cell_type": "code",
   "execution_count": null,
   "id": "d93ad445",
   "metadata": {},
   "outputs": [],
   "source": [
    "mm.square_of_a_number(8)"
   ]
  },
  {
   "cell_type": "code",
   "execution_count": null,
   "id": "50ad7b0e",
   "metadata": {},
   "outputs": [],
   "source": [
    "mm.square_of_a_number(7)"
   ]
  },
  {
   "cell_type": "code",
   "execution_count": null,
   "id": "0865f805",
   "metadata": {},
   "outputs": [],
   "source": [
    "# %load mymodule.py\n",
    "print(\"Module Starts here\")\n",
    "\n",
    "def square_of_a_number(num):\n",
    "    \n",
    "    square = num**2# local variable\n",
    "    \n",
    "    return square, f\"I am sqaured of {num}\" \n",
    "\n",
    "\n",
    "def make_album(artist_name,album_title, num_of_tracks=\"\"):\n",
    "    \n",
    "    album_dic ={'artist':artist_name, 'album':album_title}\n",
    "    if num_of_tracks:\n",
    "        album_dic['tracks']=num_of_tracks\n",
    "    \n",
    "    return album_dic\n",
    "print(\"Module interpreted Successfully...\")"
   ]
  },
  {
   "cell_type": "markdown",
   "id": "a506ea59",
   "metadata": {},
   "source": [
    "# Exceptions"
   ]
  },
  {
   "cell_type": "markdown",
   "id": "2d2be864",
   "metadata": {},
   "source": [
    "\"Exceptions are discussed in private\""
   ]
  },
  {
   "cell_type": "raw",
   "id": "b62a3bff",
   "metadata": {},
   "source": [
    "valid syntax: an integer can divide another intger\n",
    "12/12, 3/ 5/6\n",
    "\n",
    "but 0 which is also an integer can not divide any integer"
   ]
  },
  {
   "cell_type": "code",
   "execution_count": null,
   "id": "398ef147",
   "metadata": {},
   "outputs": [],
   "source": [
    "12/0"
   ]
  },
  {
   "cell_type": "code",
   "execution_count": null,
   "id": "b52d9888",
   "metadata": {},
   "outputs": [],
   "source": [
    "a = int(input(\"Tell me a number\"))\n",
    "print(a)"
   ]
  },
  {
   "cell_type": "code",
   "execution_count": 4,
   "id": "238552c2",
   "metadata": {},
   "outputs": [
    {
     "name": "stdout",
     "output_type": "stream",
     "text": [
      "Enter a number to be divided4\n",
      "Enter a number to divide num12\n",
      "2.0\n"
     ]
    }
   ],
   "source": [
    "num1 = int(input(\"Enter a number to be divided\"))\n",
    "num2 = int(input(\"Enter a number to divide num1\"))\n",
    "res = None\n",
    "try:\n",
    "    res = num1/num2\n",
    "    print(res)\n",
    "\n",
    "except ZeroDivisionError:\n",
    "    print(\"You can not divide an integer by 0\")\n",
    "\n"
   ]
  },
  {
   "cell_type": "code",
   "execution_count": 9,
   "id": "a53be61d",
   "metadata": {},
   "outputs": [
    {
     "name": "stdout",
     "output_type": "stream",
     "text": [
      "Enter a number to be divided2.3\n",
      "Insan ka bacha ban ja warna ghar akar marunga\n"
     ]
    }
   ],
   "source": [
    "try:\n",
    "    num1 = int(input(\"Enter a number to be divided\"))\n",
    "    num2 = int(input(\"Enter a number to divide num1\"))\n",
    "    res = num1/num2\n",
    "    print(res)\n",
    "    \n",
    "except ZeroDivisionError:\n",
    "    print(\"You can not divide an integer by 0\")\n",
    "except ValueError:\n",
    "    print(\"Insan ka bacha ban ja warna ghar akar marunga\")\n"
   ]
  },
  {
   "cell_type": "code",
   "execution_count": 15,
   "id": "c72c2ece",
   "metadata": {},
   "outputs": [
    {
     "name": "stdout",
     "output_type": "stream",
     "text": [
      "Enter a number to be divided3\n",
      "Enter a number to divide num10\n",
      "Acception was generated and caught successfully\n",
      "division by zero\n"
     ]
    }
   ],
   "source": [
    "try:\n",
    "    num1 = int(input(\"Enter a number to be divided\"))\n",
    "    num2 = int(input(\"Enter a number to divide num1\"))\n",
    "    res = num1/num2\n",
    "    print(res)\n",
    "    \n",
    "except Exception as e:\n",
    "    print(\"Acception was generated and caught successfully\\n\" + str(e))"
   ]
  },
  {
   "cell_type": "code",
   "execution_count": null,
   "id": "8f2fce92",
   "metadata": {},
   "outputs": [],
   "source": [
    "try except raise else finally "
   ]
  }
 ],
 "metadata": {
  "kernelspec": {
   "display_name": "Python 3 (ipykernel)",
   "language": "python",
   "name": "python3"
  },
  "language_info": {
   "codemirror_mode": {
    "name": "ipython",
    "version": 3
   },
   "file_extension": ".py",
   "mimetype": "text/x-python",
   "name": "python",
   "nbconvert_exporter": "python",
   "pygments_lexer": "ipython3",
   "version": "3.9.7"
  }
 },
 "nbformat": 4,
 "nbformat_minor": 5
}

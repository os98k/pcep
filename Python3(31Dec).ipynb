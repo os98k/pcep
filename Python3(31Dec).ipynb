{
 "cells": [
  {
   "cell_type": "markdown",
   "id": "52b57ee9",
   "metadata": {},
   "source": [
    "# Python Class3"
   ]
  },
  {
   "cell_type": "raw",
   "id": "78d7b11b",
   "metadata": {},
   "source": [
    "Today is our class # 3. We will study in detail \n",
    "- String \n",
    "- Number System\n",
    "- variable names\n",
    "- operators"
   ]
  },
  {
   "cell_type": "markdown",
   "id": "15ed0c37",
   "metadata": {},
   "source": [
    "# Last Class\n",
    "- Data Types\n",
    "    - String (str)\n",
    "    - NUmbers \n",
    "       - Integers (int)\n",
    "       - Decimal (Float)\n",
    "       - Boolean (Bool) "
   ]
  },
  {
   "cell_type": "code",
   "execution_count": 1,
   "id": "b891d5f9",
   "metadata": {},
   "outputs": [],
   "source": [
    "age  = 100"
   ]
  },
  {
   "cell_type": "code",
   "execution_count": 2,
   "id": "f5334cd6",
   "metadata": {},
   "outputs": [
    {
     "name": "stdout",
     "output_type": "stream",
     "text": [
      "age\n"
     ]
    }
   ],
   "source": [
    "print(\"age\")"
   ]
  },
  {
   "cell_type": "code",
   "execution_count": 3,
   "id": "043ed41e",
   "metadata": {},
   "outputs": [
    {
     "name": "stdout",
     "output_type": "stream",
     "text": [
      "100\n"
     ]
    }
   ],
   "source": [
    "print(age)"
   ]
  },
  {
   "cell_type": "markdown",
   "id": "7055839a",
   "metadata": {},
   "source": [
    "# String Concatenation(+)"
   ]
  },
  {
   "cell_type": "code",
   "execution_count": 4,
   "id": "e3012545",
   "metadata": {},
   "outputs": [],
   "source": [
    "firstname = \"Nasir\"\n",
    "lastname = \"Hussain\""
   ]
  },
  {
   "cell_type": "code",
   "execution_count": 9,
   "id": "f3707846",
   "metadata": {},
   "outputs": [
    {
     "name": "stdout",
     "output_type": "stream",
     "text": [
      "NasirHussain   ooi \n"
     ]
    }
   ],
   "source": [
    "print(firstname + lastname )\n",
    "\n",
    "#concatenation operator"
   ]
  },
  {
   "cell_type": "code",
   "execution_count": 7,
   "id": "feb76021",
   "metadata": {},
   "outputs": [
    {
     "name": "stdout",
     "output_type": "stream",
     "text": [
      "600\n"
     ]
    }
   ],
   "source": [
    "print(100 + 500)\n",
    "# addition operator"
   ]
  },
  {
   "cell_type": "code",
   "execution_count": 8,
   "id": "cc3cae52",
   "metadata": {},
   "outputs": [
    {
     "ename": "TypeError",
     "evalue": "can only concatenate str (not \"int\") to str",
     "output_type": "error",
     "traceback": [
      "\u001b[1;31m---------------------------------------------------------------------------\u001b[0m",
      "\u001b[1;31mTypeError\u001b[0m                                 Traceback (most recent call last)",
      "\u001b[1;32mC:\\Users\\ADMINI~1\\AppData\\Local\\Temp/ipykernel_14676/1041287269.py\u001b[0m in \u001b[0;36m<module>\u001b[1;34m\u001b[0m\n\u001b[1;32m----> 1\u001b[1;33m \u001b[0mprint\u001b[0m\u001b[1;33m(\u001b[0m\u001b[1;34m\"Pakistan\"\u001b[0m \u001b[1;33m+\u001b[0m \u001b[1;36m1947\u001b[0m\u001b[1;33m)\u001b[0m\u001b[1;33m\u001b[0m\u001b[1;33m\u001b[0m\u001b[0m\n\u001b[0m",
      "\u001b[1;31mTypeError\u001b[0m: can only concatenate str (not \"int\") to str"
     ]
    }
   ],
   "source": [
    "print(\"Pakistan\" + 1947)"
   ]
  },
  {
   "cell_type": "code",
   "execution_count": 20,
   "id": "10c5274e",
   "metadata": {},
   "outputs": [],
   "source": [
    "country=\"pakistan\""
   ]
  },
  {
   "cell_type": "code",
   "execution_count": 16,
   "id": "1269d173",
   "metadata": {},
   "outputs": [
    {
     "name": "stdout",
     "output_type": "stream",
     "text": [
      "<class 'str'>\n"
     ]
    }
   ],
   "source": [
    "print(type(country))"
   ]
  },
  {
   "cell_type": "code",
   "execution_count": 21,
   "id": "b469caa8",
   "metadata": {},
   "outputs": [
    {
     "data": {
      "text/plain": [
       "'Pakistan'"
      ]
     },
     "execution_count": 21,
     "metadata": {},
     "output_type": "execute_result"
    }
   ],
   "source": [
    "country.capitalize()"
   ]
  },
  {
   "cell_type": "code",
   "execution_count": 22,
   "id": "d03daeee",
   "metadata": {},
   "outputs": [
    {
     "data": {
      "text/plain": [
       "'PAKISTAN'"
      ]
     },
     "execution_count": 22,
     "metadata": {},
     "output_type": "execute_result"
    }
   ],
   "source": [
    "country.upper() # change the value of country variable to upper case "
   ]
  },
  {
   "cell_type": "code",
   "execution_count": 23,
   "id": "2efe10fc",
   "metadata": {},
   "outputs": [
    {
     "data": {
      "text/plain": [
       "'pakistan'"
      ]
     },
     "execution_count": 23,
     "metadata": {},
     "output_type": "execute_result"
    }
   ],
   "source": [
    "country"
   ]
  },
  {
   "cell_type": "code",
   "execution_count": 24,
   "id": "c304f9c0",
   "metadata": {},
   "outputs": [],
   "source": [
    "country =country.upper()  # change the value of country variable to upper case \n",
    "                            #and re-assign (update) to country\n",
    "                          "
   ]
  },
  {
   "cell_type": "code",
   "execution_count": 25,
   "id": "51affd94",
   "metadata": {},
   "outputs": [
    {
     "data": {
      "text/plain": [
       "'PAKISTAN'"
      ]
     },
     "execution_count": 25,
     "metadata": {},
     "output_type": "execute_result"
    }
   ],
   "source": [
    "country"
   ]
  },
  {
   "cell_type": "code",
   "execution_count": 27,
   "id": "639b9248",
   "metadata": {},
   "outputs": [
    {
     "data": {
      "text/plain": [
       "2"
      ]
     },
     "execution_count": 27,
     "metadata": {},
     "output_type": "execute_result"
    }
   ],
   "source": [
    "country.count(\"a\")\n",
    "country.count(\"A\")\n"
   ]
  },
  {
   "cell_type": "code",
   "execution_count": 28,
   "id": "96585a60",
   "metadata": {},
   "outputs": [],
   "source": [
    "sentence  = \"my name is nasir hussain and i am a computer student. I have so many students in my class online\""
   ]
  },
  {
   "cell_type": "code",
   "execution_count": 32,
   "id": "4e644106",
   "metadata": {},
   "outputs": [
    {
     "data": {
      "text/plain": [
       "0"
      ]
     },
     "execution_count": 32,
     "metadata": {},
     "output_type": "execute_result"
    }
   ],
   "source": [
    "sentence.count(\"student\")"
   ]
  },
  {
   "cell_type": "code",
   "execution_count": 30,
   "id": "680c3262",
   "metadata": {},
   "outputs": [
    {
     "data": {
      "text/plain": [
       "1"
      ]
     },
     "execution_count": 30,
     "metadata": {},
     "output_type": "execute_result"
    }
   ],
   "source": [
    "sentence.count('class')"
   ]
  },
  {
   "cell_type": "code",
   "execution_count": 34,
   "id": "6f9214b3",
   "metadata": {
    "scrolled": true
   },
   "outputs": [
    {
     "data": {
      "text/plain": [
       "True"
      ]
     },
     "execution_count": 34,
     "metadata": {},
     "output_type": "execute_result"
    }
   ],
   "source": [
    "sentence.endswith(\"online\")"
   ]
  },
  {
   "cell_type": "code",
   "execution_count": 35,
   "id": "7e2738cb",
   "metadata": {},
   "outputs": [
    {
     "data": {
      "text/plain": [
       "False"
      ]
     },
     "execution_count": 35,
     "metadata": {},
     "output_type": "execute_result"
    }
   ],
   "source": [
    "sentence.isdigit()"
   ]
  },
  {
   "cell_type": "code",
   "execution_count": 37,
   "id": "2695010f",
   "metadata": {},
   "outputs": [
    {
     "name": "stdout",
     "output_type": "stream",
     "text": [
      "<class 'int'>\n"
     ]
    }
   ],
   "source": [
    "number  = 56\n",
    "print(type(number))"
   ]
  },
  {
   "cell_type": "code",
   "execution_count": 38,
   "id": "c39e7e95",
   "metadata": {},
   "outputs": [
    {
     "name": "stdout",
     "output_type": "stream",
     "text": [
      "<class 'str'>\n"
     ]
    }
   ],
   "source": [
    "num = \"56\"\n",
    "print(type(num))"
   ]
  },
  {
   "cell_type": "code",
   "execution_count": 39,
   "id": "ce451ce9",
   "metadata": {},
   "outputs": [
    {
     "data": {
      "text/plain": [
       "True"
      ]
     },
     "execution_count": 39,
     "metadata": {},
     "output_type": "execute_result"
    }
   ],
   "source": [
    "num.isdigit()"
   ]
  },
  {
   "cell_type": "code",
   "execution_count": 42,
   "id": "25c97cfa",
   "metadata": {},
   "outputs": [
    {
     "data": {
      "text/plain": [
       "24"
      ]
     },
     "execution_count": 42,
     "metadata": {},
     "output_type": "execute_result"
    }
   ],
   "source": [
    "email = \" aghanhussain@gmail.com \"\n",
    "len(email)\n"
   ]
  },
  {
   "cell_type": "code",
   "execution_count": 46,
   "id": "c962b60a",
   "metadata": {},
   "outputs": [
    {
     "data": {
      "text/plain": [
       "'aghanhussain@gmail.com '"
      ]
     },
     "execution_count": 46,
     "metadata": {},
     "output_type": "execute_result"
    }
   ],
   "source": [
    "email = email.lstrip()\n",
    "email"
   ]
  },
  {
   "cell_type": "code",
   "execution_count": 49,
   "id": "b7453cd8",
   "metadata": {},
   "outputs": [],
   "source": [
    "email = email.rstrip()"
   ]
  },
  {
   "cell_type": "code",
   "execution_count": 50,
   "id": "bdd84e4f",
   "metadata": {},
   "outputs": [
    {
     "data": {
      "text/plain": [
       "'aghanhussain@gmail.com'"
      ]
     },
     "execution_count": 50,
     "metadata": {},
     "output_type": "execute_result"
    }
   ],
   "source": [
    "email"
   ]
  },
  {
   "cell_type": "code",
   "execution_count": 51,
   "id": "1a0737da",
   "metadata": {},
   "outputs": [],
   "source": [
    "email2 = \"   smit@gmail.com  \""
   ]
  },
  {
   "cell_type": "code",
   "execution_count": 54,
   "id": "27a502a4",
   "metadata": {},
   "outputs": [],
   "source": [
    "email2 = email2.strip()"
   ]
  },
  {
   "cell_type": "code",
   "execution_count": 55,
   "id": "d488d621",
   "metadata": {},
   "outputs": [
    {
     "data": {
      "text/plain": [
       "'smit@gmail.com'"
      ]
     },
     "execution_count": 55,
     "metadata": {},
     "output_type": "execute_result"
    }
   ],
   "source": [
    "email2"
   ]
  },
  {
   "cell_type": "code",
   "execution_count": 57,
   "id": "c91b0ae3",
   "metadata": {},
   "outputs": [
    {
     "data": {
      "text/plain": [
       "2"
      ]
     },
     "execution_count": 57,
     "metadata": {},
     "output_type": "execute_result"
    }
   ],
   "source": [
    "email2.find(\"i\") # shift + tab to see documentation"
   ]
  },
  {
   "cell_type": "code",
   "execution_count": 67,
   "id": "62fd27a1",
   "metadata": {},
   "outputs": [
    {
     "data": {
      "text/plain": [
       "8"
      ]
     },
     "execution_count": 67,
     "metadata": {},
     "output_type": "execute_result"
    }
   ],
   "source": [
    "email2.find(\"i\",3)"
   ]
  },
  {
   "cell_type": "markdown",
   "id": "3175808a",
   "metadata": {},
   "source": [
    "# indexing of Strings"
   ]
  },
  {
   "cell_type": "code",
   "execution_count": 63,
   "id": "a1e82730",
   "metadata": {},
   "outputs": [],
   "source": [
    "college = \"my college\"\n",
    "          #0123456789"
   ]
  },
  {
   "cell_type": "code",
   "execution_count": 64,
   "id": "f72d35a7",
   "metadata": {},
   "outputs": [
    {
     "data": {
      "text/plain": [
       "10"
      ]
     },
     "execution_count": 64,
     "metadata": {},
     "output_type": "execute_result"
    }
   ],
   "source": [
    "len(college)"
   ]
  },
  {
   "cell_type": "code",
   "execution_count": 62,
   "id": "1355dc15",
   "metadata": {},
   "outputs": [
    {
     "data": {
      "text/plain": [
       "'m'"
      ]
     },
     "execution_count": 62,
     "metadata": {},
     "output_type": "execute_result"
    }
   ],
   "source": [
    "college[0]"
   ]
  },
  {
   "cell_type": "code",
   "execution_count": 65,
   "id": "102236b8",
   "metadata": {},
   "outputs": [
    {
     "data": {
      "text/plain": [
       "'g'"
      ]
     },
     "execution_count": 65,
     "metadata": {},
     "output_type": "execute_result"
    }
   ],
   "source": [
    "college[8]"
   ]
  },
  {
   "cell_type": "code",
   "execution_count": 66,
   "id": "695592d8",
   "metadata": {},
   "outputs": [
    {
     "data": {
      "text/plain": [
       "'colle'"
      ]
     },
     "execution_count": 66,
     "metadata": {},
     "output_type": "execute_result"
    }
   ],
   "source": [
    "college[3:8] # slicing a str"
   ]
  },
  {
   "cell_type": "markdown",
   "id": "4a5eccf8",
   "metadata": {},
   "source": [
    "# variable names\n",
    "- match data\n"
   ]
  },
  {
   "cell_type": "code",
   "execution_count": 69,
   "id": "73babcf8",
   "metadata": {},
   "outputs": [
    {
     "ename": "SyntaxError",
     "evalue": "invalid syntax (Temp/ipykernel_14676/2990057219.py, line 1)",
     "output_type": "error",
     "traceback": [
      "\u001b[1;36m  File \u001b[1;32m\"C:\\Users\\ADMINI~1\\AppData\\Local\\Temp/ipykernel_14676/2990057219.py\"\u001b[1;36m, line \u001b[1;32m1\u001b[0m\n\u001b[1;33m    colleg name = \"smit\" # space not allowed\u001b[0m\n\u001b[1;37m           ^\u001b[0m\n\u001b[1;31mSyntaxError\u001b[0m\u001b[1;31m:\u001b[0m invalid syntax\n"
     ]
    }
   ],
   "source": [
    "colleg name = \"smit\" # space not allowed \n"
   ]
  },
  {
   "cell_type": "code",
   "execution_count": 70,
   "id": "21cc3fed",
   "metadata": {},
   "outputs": [
    {
     "ename": "SyntaxError",
     "evalue": "invalid syntax (Temp/ipykernel_14676/2266904920.py, line 1)",
     "output_type": "error",
     "traceback": [
      "\u001b[1;36m  File \u001b[1;32m\"C:\\Users\\ADMINI~1\\AppData\\Local\\Temp/ipykernel_14676/2266904920.py\"\u001b[1;36m, line \u001b[1;32m1\u001b[0m\n\u001b[1;33m    1college = \"smit\"\u001b[0m\n\u001b[1;37m     ^\u001b[0m\n\u001b[1;31mSyntaxError\u001b[0m\u001b[1;31m:\u001b[0m invalid syntax\n"
     ]
    }
   ],
   "source": [
    "1college = \"smit\"  # CAN NOT start with a number"
   ]
  },
  {
   "cell_type": "code",
   "execution_count": 72,
   "id": "88296438",
   "metadata": {},
   "outputs": [
    {
     "ename": "SyntaxError",
     "evalue": "invalid syntax (Temp/ipykernel_14676/2780797927.py, line 1)",
     "output_type": "error",
     "traceback": [
      "\u001b[1;36m  File \u001b[1;32m\"C:\\Users\\ADMINI~1\\AppData\\Local\\Temp/ipykernel_14676/2780797927.py\"\u001b[1;36m, line \u001b[1;32m1\u001b[0m\n\u001b[1;33m    $name = \"ASsd\"\u001b[0m\n\u001b[1;37m    ^\u001b[0m\n\u001b[1;31mSyntaxError\u001b[0m\u001b[1;31m:\u001b[0m invalid syntax\n"
     ]
    }
   ],
   "source": [
    "$name = \"ASsd\"\n",
    "first@name = ali \n",
    "\n",
    "# special character not allowed niether in start nor in mid or end.\n"
   ]
  },
  {
   "cell_type": "code",
   "execution_count": 74,
   "id": "0f1059d2",
   "metadata": {},
   "outputs": [
    {
     "ename": "SyntaxError",
     "evalue": "cannot assign to True (Temp/ipykernel_14676/2737884872.py, line 1)",
     "output_type": "error",
     "traceback": [
      "\u001b[1;36m  File \u001b[1;32m\"C:\\Users\\ADMINI~1\\AppData\\Local\\Temp/ipykernel_14676/2737884872.py\"\u001b[1;36m, line \u001b[1;32m1\u001b[0m\n\u001b[1;33m    True = \"asds\"\u001b[0m\n\u001b[1;37m    ^\u001b[0m\n\u001b[1;31mSyntaxError\u001b[0m\u001b[1;31m:\u001b[0m cannot assign to True\n"
     ]
    }
   ],
   "source": [
    "True = \"asds\"   # key word / reserved word"
   ]
  },
  {
   "cell_type": "markdown",
   "id": "d375e55f",
   "metadata": {},
   "source": [
    "# Number System\n",
    " - decimal number system  (0123456789)\n",
    " - binary number system   (01)\n",
    " - octal number system    (01234567)\n",
    " - hexadeciaml number system (0123456789ABCDEF)"
   ]
  },
  {
   "cell_type": "code",
   "execution_count": 76,
   "id": "e6225ee1",
   "metadata": {},
   "outputs": [
    {
     "data": {
      "text/plain": [
       "613"
      ]
     },
     "execution_count": 76,
     "metadata": {},
     "output_type": "execute_result"
    }
   ],
   "source": [
    "0O1145   #(ZEERO O 45)"
   ]
  },
  {
   "cell_type": "code",
   "execution_count": 79,
   "id": "910f8e9f",
   "metadata": {},
   "outputs": [
    {
     "ename": "SyntaxError",
     "evalue": "invalid syntax (Temp/ipykernel_14676/3711062670.py, line 1)",
     "output_type": "error",
     "traceback": [
      "\u001b[1;36m  File \u001b[1;32m\"C:\\Users\\ADMINI~1\\AppData\\Local\\Temp/ipykernel_14676/3711062670.py\"\u001b[1;36m, line \u001b[1;32m1\u001b[0m\n\u001b[1;33m    0hh123\u001b[0m\n\u001b[1;37m     ^\u001b[0m\n\u001b[1;31mSyntaxError\u001b[0m\u001b[1;31m:\u001b[0m invalid syntax\n"
     ]
    }
   ],
   "source": []
  },
  {
   "cell_type": "markdown",
   "id": "8a16e502",
   "metadata": {},
   "source": [
    "# String is immutable"
   ]
  },
  {
   "cell_type": "code",
   "execution_count": 80,
   "id": "7602bbb1",
   "metadata": {},
   "outputs": [],
   "source": [
    "name  = \"Karachi\""
   ]
  },
  {
   "cell_type": "code",
   "execution_count": 81,
   "id": "e85070f8",
   "metadata": {},
   "outputs": [
    {
     "data": {
      "text/plain": [
       "'K'"
      ]
     },
     "execution_count": 81,
     "metadata": {},
     "output_type": "execute_result"
    }
   ],
   "source": [
    "name[0]"
   ]
  },
  {
   "cell_type": "code",
   "execution_count": 82,
   "id": "9837f451",
   "metadata": {},
   "outputs": [
    {
     "ename": "TypeError",
     "evalue": "'str' object does not support item assignment",
     "output_type": "error",
     "traceback": [
      "\u001b[1;31m---------------------------------------------------------------------------\u001b[0m",
      "\u001b[1;31mTypeError\u001b[0m                                 Traceback (most recent call last)",
      "\u001b[1;32mC:\\Users\\ADMINI~1\\AppData\\Local\\Temp/ipykernel_14676/1843662609.py\u001b[0m in \u001b[0;36m<module>\u001b[1;34m\u001b[0m\n\u001b[1;32m----> 1\u001b[1;33m \u001b[0mname\u001b[0m\u001b[1;33m[\u001b[0m\u001b[1;36m0\u001b[0m\u001b[1;33m]\u001b[0m\u001b[1;33m=\u001b[0m\u001b[1;34m\"T\"\u001b[0m \u001b[1;31m# error\u001b[0m\u001b[1;33m\u001b[0m\u001b[1;33m\u001b[0m\u001b[0m\n\u001b[0m",
      "\u001b[1;31mTypeError\u001b[0m: 'str' object does not support item assignment"
     ]
    }
   ],
   "source": [
    "name[0]=\"T\" # error string immutable"
   ]
  },
  {
   "cell_type": "code",
   "execution_count": 83,
   "id": "0efee395",
   "metadata": {},
   "outputs": [],
   "source": [
    "name = \"Lahore\""
   ]
  },
  {
   "cell_type": "code",
   "execution_count": null,
   "id": "d8862da7",
   "metadata": {},
   "outputs": [],
   "source": []
  }
 ],
 "metadata": {
  "kernelspec": {
   "display_name": "Python 3 (ipykernel)",
   "language": "python",
   "name": "python3"
  },
  "language_info": {
   "codemirror_mode": {
    "name": "ipython",
    "version": 3
   },
   "file_extension": ".py",
   "mimetype": "text/x-python",
   "name": "python",
   "nbconvert_exporter": "python",
   "pygments_lexer": "ipython3",
   "version": "3.9.7"
  }
 },
 "nbformat": 4,
 "nbformat_minor": 5
}

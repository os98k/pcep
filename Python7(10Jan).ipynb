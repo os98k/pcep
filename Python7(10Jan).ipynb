{
 "cells": [
  {
   "cell_type": "markdown",
   "id": "bc3af28d",
   "metadata": {},
   "source": [
    "# Last Class \n",
    "    - If Statment \n",
    "    - Else \n",
    "    -If Else\n",
    "    - Elif \n",
    "    - Multiple if's\n",
    "    - Nested if's"
   ]
  },
  {
   "cell_type": "markdown",
   "id": "089711b5",
   "metadata": {},
   "source": [
    "# Today Class\n",
    " - Logical Operators\n",
    " - Bitwise Operators\n",
    " "
   ]
  },
  {
   "cell_type": "markdown",
   "id": "7e1fd134",
   "metadata": {},
   "source": [
    "Logical Operators:\n",
    " - and   works as nested if 's \n",
    " - or    multiple if's\n",
    " \n",
    " And operator is like a multiply \n",
    " Or  operator is like a addition\n",
    " \n",
    " Boolean results : True (1) & False (0)\n",
    " \n",
    "  ###And Operator###\n",
    " True True  >>> True\n",
    "   1   and   1    >> True\n",
    "   1   and  0    >>  False\n",
    "   0   and  1    >>  False \n",
    "   0   and  0    >>  False\n",
    "   \n",
    "   \n",
    "       OR operator\n",
    "   True   True   >>>> True\n",
    "   True   False >>>>  True\n",
    "   False   True >>>> True\n",
    "   False   False >>> False  \n",
    "   "
   ]
  },
  {
   "cell_type": "code",
   "execution_count": 4,
   "id": "fc5d2b75",
   "metadata": {},
   "outputs": [],
   "source": [
    "a= 10\n",
    "b= 12\n",
    "c =10\n",
    "d = 34\n",
    "e = 67\n",
    "t = 78"
   ]
  },
  {
   "cell_type": "code",
   "execution_count": 7,
   "id": "6da96b5f",
   "metadata": {},
   "outputs": [
    {
     "name": "stdout",
     "output_type": "stream",
     "text": [
      "Not OK\n"
     ]
    }
   ],
   "source": [
    "if ((a==100) and (b==12) and (c==10) and (d==34) and (e==67) and (t==78)):\n",
    "#      True        True    \n",
    "    print(\"OK\")\n",
    "else:\n",
    "    print(\"Not OK\")"
   ]
  },
  {
   "cell_type": "code",
   "execution_count": 1,
   "id": "c10ecb81",
   "metadata": {},
   "outputs": [
    {
     "name": "stdout",
     "output_type": "stream",
     "text": [
      "What is the students percentage110\n",
      "Passed\n"
     ]
    }
   ],
   "source": [
    "grade = None\n",
    "\n",
    "per = float(input(\"What is the students percentage\"))\n",
    "\n",
    "# 90>=A* ,# 80>=A+,# 70>=A,# 60>=B,# 50>=C,# others == U\n",
    "if ((per>=90) or (per >=80) or (per>=70) or (per>=60) or (per>=50)):\n",
    "    print(\"Passed\")\n",
    "else:\n",
    "    print(\"Failed\")\n",
    "\n"
   ]
  },
  {
   "cell_type": "code",
   "execution_count": 10,
   "id": "30d160e0",
   "metadata": {},
   "outputs": [
    {
     "name": "stdout",
     "output_type": "stream",
     "text": [
      "Not Worked\n"
     ]
    }
   ],
   "source": [
    "if(not(a==100) and ((b==121))):\n",
    "    print(\"Well Done\")\n",
    "else:\n",
    "    print(\"Not Worked\")\n"
   ]
  },
  {
   "cell_type": "markdown",
   "id": "3c2ddffe",
   "metadata": {},
   "source": [
    "# Bitwise Operators\n",
    "  - & (ampersand) \n",
    "  - |  (pipe or opr)\n",
    "  - ^  Xor (Exclusive or op)\n",
    "  - ~  Tilde compliment op\n",
    "  - << left shift operator\n",
    "  - >> right shift operator"
   ]
  },
  {
   "cell_type": "markdown",
   "id": "c71bcacb",
   "metadata": {},
   "source": [
    "# Compliment Bitwise Operator (~)"
   ]
  },
  {
   "cell_type": "code",
   "execution_count": 11,
   "id": "9a8ac788",
   "metadata": {},
   "outputs": [
    {
     "data": {
      "text/plain": [
       "-13"
      ]
     },
     "execution_count": 11,
     "metadata": {},
     "output_type": "execute_result"
    }
   ],
   "source": [
    "~12  # 00001100\n",
    "\n",
    "#                  128 64 32 16 8 4 2 1 \n",
    "#                  0 0 0  0  1 1 0 0 \n",
    "#1'scompliment 12  1 1 1  1  0 0 1 1 \n",
    "# \n",
    "# 13 in binary >>  00001101\n",
    " # for -ve 13:     11110010\n",
    "#2's Compliment          +1\n",
    "#                  __________________\n",
    "                   1111001 1        \n",
    "#                  ___________________\n",
    " \n",
    "#2's Comp = 1's comp + 1"
   ]
  },
  {
   "cell_type": "code",
   "execution_count": 12,
   "id": "187f5a07",
   "metadata": {},
   "outputs": [
    {
     "data": {
      "text/plain": [
       "-13"
      ]
     },
     "execution_count": 12,
     "metadata": {},
     "output_type": "execute_result"
    }
   ],
   "source": [
    "~12"
   ]
  },
  {
   "cell_type": "markdown",
   "id": "299b9aa5",
   "metadata": {},
   "source": [
    "# &  bitwise operator (ampersand)"
   ]
  },
  {
   "cell_type": "code",
   "execution_count": 16,
   "id": "f2cc1d91",
   "metadata": {},
   "outputs": [
    {
     "data": {
      "text/plain": [
       "12"
      ]
     },
     "execution_count": 16,
     "metadata": {},
     "output_type": "execute_result"
    }
   ],
   "source": [
    "12 & 13"
   ]
  },
  {
   "cell_type": "code",
   "execution_count": 14,
   "id": "ad37eea9",
   "metadata": {},
   "outputs": [
    {
     "data": {
      "text/plain": [
       "8"
      ]
     },
     "execution_count": 14,
     "metadata": {},
     "output_type": "execute_result"
    }
   ],
   "source": [
    "30 & 40"
   ]
  },
  {
   "cell_type": "markdown",
   "id": "d386ae5d",
   "metadata": {},
   "source": [
    "# bitwise  or Operator"
   ]
  },
  {
   "cell_type": "code",
   "execution_count": 15,
   "id": "a58104a9",
   "metadata": {},
   "outputs": [
    {
     "data": {
      "text/plain": [
       "13"
      ]
     },
     "execution_count": 15,
     "metadata": {},
     "output_type": "execute_result"
    }
   ],
   "source": [
    "12  | 13"
   ]
  },
  {
   "cell_type": "markdown",
   "id": "b49c0e1e",
   "metadata": {},
   "source": [
    "# bitwise Xor (^)\n",
    "\n",
    "   1   1  = 0 \n",
    "   0   0  = 0 \n",
    "   1   0  = 1\n",
    "   0   1  = 1\n",
    "   Bits must be different to be 1"
   ]
  },
  {
   "cell_type": "code",
   "execution_count": 17,
   "id": "e4e96c0a",
   "metadata": {},
   "outputs": [
    {
     "data": {
      "text/plain": [
       "1"
      ]
     },
     "execution_count": 17,
     "metadata": {},
     "output_type": "execute_result"
    }
   ],
   "source": [
    "12 ^ 13"
   ]
  },
  {
   "cell_type": "code",
   "execution_count": 18,
   "id": "3362cb0b",
   "metadata": {},
   "outputs": [
    {
     "data": {
      "text/plain": [
       "1"
      ]
     },
     "execution_count": 18,
     "metadata": {},
     "output_type": "execute_result"
    }
   ],
   "source": [
    "13 ^ 12"
   ]
  },
  {
   "cell_type": "markdown",
   "id": "8750e7e4",
   "metadata": {},
   "source": [
    "# Bitwise Left Shift  operator"
   ]
  },
  {
   "cell_type": "code",
   "execution_count": 19,
   "id": "e7ae88e0",
   "metadata": {},
   "outputs": [
    {
     "data": {
      "text/plain": [
       "40"
      ]
     },
     "execution_count": 19,
     "metadata": {},
     "output_type": "execute_result"
    }
   ],
   "source": [
    "10 << 2"
   ]
  },
  {
   "cell_type": "code",
   "execution_count": 20,
   "id": "65434ca5",
   "metadata": {},
   "outputs": [
    {
     "data": {
      "text/plain": [
       "160"
      ]
     },
     "execution_count": 20,
     "metadata": {},
     "output_type": "execute_result"
    }
   ],
   "source": [
    "40<<2"
   ]
  },
  {
   "cell_type": "code",
   "execution_count": 21,
   "id": "42877466",
   "metadata": {},
   "outputs": [
    {
     "data": {
      "text/plain": [
       "2"
      ]
     },
     "execution_count": 21,
     "metadata": {},
     "output_type": "execute_result"
    }
   ],
   "source": [
    "10>>2"
   ]
  },
  {
   "cell_type": "code",
   "execution_count": 22,
   "id": "57ebc33a",
   "metadata": {},
   "outputs": [
    {
     "data": {
      "text/plain": [
       "10"
      ]
     },
     "execution_count": 22,
     "metadata": {},
     "output_type": "execute_result"
    }
   ],
   "source": [
    "40>>2"
   ]
  },
  {
   "cell_type": "code",
   "execution_count": 24,
   "id": "38ba1a60",
   "metadata": {},
   "outputs": [
    {
     "data": {
      "text/plain": [
       "15"
      ]
     },
     "execution_count": 24,
     "metadata": {},
     "output_type": "execute_result"
    }
   ],
   "source": [
    "500>>5\n",
    "\n",
    "#  // 2**5"
   ]
  },
  {
   "cell_type": "code",
   "execution_count": 25,
   "id": "38a6e868",
   "metadata": {},
   "outputs": [
    {
     "data": {
      "text/plain": [
       "800"
      ]
     },
     "execution_count": 25,
     "metadata": {},
     "output_type": "execute_result"
    }
   ],
   "source": [
    "100<<3\n",
    "\n",
    "#2**3==8"
   ]
  },
  {
   "cell_type": "code",
   "execution_count": 26,
   "id": "258ce0db",
   "metadata": {},
   "outputs": [
    {
     "data": {
      "text/plain": [
       "1664"
      ]
     },
     "execution_count": 26,
     "metadata": {},
     "output_type": "execute_result"
    }
   ],
   "source": [
    "52<<5"
   ]
  },
  {
   "cell_type": "markdown",
   "id": "7d11aca2",
   "metadata": {},
   "source": [
    "20====>          0 0 0 1 0 1 0 0\n",
    "                 1 1 1 0 1 0 1 1"
   ]
  },
  {
   "cell_type": "code",
   "execution_count": 27,
   "id": "c64f42b7",
   "metadata": {},
   "outputs": [
    {
     "data": {
      "text/plain": [
       "-21"
      ]
     },
     "execution_count": 27,
     "metadata": {},
     "output_type": "execute_result"
    }
   ],
   "source": [
    "~20"
   ]
  },
  {
   "cell_type": "raw",
   "id": "84103bae",
   "metadata": {},
   "source": [
    "00010101  \n",
    "11101010  >>1comp \n",
    "      +1\n",
    "11101011      \n",
    " "
   ]
  }
 ],
 "metadata": {
  "kernelspec": {
   "display_name": "Python 3 (ipykernel)",
   "language": "python",
   "name": "python3"
  },
  "language_info": {
   "codemirror_mode": {
    "name": "ipython",
    "version": 3
   },
   "file_extension": ".py",
   "mimetype": "text/x-python",
   "name": "python",
   "nbconvert_exporter": "python",
   "pygments_lexer": "ipython3",
   "version": "3.9.7"
  }
 },
 "nbformat": 4,
 "nbformat_minor": 5
}

{
 "cells": [
  {
   "cell_type": "markdown",
   "id": "fcb9ff7a",
   "metadata": {},
   "source": [
    "# Last Class\n",
    "    - String \n",
    "    - Str functions\n",
    "    - Concatenation\n",
    "    - opertors / operands\n",
    "    - String indexing \n",
    "    - variable names legal and illegal\n",
    "    - Number System "
   ]
  },
  {
   "cell_type": "markdown",
   "id": "c0aabe87",
   "metadata": {},
   "source": [
    "# Today Class\n",
    "    - operators\n",
    "    - Type casting\n",
    "    - User inputs\n",
    "    - String formation    \n",
    "    - variable naming convention\n",
    "    \n",
    "    \n"
   ]
  },
  {
   "cell_type": "markdown",
   "id": "2d1d2ec7",
   "metadata": {},
   "source": [
    "# Operators\n",
    "  - + \n",
    "  - - \n",
    "  - * \n",
    "  - / \n",
    "  - //\n",
    "  - % \n",
    "  - > < >= <=, !=, ==\n",
    "  \n",
    " - unary operators\n",
    "      - a=a+1   (incremental)   +=\n",
    "      - b= b-1   (decremental)   -+ "
   ]
  },
  {
   "cell_type": "code",
   "execution_count": 1,
   "id": "d0d22ece",
   "metadata": {},
   "outputs": [
    {
     "name": "stdout",
     "output_type": "stream",
     "text": [
      "8\n"
     ]
    }
   ],
   "source": [
    "print(3+5) # int + int"
   ]
  },
  {
   "cell_type": "code",
   "execution_count": 3,
   "id": "f629afc8",
   "metadata": {},
   "outputs": [
    {
     "name": "stdout",
     "output_type": "stream",
     "text": [
      "512.6\n"
     ]
    }
   ],
   "source": [
    "print(500 + 12.6)  # int + float"
   ]
  },
  {
   "cell_type": "code",
   "execution_count": 4,
   "id": "33ef709d",
   "metadata": {},
   "outputs": [
    {
     "name": "stdout",
     "output_type": "stream",
     "text": [
      "19.799999999999997\n"
     ]
    }
   ],
   "source": [
    "print(3*6.6)"
   ]
  },
  {
   "cell_type": "code",
   "execution_count": 5,
   "id": "c1128d8b",
   "metadata": {},
   "outputs": [
    {
     "data": {
      "text/plain": [
       "19.8"
      ]
     },
     "execution_count": 5,
     "metadata": {},
     "output_type": "execute_result"
    }
   ],
   "source": [
    "round(19.799999999999997,3)"
   ]
  },
  {
   "cell_type": "code",
   "execution_count": 7,
   "id": "d0777897",
   "metadata": {},
   "outputs": [
    {
     "data": {
      "text/plain": [
       "3.3333333333333335"
      ]
     },
     "execution_count": 7,
     "metadata": {},
     "output_type": "execute_result"
    }
   ],
   "source": [
    "10/3  # int / int\n",
    "\n",
    "#  '/' is flaoting divsion"
   ]
  },
  {
   "cell_type": "code",
   "execution_count": 8,
   "id": "9a0f8daa",
   "metadata": {},
   "outputs": [
    {
     "data": {
      "text/plain": [
       "3"
      ]
     },
     "execution_count": 8,
     "metadata": {},
     "output_type": "execute_result"
    }
   ],
   "source": [
    "10//3  # int // int \n",
    "# \"//\"  this is integer division"
   ]
  },
  {
   "cell_type": "code",
   "execution_count": 9,
   "id": "33cc610a",
   "metadata": {},
   "outputs": [
    {
     "data": {
      "text/plain": [
       "2"
      ]
     },
     "execution_count": 9,
     "metadata": {},
     "output_type": "execute_result"
    }
   ],
   "source": [
    "12%5  # modulus ya modulo operator \n",
    "      # remainder "
   ]
  },
  {
   "cell_type": "code",
   "execution_count": 10,
   "id": "e83f02a4",
   "metadata": {},
   "outputs": [
    {
     "data": {
      "text/plain": [
       "5"
      ]
     },
     "execution_count": 10,
     "metadata": {},
     "output_type": "execute_result"
    }
   ],
   "source": [
    "15 % 10"
   ]
  },
  {
   "cell_type": "code",
   "execution_count": 11,
   "id": "4c1abc58",
   "metadata": {},
   "outputs": [
    {
     "data": {
      "text/plain": [
       "False"
      ]
     },
     "execution_count": 11,
     "metadata": {},
     "output_type": "execute_result"
    }
   ],
   "source": [
    "10 > 12  # it returns a boolean (True/ False)"
   ]
  },
  {
   "cell_type": "code",
   "execution_count": 12,
   "id": "49f47059",
   "metadata": {},
   "outputs": [
    {
     "data": {
      "text/plain": [
       "True"
      ]
     },
     "execution_count": 12,
     "metadata": {},
     "output_type": "execute_result"
    }
   ],
   "source": [
    "12 > 10 "
   ]
  },
  {
   "cell_type": "code",
   "execution_count": 13,
   "id": "9c1a5c7d",
   "metadata": {},
   "outputs": [
    {
     "data": {
      "text/plain": [
       "True"
      ]
     },
     "execution_count": 13,
     "metadata": {},
     "output_type": "execute_result"
    }
   ],
   "source": [
    "100 < 200"
   ]
  },
  {
   "cell_type": "code",
   "execution_count": 14,
   "id": "1634ff9a",
   "metadata": {},
   "outputs": [
    {
     "data": {
      "text/plain": [
       "True"
      ]
     },
     "execution_count": 14,
     "metadata": {},
     "output_type": "execute_result"
    }
   ],
   "source": [
    " 12>=10"
   ]
  },
  {
   "cell_type": "code",
   "execution_count": 15,
   "id": "17a7bda7",
   "metadata": {},
   "outputs": [
    {
     "data": {
      "text/plain": [
       "False"
      ]
     },
     "execution_count": 15,
     "metadata": {},
     "output_type": "execute_result"
    }
   ],
   "source": [
    "12<=10"
   ]
  },
  {
   "cell_type": "code",
   "execution_count": 16,
   "id": "af61ca7d",
   "metadata": {},
   "outputs": [
    {
     "data": {
      "text/plain": [
       "True"
      ]
     },
     "execution_count": 16,
     "metadata": {},
     "output_type": "execute_result"
    }
   ],
   "source": [
    "12 == 12 # twelve 'equal to' 12"
   ]
  },
  {
   "cell_type": "code",
   "execution_count": 17,
   "id": "565acdae",
   "metadata": {},
   "outputs": [
    {
     "data": {
      "text/plain": [
       "False"
      ]
     },
     "execution_count": 17,
     "metadata": {},
     "output_type": "execute_result"
    }
   ],
   "source": [
    "12 != 12 # twelve 'not equal to' 12"
   ]
  },
  {
   "cell_type": "code",
   "execution_count": 18,
   "id": "edd3176d",
   "metadata": {},
   "outputs": [],
   "source": [
    "age  = 34"
   ]
  },
  {
   "cell_type": "code",
   "execution_count": 32,
   "id": "7a7737aa",
   "metadata": {},
   "outputs": [
    {
     "data": {
      "text/plain": [
       "51"
      ]
     },
     "execution_count": 32,
     "metadata": {},
     "output_type": "execute_result"
    }
   ],
   "source": [
    "age = age+2\n",
    "age"
   ]
  },
  {
   "cell_type": "code",
   "execution_count": 44,
   "id": "6bc65127",
   "metadata": {},
   "outputs": [
    {
     "data": {
      "text/plain": [
       "87"
      ]
     },
     "execution_count": 44,
     "metadata": {},
     "output_type": "execute_result"
    }
   ],
   "source": [
    "age +=5\n",
    "age"
   ]
  },
  {
   "cell_type": "code",
   "execution_count": 51,
   "id": "92d11c3c",
   "metadata": {},
   "outputs": [
    {
     "data": {
      "text/plain": [
       "52"
      ]
     },
     "execution_count": 51,
     "metadata": {},
     "output_type": "execute_result"
    }
   ],
   "source": [
    "age = age - 5\n",
    "age"
   ]
  },
  {
   "cell_type": "code",
   "execution_count": 55,
   "id": "c982f922",
   "metadata": {},
   "outputs": [
    {
     "data": {
      "text/plain": [
       "40"
      ]
     },
     "execution_count": 55,
     "metadata": {},
     "output_type": "execute_result"
    }
   ],
   "source": [
    "age -=3\n",
    "age"
   ]
  },
  {
   "cell_type": "code",
   "execution_count": 65,
   "id": "63e8fef9",
   "metadata": {},
   "outputs": [
    {
     "data": {
      "text/plain": [
       "40960"
      ]
     },
     "execution_count": 65,
     "metadata": {},
     "output_type": "execute_result"
    }
   ],
   "source": [
    "age *=2\n",
    "age"
   ]
  },
  {
   "cell_type": "code",
   "execution_count": 74,
   "id": "b3ad8849",
   "metadata": {},
   "outputs": [
    {
     "data": {
      "text/plain": [
       "640.0"
      ]
     },
     "execution_count": 74,
     "metadata": {},
     "output_type": "execute_result"
    }
   ],
   "source": [
    "age //=2  # flaot // int\n",
    "age"
   ]
  },
  {
   "cell_type": "code",
   "execution_count": 82,
   "id": "62a19703",
   "metadata": {},
   "outputs": [
    {
     "data": {
      "text/plain": [
       "int"
      ]
     },
     "execution_count": 82,
     "metadata": {},
     "output_type": "execute_result"
    }
   ],
   "source": [
    "marks = 90\n",
    "type(marks)"
   ]
  },
  {
   "cell_type": "code",
   "execution_count": 83,
   "id": "9c82ea61",
   "metadata": {},
   "outputs": [
    {
     "name": "stdout",
     "output_type": "stream",
     "text": [
      "<class 'int'>\n"
     ]
    }
   ],
   "source": [
    "print(type(marks))"
   ]
  },
  {
   "cell_type": "markdown",
   "id": "3345722a",
   "metadata": {},
   "source": [
    "# Type Casting"
   ]
  },
  {
   "cell_type": "code",
   "execution_count": 84,
   "id": "87898cc2",
   "metadata": {},
   "outputs": [
    {
     "data": {
      "text/plain": [
       "90.0"
      ]
     },
     "execution_count": 84,
     "metadata": {},
     "output_type": "execute_result"
    }
   ],
   "source": [
    "float(marks)"
   ]
  },
  {
   "cell_type": "code",
   "execution_count": 87,
   "id": "d485b19c",
   "metadata": {},
   "outputs": [
    {
     "name": "stdout",
     "output_type": "stream",
     "text": [
      "<class 'float'>\n"
     ]
    }
   ],
   "source": [
    "percentage  = 85.99999999\n",
    "print(type(percentage))"
   ]
  },
  {
   "cell_type": "code",
   "execution_count": 88,
   "id": "4748049f",
   "metadata": {},
   "outputs": [
    {
     "data": {
      "text/plain": [
       "85"
      ]
     },
     "execution_count": 88,
     "metadata": {},
     "output_type": "execute_result"
    }
   ],
   "source": [
    "int(percentage)"
   ]
  },
  {
   "cell_type": "code",
   "execution_count": 89,
   "id": "7b3bc867",
   "metadata": {},
   "outputs": [
    {
     "name": "stdout",
     "output_type": "stream",
     "text": [
      "<class 'str'>\n"
     ]
    }
   ],
   "source": [
    "bloodpressure = \"85\"\n",
    "print(type(bloodpressure))"
   ]
  },
  {
   "cell_type": "code",
   "execution_count": 90,
   "id": "c4ae3167",
   "metadata": {},
   "outputs": [
    {
     "data": {
      "text/plain": [
       "85"
      ]
     },
     "execution_count": 90,
     "metadata": {},
     "output_type": "execute_result"
    }
   ],
   "source": [
    "int(bloodpressure)"
   ]
  },
  {
   "cell_type": "code",
   "execution_count": 91,
   "id": "e666ed5d",
   "metadata": {},
   "outputs": [],
   "source": [
    "coding = \"Python\""
   ]
  },
  {
   "cell_type": "code",
   "execution_count": 92,
   "id": "50ee6433",
   "metadata": {},
   "outputs": [
    {
     "ename": "ValueError",
     "evalue": "invalid literal for int() with base 10: 'Python'",
     "output_type": "error",
     "traceback": [
      "\u001b[1;31m---------------------------------------------------------------------------\u001b[0m",
      "\u001b[1;31mValueError\u001b[0m                                Traceback (most recent call last)",
      "\u001b[1;32mC:\\Users\\ADMINI~1\\AppData\\Local\\Temp/ipykernel_7812/778290357.py\u001b[0m in \u001b[0;36m<module>\u001b[1;34m\u001b[0m\n\u001b[1;32m----> 1\u001b[1;33m \u001b[0mint\u001b[0m\u001b[1;33m(\u001b[0m\u001b[0mcoding\u001b[0m\u001b[1;33m)\u001b[0m\u001b[1;33m\u001b[0m\u001b[1;33m\u001b[0m\u001b[0m\n\u001b[0m",
      "\u001b[1;31mValueError\u001b[0m: invalid literal for int() with base 10: 'Python'"
     ]
    }
   ],
   "source": [
    "int(coding)"
   ]
  },
  {
   "cell_type": "markdown",
   "id": "e1108ac3",
   "metadata": {},
   "source": [
    "# User input\n",
    "\n",
    "    - Point to remember: \n",
    "        The input given at console by user is always a string\n",
    "        even user inputs a number, it will a string."
   ]
  },
  {
   "cell_type": "code",
   "execution_count": 95,
   "id": "932cbd2b",
   "metadata": {},
   "outputs": [
    {
     "name": "stdout",
     "output_type": "stream",
     "text": [
      "Please tell me your good name!Hassan\n"
     ]
    },
    {
     "data": {
      "text/plain": [
       "'Hassan'"
      ]
     },
     "execution_count": 95,
     "metadata": {},
     "output_type": "execute_result"
    }
   ],
   "source": [
    "input(\"Please tell me your good name!\")"
   ]
  },
  {
   "cell_type": "code",
   "execution_count": 96,
   "id": "41a9e4b1",
   "metadata": {},
   "outputs": [
    {
     "name": "stdout",
     "output_type": "stream",
     "text": [
      "Please let me know your name!Nasir HUssain\n"
     ]
    }
   ],
   "source": [
    "name=input(\"Please let me know your name!\")"
   ]
  },
  {
   "cell_type": "code",
   "execution_count": 97,
   "id": "43c0473b",
   "metadata": {},
   "outputs": [
    {
     "data": {
      "text/plain": [
       "'Nasir HUssain'"
      ]
     },
     "execution_count": 97,
     "metadata": {},
     "output_type": "execute_result"
    }
   ],
   "source": [
    "name"
   ]
  },
  {
   "cell_type": "code",
   "execution_count": 98,
   "id": "fa342f87",
   "metadata": {},
   "outputs": [
    {
     "name": "stdout",
     "output_type": "stream",
     "text": [
      "Tell me your age please!20\n"
     ]
    }
   ],
   "source": [
    "userage  = input(\"Tell me your age please!\")"
   ]
  },
  {
   "cell_type": "code",
   "execution_count": 99,
   "id": "da3775ad",
   "metadata": {},
   "outputs": [
    {
     "data": {
      "text/plain": [
       "'20'"
      ]
     },
     "execution_count": 99,
     "metadata": {},
     "output_type": "execute_result"
    }
   ],
   "source": [
    "userage"
   ]
  },
  {
   "cell_type": "code",
   "execution_count": 103,
   "id": "f6ff3ac7",
   "metadata": {},
   "outputs": [
    {
     "name": "stdout",
     "output_type": "stream",
     "text": [
      "After five years user age will be:25\n"
     ]
    }
   ],
   "source": [
    "print(\"After five years user age will be:\" + str(int(userage)+5))\n",
    "      ###########String#################     str(###Integer#### )\n",
    "#            String + int  >>>> error"
   ]
  },
  {
   "cell_type": "code",
   "execution_count": 104,
   "id": "4651887a",
   "metadata": {},
   "outputs": [],
   "source": [
    "books = 10"
   ]
  },
  {
   "cell_type": "code",
   "execution_count": 106,
   "id": "1f34d5f7",
   "metadata": {},
   "outputs": [
    {
     "name": "stdout",
     "output_type": "stream",
     "text": [
      "The books on table are 10\n"
     ]
    }
   ],
   "source": [
    "print(\"The books on table are \" + str(books))"
   ]
  },
  {
   "cell_type": "markdown",
   "id": "4db037fc",
   "metadata": {},
   "source": [
    "#####Taking user input and doing concatenation###"
   ]
  },
  {
   "cell_type": "code",
   "execution_count": 110,
   "id": "7467190b",
   "metadata": {},
   "outputs": [
    {
     "name": "stdout",
     "output_type": "stream",
     "text": [
      "Dear student tell me your age!23\n",
      "Please tell me your name alsoAbdullah\n",
      "Dear user your name is Abdullah and your age is 23\n"
     ]
    }
   ],
   "source": [
    "studentage = int(input(\"Dear student tell me your age!\"))\n",
    "studentname = input(\"Please tell me your name also\")\n",
    "\n",
    "print(\"Dear user your name is \"+studentname + \" and your age is \"+ str(studentage))"
   ]
  },
  {
   "cell_type": "markdown",
   "id": "13013c79",
   "metadata": {},
   "source": [
    "Dear user your name is Abdullah and you age is 23"
   ]
  },
  {
   "cell_type": "markdown",
   "id": "77bbdf29",
   "metadata": {},
   "source": [
    "# String concatenation and String Formation"
   ]
  },
  {
   "cell_type": "code",
   "execution_count": 115,
   "id": "91b524a8",
   "metadata": {},
   "outputs": [
    {
     "name": "stdout",
     "output_type": "stream",
     "text": [
      "Dear student tell me your age! 23\n",
      "Please tell me your name also: Asad\n",
      "Dear user, your name is Asad and your age is 23. ok Mr.Asad Hru? Your age will be str(23+10) after 10 years\n"
     ]
    }
   ],
   "source": [
    "studentage = int(input(\"Dear student tell me your age! \"))\n",
    "studentname = input(\"Please tell me your name also: \")\n",
    "\n",
    "print(\"Dear user, your name is {0} and your age is {1}. ok Mr.{0} Hru? Your age will be {1} after 10 years\".format(studentname, studentage))\n",
    "# {placeholder}                                                                "
   ]
  },
  {
   "cell_type": "markdown",
   "id": "0d18b4ba",
   "metadata": {},
   "source": [
    "# Another way of string formation"
   ]
  },
  {
   "cell_type": "code",
   "execution_count": 116,
   "id": "4b2e3088",
   "metadata": {},
   "outputs": [
    {
     "name": "stdout",
     "output_type": "stream",
     "text": [
      "Dear student tell me your age! 67\n",
      "Please tell me your name also: Rehan\n",
      "Dear user, your name is Rehan and your age is 67.\n"
     ]
    }
   ],
   "source": [
    "studentage = int(input(\"Dear student tell me your age! \"))\n",
    "studentname = input(\"Please tell me your name also: \")\n",
    "\n",
    "print(f\"Dear user, your name is {studentname} and your age is {studentage}.\")\n"
   ]
  },
  {
   "cell_type": "markdown",
   "id": "f9b4b7cc",
   "metadata": {},
   "source": [
    "# variable naming convention"
   ]
  },
  {
   "cell_type": "code",
   "execution_count": 119,
   "id": "7c17f0bd",
   "metadata": {},
   "outputs": [],
   "source": [
    "#studentage\n",
    "### Camel Casing###\n",
    "#studentAge\n",
    "\n",
    "my_first_publisged_book = \"Python for kids\"\n",
    "mySecondPublishedBook = \"Programming for all\""
   ]
  },
  {
   "cell_type": "code",
   "execution_count": null,
   "id": "ec544fea",
   "metadata": {},
   "outputs": [],
   "source": []
  }
 ],
 "metadata": {
  "kernelspec": {
   "display_name": "Python 3 (ipykernel)",
   "language": "python",
   "name": "python3"
  },
  "language_info": {
   "codemirror_mode": {
    "name": "ipython",
    "version": 3
   },
   "file_extension": ".py",
   "mimetype": "text/x-python",
   "name": "python",
   "nbconvert_exporter": "python",
   "pygments_lexer": "ipython3",
   "version": "3.9.7"
  }
 },
 "nbformat": 4,
 "nbformat_minor": 5
}

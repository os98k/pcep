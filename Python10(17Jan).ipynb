{
 "cells": [
  {
   "cell_type": "markdown",
   "id": "0fe2804c",
   "metadata": {},
   "source": [
    "# last Class\n",
    "    - More on list\n",
    "    - loops\n",
    "    - for loop"
   ]
  },
  {
   "cell_type": "markdown",
   "id": "b9ae0cee",
   "metadata": {},
   "source": [
    "# Today Class\n",
    " - While Loops\n",
    " -List packing and Unpacking \n",
    " -Tuple\n",
    " -Set\n",
    " -Dictionary"
   ]
  },
  {
   "cell_type": "markdown",
   "id": "c900dd2d",
   "metadata": {},
   "source": [
    "# What is the difference?\n",
    " between for loop and while loop"
   ]
  },
  {
   "cell_type": "markdown",
   "id": "239b83b2",
   "metadata": {},
   "source": [
    "While loop is conditional based"
   ]
  },
  {
   "cell_type": "code",
   "execution_count": 2,
   "id": "36d5d9d9",
   "metadata": {},
   "outputs": [
    {
     "name": "stdout",
     "output_type": "stream",
     "text": [
      "Hello 0\n",
      "Hello 1\n",
      "Hello 2\n",
      "Hello 3\n",
      "Hello 4\n",
      "Hello 5\n",
      "Hello 6\n",
      "Hello 7\n",
      "Hello 8\n",
      "Hello 9\n"
     ]
    }
   ],
   "source": [
    "for num in range(10):\n",
    "    print(\"Hello\", num)"
   ]
  },
  {
   "cell_type": "code",
   "execution_count": 6,
   "id": "9b65169d",
   "metadata": {},
   "outputs": [
    {
     "name": "stdout",
     "output_type": "stream",
     "text": [
      "Hello 0\n",
      "Hello 1\n",
      "Hello 2\n",
      "Hello 3\n",
      "Hello 4\n",
      "Hello 5\n",
      "Hello 6\n",
      "Hello 7\n",
      "Hello 8\n",
      "Hello 9\n",
      "I m out of while loop now\n"
     ]
    }
   ],
   "source": [
    "a = 0 # 12345678910\n",
    "while a<10:\n",
    "    print(\"Hello\", a)\n",
    "    a +=1  # counter \n",
    "print(\"I m out of while loop now\")"
   ]
  },
  {
   "cell_type": "code",
   "execution_count": 9,
   "id": "e7e97ce1",
   "metadata": {},
   "outputs": [
    {
     "name": "stdout",
     "output_type": "stream",
     "text": [
      "Hello 10\n",
      "Hello 8\n",
      "Hello 6\n",
      "Hello 4\n",
      "Hello 2\n",
      "I am out of while loop\n"
     ]
    }
   ],
   "source": [
    "a= 10\n",
    "while a>0:\n",
    "    print(\"Hello\", a)\n",
    "    a -=2\n",
    "print(\"I am out of while loop\")"
   ]
  },
  {
   "cell_type": "code",
   "execution_count": 10,
   "id": "3be07550",
   "metadata": {},
   "outputs": [],
   "source": [
    "# for loop is executed defined number of times. \n",
    "# we can use break keyword to break the for loop"
   ]
  },
  {
   "cell_type": "code",
   "execution_count": 11,
   "id": "bee3817b",
   "metadata": {},
   "outputs": [],
   "source": [
    "# while loop is excecuted defined number of time but condtion based\n",
    "# we can use break keyword to break the for loop\n"
   ]
  },
  {
   "cell_type": "code",
   "execution_count": 9,
   "id": "7395f0aa",
   "metadata": {},
   "outputs": [
    {
     "name": "stdout",
     "output_type": "stream",
     "text": [
      "Enter your favourite dishes or q to exitA\n",
      "Enter your favourite dishes or q to exitB\n",
      "Enter your favourite dishes or q to exitC\n",
      "Enter your favourite dishes or q to exitD\n",
      "Enter your favourite dishes or q to exitF\n",
      "['A', 'B', 'C', 'D', 'F']\n"
     ]
    }
   ],
   "source": [
    "dishes=[]\n",
    "\n",
    "for a in range(5):\n",
    "    x = input(\"Enter your favourite dishes or q to exit\")\n",
    "    if x == 'q':\n",
    "        break\n",
    "    else:\n",
    "        dishes.append(x)\n",
    "print(dishes)\n",
    "    "
   ]
  },
  {
   "cell_type": "code",
   "execution_count": 2,
   "id": "6994d6e8",
   "metadata": {},
   "outputs": [
    {
     "name": "stdout",
     "output_type": "stream",
     "text": [
      "Enter your favourite dishA\n",
      "Enter your favourite dishB\n",
      "Enter your favourite dishC\n",
      "Enter your favourite dishD\n",
      "['A', 'B', 'C', 'D']\n"
     ]
    }
   ],
   "source": [
    "\n",
    "dishes=[]\n",
    "z = 0\n",
    "while z<4:\n",
    "    \n",
    "    x = input(\"Enter your favourite dish\")\n",
    "    dishes.append(x)\n",
    "    z +=1\n",
    "print(dishes)\n",
    "    "
   ]
  },
  {
   "cell_type": "code",
   "execution_count": null,
   "id": "4fb95a57",
   "metadata": {},
   "outputs": [],
   "source": [
    "print(\"Heelo\")"
   ]
  },
  {
   "cell_type": "markdown",
   "id": "150005e1",
   "metadata": {},
   "source": [
    "# Flag  in while loop"
   ]
  },
  {
   "cell_type": "code",
   "execution_count": null,
   "id": "d2c4986b",
   "metadata": {},
   "outputs": [],
   "source": [
    "# flag = True\n",
    "dishes=[]\n",
    "while flag:\n",
    "    dish = input(\"Enter your favourite dish or q to exit\")\n",
    "    \n",
    "    if dish==\"q\":\n",
    "        flag=False\n",
    "    else:\n",
    "        dishes.append(dish)\n",
    "print(dishes)\n",
    "    \n",
    "    "
   ]
  },
  {
   "cell_type": "markdown",
   "id": "e5f49862",
   "metadata": {},
   "source": [
    "# List packing and Unpacking"
   ]
  },
  {
   "cell_type": "code",
   "execution_count": 11,
   "id": "8a29238f",
   "metadata": {},
   "outputs": [],
   "source": [
    "a  = [\"Mango\", \"Apple\", \"Gauva\"]\n",
    "\n",
    "# Packing"
   ]
  },
  {
   "cell_type": "code",
   "execution_count": 12,
   "id": "d655b52f",
   "metadata": {},
   "outputs": [],
   "source": [
    "fruit1, fruit2, fruit3 = a\n",
    "# unpacking"
   ]
  },
  {
   "cell_type": "code",
   "execution_count": 13,
   "id": "f9e5a6c0",
   "metadata": {},
   "outputs": [
    {
     "name": "stdout",
     "output_type": "stream",
     "text": [
      "Mango Apple Gauva\n"
     ]
    }
   ],
   "source": [
    "print(fruit1, fruit2, fruit3)"
   ]
  },
  {
   "cell_type": "markdown",
   "id": "c7da67be",
   "metadata": {},
   "source": [
    "# Tuple"
   ]
  },
  {
   "cell_type": "code",
   "execution_count": 14,
   "id": "d9b0d31d",
   "metadata": {},
   "outputs": [],
   "source": [
    "# its is like a list but tuple is immutable\n",
    "a_tuple = ()"
   ]
  },
  {
   "cell_type": "code",
   "execution_count": 15,
   "id": "9b738448",
   "metadata": {},
   "outputs": [],
   "source": [
    "b_tuple = (\"Mango\", \"Apple\", \"Gauva\")"
   ]
  },
  {
   "cell_type": "code",
   "execution_count": 16,
   "id": "ae76078a",
   "metadata": {},
   "outputs": [
    {
     "data": {
      "text/plain": [
       "('Mango', 'Apple', 'Gauva')"
      ]
     },
     "execution_count": 16,
     "metadata": {},
     "output_type": "execute_result"
    }
   ],
   "source": [
    "b_tuple"
   ]
  },
  {
   "cell_type": "code",
   "execution_count": 17,
   "id": "7a9dbeff",
   "metadata": {},
   "outputs": [],
   "source": [
    "names = 'Nasir', 'Husain', \"Asad\""
   ]
  },
  {
   "cell_type": "code",
   "execution_count": 18,
   "id": "faf0b468",
   "metadata": {},
   "outputs": [
    {
     "data": {
      "text/plain": [
       "('Nasir', 'Husain', 'Asad')"
      ]
     },
     "execution_count": 18,
     "metadata": {},
     "output_type": "execute_result"
    }
   ],
   "source": [
    "names"
   ]
  },
  {
   "cell_type": "code",
   "execution_count": 19,
   "id": "2a7c653d",
   "metadata": {},
   "outputs": [
    {
     "data": {
      "text/plain": [
       "tuple"
      ]
     },
     "execution_count": 19,
     "metadata": {},
     "output_type": "execute_result"
    }
   ],
   "source": [
    "type(names)"
   ]
  },
  {
   "cell_type": "code",
   "execution_count": 20,
   "id": "9b6e9ed2",
   "metadata": {},
   "outputs": [],
   "source": [
    "st1,st2,st3 = names  # unapcking a tuple"
   ]
  },
  {
   "cell_type": "code",
   "execution_count": 21,
   "id": "7fa3518a",
   "metadata": {},
   "outputs": [
    {
     "data": {
      "text/plain": [
       "'Nasir'"
      ]
     },
     "execution_count": 21,
     "metadata": {},
     "output_type": "execute_result"
    }
   ],
   "source": [
    "st1"
   ]
  },
  {
   "cell_type": "code",
   "execution_count": 22,
   "id": "c46d9a8b",
   "metadata": {},
   "outputs": [
    {
     "data": {
      "text/plain": [
       "'Husain'"
      ]
     },
     "execution_count": 22,
     "metadata": {},
     "output_type": "execute_result"
    }
   ],
   "source": [
    "st2"
   ]
  },
  {
   "cell_type": "code",
   "execution_count": 23,
   "id": "f6cde2ec",
   "metadata": {},
   "outputs": [
    {
     "data": {
      "text/plain": [
       "'Asad'"
      ]
     },
     "execution_count": 23,
     "metadata": {},
     "output_type": "execute_result"
    }
   ],
   "source": [
    "st3"
   ]
  },
  {
   "cell_type": "code",
   "execution_count": 24,
   "id": "2db14d39",
   "metadata": {},
   "outputs": [
    {
     "data": {
      "text/plain": [
       "'Nasir'"
      ]
     },
     "execution_count": 24,
     "metadata": {},
     "output_type": "execute_result"
    }
   ],
   "source": [
    "names[0]"
   ]
  },
  {
   "cell_type": "code",
   "execution_count": 26,
   "id": "6e0785a8",
   "metadata": {},
   "outputs": [
    {
     "data": {
      "text/plain": [
       "('Nasir', 'Husain')"
      ]
     },
     "execution_count": 26,
     "metadata": {},
     "output_type": "execute_result"
    }
   ],
   "source": [
    "names[0:2]"
   ]
  },
  {
   "cell_type": "code",
   "execution_count": 27,
   "id": "7c50780a",
   "metadata": {},
   "outputs": [
    {
     "data": {
      "text/plain": [
       "1"
      ]
     },
     "execution_count": 27,
     "metadata": {},
     "output_type": "execute_result"
    }
   ],
   "source": [
    "names.count('Nasir')"
   ]
  },
  {
   "cell_type": "code",
   "execution_count": 28,
   "id": "cffe96e5",
   "metadata": {},
   "outputs": [
    {
     "data": {
      "text/plain": [
       "0"
      ]
     },
     "execution_count": 28,
     "metadata": {},
     "output_type": "execute_result"
    }
   ],
   "source": [
    "names.index('Nasir')"
   ]
  },
  {
   "cell_type": "code",
   "execution_count": 29,
   "id": "a9ed1a2c",
   "metadata": {},
   "outputs": [],
   "source": [
    "two_stud = names[0:2]"
   ]
  },
  {
   "cell_type": "code",
   "execution_count": 30,
   "id": "416fa83f",
   "metadata": {},
   "outputs": [
    {
     "data": {
      "text/plain": [
       "('Nasir', 'Husain')"
      ]
     },
     "execution_count": 30,
     "metadata": {},
     "output_type": "execute_result"
    }
   ],
   "source": [
    "two_stud"
   ]
  },
  {
   "cell_type": "code",
   "execution_count": 31,
   "id": "b8b26c9e",
   "metadata": {
    "scrolled": true
   },
   "outputs": [
    {
     "data": {
      "text/plain": [
       "['Nasir', 'Husain', 'Asad']"
      ]
     },
     "execution_count": 31,
     "metadata": {},
     "output_type": "execute_result"
    }
   ],
   "source": [
    "list(names)"
   ]
  },
  {
   "cell_type": "code",
   "execution_count": 32,
   "id": "9eeef571",
   "metadata": {},
   "outputs": [
    {
     "data": {
      "text/plain": [
       "('Nasir', 'Husain', 'Asad')"
      ]
     },
     "execution_count": 32,
     "metadata": {},
     "output_type": "execute_result"
    }
   ],
   "source": [
    "names"
   ]
  },
  {
   "cell_type": "code",
   "execution_count": 33,
   "id": "883ab51b",
   "metadata": {},
   "outputs": [
    {
     "data": {
      "text/plain": [
       "('Mango', 'Apple', 'Gauva')"
      ]
     },
     "execution_count": 33,
     "metadata": {},
     "output_type": "execute_result"
    }
   ],
   "source": [
    "tuple(a)"
   ]
  },
  {
   "cell_type": "code",
   "execution_count": 34,
   "id": "028a639e",
   "metadata": {},
   "outputs": [
    {
     "data": {
      "text/plain": [
       "['Mango', 'Apple', 'Gauva']"
      ]
     },
     "execution_count": 34,
     "metadata": {},
     "output_type": "execute_result"
    }
   ],
   "source": [
    "a"
   ]
  },
  {
   "cell_type": "code",
   "execution_count": 35,
   "id": "a7b4e71c",
   "metadata": {},
   "outputs": [],
   "source": [
    "a = tuple(a)"
   ]
  },
  {
   "cell_type": "code",
   "execution_count": 36,
   "id": "ceb53b67",
   "metadata": {},
   "outputs": [
    {
     "data": {
      "text/plain": [
       "('Mango', 'Apple', 'Gauva')"
      ]
     },
     "execution_count": 36,
     "metadata": {},
     "output_type": "execute_result"
    }
   ],
   "source": [
    "a"
   ]
  },
  {
   "cell_type": "code",
   "execution_count": 39,
   "id": "2a7dab77",
   "metadata": {},
   "outputs": [],
   "source": [
    "tuple_in_tuple =(11,22,33,44,55,names)"
   ]
  },
  {
   "cell_type": "code",
   "execution_count": 41,
   "id": "6b9130b8",
   "metadata": {},
   "outputs": [
    {
     "data": {
      "text/plain": [
       "(11, 22, 33, 44, 55, ('Nasir', 'Husain', 'Asad'))"
      ]
     },
     "execution_count": 41,
     "metadata": {},
     "output_type": "execute_result"
    }
   ],
   "source": [
    "tuple_in_tuple"
   ]
  },
  {
   "cell_type": "code",
   "execution_count": 42,
   "id": "703bcb32",
   "metadata": {},
   "outputs": [
    {
     "data": {
      "text/plain": [
       "'Husain'"
      ]
     },
     "execution_count": 42,
     "metadata": {},
     "output_type": "execute_result"
    }
   ],
   "source": [
    "tuple_in_tuple[5][1]"
   ]
  },
  {
   "cell_type": "markdown",
   "id": "21907be0",
   "metadata": {},
   "source": [
    "# Set"
   ]
  },
  {
   "cell_type": "code",
   "execution_count": 47,
   "id": "730fcf90",
   "metadata": {},
   "outputs": [],
   "source": [
    "a_set = {1,2,3,4,5,6,7}"
   ]
  },
  {
   "cell_type": "code",
   "execution_count": 48,
   "id": "054d9b66",
   "metadata": {},
   "outputs": [
    {
     "data": {
      "text/plain": [
       "set"
      ]
     },
     "execution_count": 48,
     "metadata": {},
     "output_type": "execute_result"
    }
   ],
   "source": [
    "type(a_set)"
   ]
  },
  {
   "cell_type": "code",
   "execution_count": 53,
   "id": "f10f2a87",
   "metadata": {},
   "outputs": [
    {
     "data": {
      "text/plain": [
       "{'Apple', 'Gauva', 'Mango'}"
      ]
     },
     "execution_count": 53,
     "metadata": {},
     "output_type": "execute_result"
    }
   ],
   "source": [
    "b_set = set(a)\n",
    "b_set\n",
    "# is collection of well defined and distinct objects"
   ]
  },
  {
   "cell_type": "code",
   "execution_count": 54,
   "id": "54879d13",
   "metadata": {},
   "outputs": [],
   "source": [
    "c={1,2,3,455,66,77,55,44,77}"
   ]
  },
  {
   "cell_type": "code",
   "execution_count": 55,
   "id": "86eac484",
   "metadata": {},
   "outputs": [
    {
     "data": {
      "text/plain": [
       "{1, 2, 3, 44, 55, 66, 77, 455}"
      ]
     },
     "execution_count": 55,
     "metadata": {},
     "output_type": "execute_result"
    }
   ],
   "source": [
    "c"
   ]
  },
  {
   "cell_type": "code",
   "execution_count": 56,
   "id": "ca903805",
   "metadata": {},
   "outputs": [],
   "source": [
    "c.discard(455)"
   ]
  },
  {
   "cell_type": "code",
   "execution_count": 58,
   "id": "f8b6389d",
   "metadata": {},
   "outputs": [
    {
     "data": {
      "text/plain": [
       "False"
      ]
     },
     "execution_count": 58,
     "metadata": {},
     "output_type": "execute_result"
    }
   ],
   "source": [
    "c.isdisjoint(c)"
   ]
  },
  {
   "cell_type": "code",
   "execution_count": 62,
   "id": "85e908ae",
   "metadata": {},
   "outputs": [
    {
     "data": {
      "text/plain": [
       "{1, 2, 3, 44, 55, 66, 77, 'a'}"
      ]
     },
     "execution_count": 62,
     "metadata": {},
     "output_type": "execute_result"
    }
   ],
   "source": [
    "c.update({'a'})\n",
    "c"
   ]
  },
  {
   "cell_type": "markdown",
   "id": "1d8b6fba",
   "metadata": {},
   "source": [
    "# Dictionary"
   ]
  },
  {
   "cell_type": "code",
   "execution_count": 49,
   "id": "42feb0b4",
   "metadata": {},
   "outputs": [],
   "source": [
    "a_dict = {\"key\":100}"
   ]
  },
  {
   "cell_type": "code",
   "execution_count": 51,
   "id": "04ee027b",
   "metadata": {},
   "outputs": [
    {
     "data": {
      "text/plain": [
       "dict"
      ]
     },
     "execution_count": 51,
     "metadata": {},
     "output_type": "execute_result"
    }
   ],
   "source": [
    "type(a_dict)"
   ]
  },
  {
   "cell_type": "code",
   "execution_count": 63,
   "id": "7f6aa9e1",
   "metadata": {},
   "outputs": [
    {
     "name": "stdout",
     "output_type": "stream",
     "text": [
      "0\n",
      "1\n",
      "2\n",
      "3\n",
      "4\n",
      "A khatam\n"
     ]
    }
   ],
   "source": [
    "for a in range(5):\n",
    "    print(a)\n",
    "else:\n",
    "    print(\"A khatam\")"
   ]
  },
  {
   "cell_type": "code",
   "execution_count": 64,
   "id": "52528416",
   "metadata": {},
   "outputs": [
    {
     "name": "stdout",
     "output_type": "stream",
     "text": [
      "0\n",
      "1\n",
      "2\n"
     ]
    }
   ],
   "source": [
    "for a in range(5):\n",
    "    if a==3:\n",
    "        break\n",
    "    print(a)\n",
    "else:\n",
    "    print(\"A khatam\")"
   ]
  },
  {
   "cell_type": "code",
   "execution_count": 68,
   "id": "22e0af3d",
   "metadata": {},
   "outputs": [
    {
     "name": "stdout",
     "output_type": "stream",
     "text": [
      "Enter how many times you want your loop to excecute5\n",
      "0 Hello Python\n",
      "1 Hello Python\n",
      "2 Hello Python\n",
      "3 Hello Python\n",
      "4 Hello Python\n"
     ]
    }
   ],
   "source": [
    "n = int(input(\"Enter how many times you want your loop to excecute\"))\n",
    "for a in range(n):\n",
    "    print(a, \"Hello Python\")"
   ]
  },
  {
   "cell_type": "markdown",
   "id": "586e531f",
   "metadata": {},
   "source": [
    "P = Square root of [(2 * A * B)/C]"
   ]
  },
  {
   "cell_type": "code",
   "execution_count": null,
   "id": "997800de",
   "metadata": {},
   "outputs": [],
   "source": [
    "a= 30 \n",
    "b = 50 \n",
    "c = int(input(\"Enter value of c \"))\n",
    "p = (2*a*b/c)**(0.5)\n"
   ]
  },
  {
   "cell_type": "code",
   "execution_count": 69,
   "id": "8fdf112c",
   "metadata": {},
   "outputs": [],
   "source": [
    "aa = list(range(10))"
   ]
  },
  {
   "cell_type": "code",
   "execution_count": 70,
   "id": "737e3366",
   "metadata": {},
   "outputs": [
    {
     "data": {
      "text/plain": [
       "[0, 1, 2, 3, 4, 5, 6, 7, 8, 9]"
      ]
     },
     "execution_count": 70,
     "metadata": {},
     "output_type": "execute_result"
    }
   ],
   "source": [
    "aa"
   ]
  },
  {
   "cell_type": "code",
   "execution_count": null,
   "id": "46f486dd",
   "metadata": {},
   "outputs": [],
   "source": []
  }
 ],
 "metadata": {
  "kernelspec": {
   "display_name": "Python 3 (ipykernel)",
   "language": "python",
   "name": "python3"
  },
  "language_info": {
   "codemirror_mode": {
    "name": "ipython",
    "version": 3
   },
   "file_extension": ".py",
   "mimetype": "text/x-python",
   "name": "python",
   "nbconvert_exporter": "python",
   "pygments_lexer": "ipython3",
   "version": "3.9.7"
  }
 },
 "nbformat": 4,
 "nbformat_minor": 5
}

{
 "cells": [
  {
   "cell_type": "code",
   "execution_count": null,
   "id": "3f016fd2",
   "metadata": {},
   "outputs": [],
   "source": [
    "class Dog():\n",
    "        def __init__(self, age,breed, name) :\n",
    "            \n",
    "            # Attrributes\n",
    "            self.name = name\n",
    "            self.age = age\n",
    "            self.breed = breed\n",
    "        \n",
    "        # Actions\n",
    "        def sit(self):\n",
    "         \"\"\"Simulate a dog sitting in response to a command.\"\"\"\n",
    "         print(self.name.title() + \" is now sitting.\")\n",
    "        \n",
    "        \n",
    "        def roll_over(self):\n",
    "         \"\"\"Simulate rolling over in response to a command.\"\"\"\n",
    "         print(self.name.title() + \" rolled over!\")\n"
   ]
  },
  {
   "cell_type": "code",
   "execution_count": null,
   "id": "e0812b7e",
   "metadata": {},
   "outputs": [],
   "source": [
    "dog1 = Dog(2, \"German\", \"Tonny\")\n",
    "# whenever an object is created, it automatically calls the class initializer\n",
    "# if we are nor making initializer in the class, object will be created"
   ]
  },
  {
   "cell_type": "code",
   "execution_count": null,
   "id": "40500db5",
   "metadata": {},
   "outputs": [],
   "source": [
    "# An object inherits every thing that a class have because object is an instance of class"
   ]
  },
  {
   "cell_type": "code",
   "execution_count": null,
   "id": "8fe1be00",
   "metadata": {},
   "outputs": [],
   "source": [
    "dog1.age"
   ]
  },
  {
   "cell_type": "code",
   "execution_count": null,
   "id": "7c24afd6",
   "metadata": {},
   "outputs": [],
   "source": [
    "dog1.name\n"
   ]
  },
  {
   "cell_type": "code",
   "execution_count": null,
   "id": "447dfc63",
   "metadata": {},
   "outputs": [],
   "source": [
    "dog1.sit()"
   ]
  },
  {
   "cell_type": "code",
   "execution_count": null,
   "id": "0c752fbb",
   "metadata": {},
   "outputs": [],
   "source": [
    "dog1.breed"
   ]
  },
  {
   "cell_type": "code",
   "execution_count": null,
   "id": "073e8f19",
   "metadata": {},
   "outputs": [],
   "source": [
    "dog1.roll_over()"
   ]
  },
  {
   "cell_type": "code",
   "execution_count": null,
   "id": "0397f7c1",
   "metadata": {},
   "outputs": [],
   "source": [
    "dog2 = Dog(1,\"American\")"
   ]
  },
  {
   "cell_type": "code",
   "execution_count": null,
   "id": "acf39769",
   "metadata": {},
   "outputs": [],
   "source": [
    "dog2.name"
   ]
  },
  {
   "cell_type": "code",
   "execution_count": null,
   "id": "3397cba0",
   "metadata": {},
   "outputs": [],
   "source": [
    "dog2.age"
   ]
  },
  {
   "cell_type": "code",
   "execution_count": null,
   "id": "2bbcf0bc",
   "metadata": {},
   "outputs": [],
   "source": [
    "dog2.breed"
   ]
  },
  {
   "cell_type": "code",
   "execution_count": null,
   "id": "0f82842d",
   "metadata": {},
   "outputs": [],
   "source": [
    "dog2.sit()"
   ]
  },
  {
   "cell_type": "code",
   "execution_count": null,
   "id": "b85a3193",
   "metadata": {},
   "outputs": [],
   "source": [
    "dog3 = Dog(\"2\",\"Breed\",\"Jecky\")"
   ]
  },
  {
   "cell_type": "code",
   "execution_count": null,
   "id": "b83c5341",
   "metadata": {},
   "outputs": [],
   "source": [
    "Dog.sit(dog3)\n",
    "\n",
    "# If we call a method or property this way,\n",
    "#we will supply object name/reference explicitly"
   ]
  },
  {
   "cell_type": "code",
   "execution_count": null,
   "id": "357efa6d",
   "metadata": {},
   "outputs": [],
   "source": [
    "dog3.sit()\n",
    "# If we call a method or property this way,\n",
    "#oBJECT NAME/REFERENCE itself goes with the call."
   ]
  },
  {
   "cell_type": "code",
   "execution_count": 7,
   "id": "d168f632",
   "metadata": {},
   "outputs": [],
   "source": [
    "class Patient():\n",
    "    def __init__(self, name, gender,disease, contact):\n",
    "        self.patient_name = name\n",
    "        self.patient_gender = gender\n",
    "        self.patient_disease = disease\n",
    "        self.patient_contact = contact\n",
    "    \n",
    "    def take_medicine(self):\n",
    "        print(f\"{self.patient_name} is taking medicine\")\n",
    "    \n",
    "    def patient_details(self):\n",
    "        print(f\"\"\"\n",
    "        Name: {self.patient_name}\n",
    "        Gender:{self.patient_gender} \n",
    "        Disease: {self.patient_disease}\n",
    "        Contact: {self.patient_contact}\n",
    "        \n",
    "        \"\"\")\n",
    "        \n",
    "    # Getter \n",
    "    def get_name(self):\n",
    "        return self.patient_name\n",
    "    \n",
    "    # Setter\n",
    "    def set_name(self,newName):       \n",
    "        self.patient_name = newName\n",
    "        \n",
    "    def get_gender(self):\n",
    "        return self.patient_gender\n",
    "    \n",
    "    # Setter\n",
    "    def set_gender(self,newGender):       \n",
    "        self.patient_gender = newGender"
   ]
  },
  {
   "cell_type": "code",
   "execution_count": 8,
   "id": "2f006066",
   "metadata": {},
   "outputs": [],
   "source": [
    "patient1 = Patient(\"Tom\", \"Male\", \"High Bp\",\"12345678\")"
   ]
  },
  {
   "cell_type": "code",
   "execution_count": 9,
   "id": "c256d3cc",
   "metadata": {},
   "outputs": [],
   "source": [
    "patient2 = Patient(\"JONNY\", \"Male\",\"Headache\",'87654321')"
   ]
  },
  {
   "cell_type": "code",
   "execution_count": 10,
   "id": "25ee8561",
   "metadata": {},
   "outputs": [
    {
     "ename": "AttributeError",
     "evalue": "'Patient' object has no attribute 'name'",
     "output_type": "error",
     "traceback": [
      "\u001b[1;31m---------------------------------------------------------------------------\u001b[0m",
      "\u001b[1;31mAttributeError\u001b[0m                            Traceback (most recent call last)",
      "\u001b[1;32mC:\\Users\\ADMINI~1\\AppData\\Local\\Temp/ipykernel_6528/2590364086.py\u001b[0m in \u001b[0;36m<module>\u001b[1;34m\u001b[0m\n\u001b[1;32m----> 1\u001b[1;33m \u001b[0mpatient2\u001b[0m\u001b[1;33m.\u001b[0m\u001b[0mname\u001b[0m\u001b[1;33m\u001b[0m\u001b[1;33m\u001b[0m\u001b[0m\n\u001b[0m",
      "\u001b[1;31mAttributeError\u001b[0m: 'Patient' object has no attribute 'name'"
     ]
    }
   ],
   "source": [
    "patient2.name"
   ]
  },
  {
   "cell_type": "code",
   "execution_count": 11,
   "id": "79f071ee",
   "metadata": {},
   "outputs": [
    {
     "ename": "AttributeError",
     "evalue": "'Patient' object has no attribute 'disease'",
     "output_type": "error",
     "traceback": [
      "\u001b[1;31m---------------------------------------------------------------------------\u001b[0m",
      "\u001b[1;31mAttributeError\u001b[0m                            Traceback (most recent call last)",
      "\u001b[1;32mC:\\Users\\ADMINI~1\\AppData\\Local\\Temp/ipykernel_6528/2424315408.py\u001b[0m in \u001b[0;36m<module>\u001b[1;34m\u001b[0m\n\u001b[1;32m----> 1\u001b[1;33m \u001b[0mpatient1\u001b[0m\u001b[1;33m.\u001b[0m\u001b[0mdisease\u001b[0m\u001b[1;33m\u001b[0m\u001b[1;33m\u001b[0m\u001b[0m\n\u001b[0m",
      "\u001b[1;31mAttributeError\u001b[0m: 'Patient' object has no attribute 'disease'"
     ]
    }
   ],
   "source": [
    "patient1.disease"
   ]
  },
  {
   "cell_type": "code",
   "execution_count": null,
   "id": "8d131fcc",
   "metadata": {},
   "outputs": [],
   "source": [
    "patient2.name"
   ]
  },
  {
   "cell_type": "code",
   "execution_count": null,
   "id": "155e1e25",
   "metadata": {},
   "outputs": [],
   "source": [
    "Patient.take_medicine(patient1)"
   ]
  },
  {
   "cell_type": "code",
   "execution_count": null,
   "id": "49676909",
   "metadata": {},
   "outputs": [],
   "source": [
    "patient1.take_medicine()"
   ]
  },
  {
   "cell_type": "code",
   "execution_count": null,
   "id": "9afc16e1",
   "metadata": {},
   "outputs": [],
   "source": [
    "patient2.patient_details()"
   ]
  },
  {
   "cell_type": "markdown",
   "id": "bad24803",
   "metadata": {},
   "source": [
    "# Updating a attrribute's value\n",
    "\n",
    "# Direclty"
   ]
  },
  {
   "cell_type": "code",
   "execution_count": null,
   "id": "4160c1c0",
   "metadata": {},
   "outputs": [],
   "source": [
    "patient1.disease"
   ]
  },
  {
   "cell_type": "code",
   "execution_count": null,
   "id": "8abdbe8b",
   "metadata": {},
   "outputs": [],
   "source": [
    "patient1.disease = \"Low Bp\""
   ]
  },
  {
   "cell_type": "code",
   "execution_count": null,
   "id": "22390448",
   "metadata": {},
   "outputs": [],
   "source": [
    "patient1.disease"
   ]
  },
  {
   "cell_type": "code",
   "execution_count": null,
   "id": "6df25dfd",
   "metadata": {},
   "outputs": [],
   "source": [
    "patient1.patient_details()"
   ]
  },
  {
   "cell_type": "code",
   "execution_count": null,
   "id": "b3283e34",
   "metadata": {},
   "outputs": [],
   "source": [
    "# Changing attributes value directly is totally not a good approach"
   ]
  },
  {
   "cell_type": "markdown",
   "id": "1b64786c",
   "metadata": {},
   "source": [
    "# GETTERs & SETTERS\n",
    "\n",
    "# Changing attribute's value by Get SET"
   ]
  },
  {
   "cell_type": "code",
   "execution_count": 12,
   "id": "b45da15d",
   "metadata": {},
   "outputs": [
    {
     "data": {
      "text/plain": [
       "'Tom'"
      ]
     },
     "execution_count": 12,
     "metadata": {},
     "output_type": "execute_result"
    }
   ],
   "source": [
    "patient1.get_name()"
   ]
  },
  {
   "cell_type": "code",
   "execution_count": 13,
   "id": "abdb43d5",
   "metadata": {},
   "outputs": [],
   "source": [
    "patient1.set_name('John')"
   ]
  },
  {
   "cell_type": "code",
   "execution_count": 14,
   "id": "3175a011",
   "metadata": {},
   "outputs": [
    {
     "data": {
      "text/plain": [
       "'John'"
      ]
     },
     "execution_count": 14,
     "metadata": {},
     "output_type": "execute_result"
    }
   ],
   "source": [
    "patient1.get_name()"
   ]
  },
  {
   "cell_type": "code",
   "execution_count": null,
   "id": "c93b23b5",
   "metadata": {},
   "outputs": [],
   "source": []
  }
 ],
 "metadata": {
  "kernelspec": {
   "display_name": "Python 3 (ipykernel)",
   "language": "python",
   "name": "python3"
  },
  "language_info": {
   "codemirror_mode": {
    "name": "ipython",
    "version": 3
   },
   "file_extension": ".py",
   "mimetype": "text/x-python",
   "name": "python",
   "nbconvert_exporter": "python",
   "pygments_lexer": "ipython3",
   "version": "3.9.7"
  }
 },
 "nbformat": 4,
 "nbformat_minor": 5
}

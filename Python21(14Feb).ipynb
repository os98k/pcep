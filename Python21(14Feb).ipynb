{
 "cells": [
  {
   "cell_type": "markdown",
   "id": "27ca7164",
   "metadata": {},
   "source": [
    "# Pillars of OOP "
   ]
  },
  {
   "cell_type": "markdown",
   "id": "4f09886e",
   "metadata": {},
   "source": [
    "- Inheritance\n",
    "- Polymorphism\n",
    "- Encapsulation\n",
    "- Abstraction"
   ]
  },
  {
   "cell_type": "markdown",
   "id": "ffb5964e",
   "metadata": {},
   "source": [
    "# Inheritance \n"
   ]
  },
  {
   "cell_type": "code",
   "execution_count": 64,
   "id": "dbb87177",
   "metadata": {},
   "outputs": [],
   "source": [
    "class Person():\n",
    "    def __init__(self, name, age, gender,cnic, contact):\n",
    "        self.name = name\n",
    "        self.age = age\n",
    "        self.gender = gender\n",
    "        self.contact = contact\n",
    "        \n",
    "    def run(self):\n",
    "        if self.age >=1:\n",
    "            print(f\"{self.name} is running normally\")\n",
    "        else:\n",
    "            print(f\"{self.name} is of age {self.age}years and can not run\")\n",
    "    def sleep(self):\n",
    "        print(f\"{self.name} is sleeping\")\n",
    "    \n",
    "        "
   ]
  },
  {
   "cell_type": "code",
   "execution_count": 65,
   "id": "070ce820",
   "metadata": {},
   "outputs": [],
   "source": [
    "p1 = Person(\"wajih\", 10, \"M\", \"1234567\", \"0345-6778965\")"
   ]
  },
  {
   "cell_type": "code",
   "execution_count": 63,
   "id": "1aacc20c",
   "metadata": {},
   "outputs": [
    {
     "ename": "AttributeError",
     "evalue": "'Person' object has no attribute 'walk'",
     "output_type": "error",
     "traceback": [
      "\u001b[1;31m---------------------------------------------------------------------------\u001b[0m",
      "\u001b[1;31mAttributeError\u001b[0m                            Traceback (most recent call last)",
      "\u001b[1;32mC:\\Users\\ADMINI~1\\AppData\\Local\\Temp/ipykernel_11200/1011863821.py\u001b[0m in \u001b[0;36m<module>\u001b[1;34m\u001b[0m\n\u001b[1;32m----> 1\u001b[1;33m \u001b[0mp1\u001b[0m\u001b[1;33m.\u001b[0m\u001b[0mwalk\u001b[0m\u001b[1;33m(\u001b[0m\u001b[1;33m)\u001b[0m\u001b[1;33m\u001b[0m\u001b[1;33m\u001b[0m\u001b[0m\n\u001b[0m",
      "\u001b[1;31mAttributeError\u001b[0m: 'Person' object has no attribute 'walk'"
     ]
    }
   ],
   "source": [
    "p1.walk()"
   ]
  },
  {
   "cell_type": "code",
   "execution_count": 66,
   "id": "4da7a5ee",
   "metadata": {},
   "outputs": [
    {
     "name": "stdout",
     "output_type": "stream",
     "text": [
      "wajih is  not sleeping\n"
     ]
    }
   ],
   "source": [
    "p1.sleep()"
   ]
  },
  {
   "cell_type": "code",
   "execution_count": 58,
   "id": "c1f16c9e",
   "metadata": {},
   "outputs": [],
   "source": [
    "class Student(Person):\n",
    "    pass\n",
    "        \n",
    "        "
   ]
  },
  {
   "cell_type": "code",
   "execution_count": 59,
   "id": "e8c810b9",
   "metadata": {},
   "outputs": [],
   "source": [
    "s1 = Student(\"A\",2,\"M\", \"12\",23)"
   ]
  },
  {
   "cell_type": "code",
   "execution_count": 47,
   "id": "6083616d",
   "metadata": {},
   "outputs": [],
   "source": [
    "class Teacher(Person):\n",
    "    pass"
   ]
  },
  {
   "cell_type": "code",
   "execution_count": 48,
   "id": "dfd81fed",
   "metadata": {},
   "outputs": [],
   "source": [
    "class Staff(Person):\n",
    "    pass"
   ]
  },
  {
   "cell_type": "code",
   "execution_count": 49,
   "id": "13e2e947",
   "metadata": {},
   "outputs": [],
   "source": [
    "class Athlete(Person):\n",
    "    def run(self):\n",
    "        print(f\"{self.name} is running super fast\")\n",
    "    #Method overirdding\n",
    "    # polymomorphism (many shape )"
   ]
  },
  {
   "cell_type": "code",
   "execution_count": 50,
   "id": "4b01c6d7",
   "metadata": {},
   "outputs": [],
   "source": [
    "a1 = Athlete(\"Fahad\",32, \"M\", \"234\",\"432\")"
   ]
  },
  {
   "cell_type": "code",
   "execution_count": 51,
   "id": "897fcf86",
   "metadata": {},
   "outputs": [
    {
     "name": "stdout",
     "output_type": "stream",
     "text": [
      "Fahad is running super fast\n"
     ]
    }
   ],
   "source": [
    "a1.run()"
   ]
  },
  {
   "cell_type": "code",
   "execution_count": 52,
   "id": "10dbfc1a",
   "metadata": {},
   "outputs": [
    {
     "data": {
      "text/plain": [
       "4"
      ]
     },
     "execution_count": 52,
     "metadata": {},
     "output_type": "execute_result"
    }
   ],
   "source": [
    "2 + 2 \n",
    "\n",
    "#Plus operator is overirded"
   ]
  },
  {
   "cell_type": "code",
   "execution_count": 54,
   "id": "4c3ddb68",
   "metadata": {},
   "outputs": [
    {
     "data": {
      "text/plain": [
       "'22'"
      ]
     },
     "execution_count": 54,
     "metadata": {},
     "output_type": "execute_result"
    }
   ],
   "source": [
    "\"2\" + \"2\" "
   ]
  },
  {
   "cell_type": "code",
   "execution_count": null,
   "id": "9136c2c9",
   "metadata": {},
   "outputs": [],
   "source": [
    "class college_student(Student):\n",
    "    pass\n",
    "# college student is a student and aw well as is a person"
   ]
  }
 ],
 "metadata": {
  "kernelspec": {
   "display_name": "Python 3 (ipykernel)",
   "language": "python",
   "name": "python3"
  },
  "language_info": {
   "codemirror_mode": {
    "name": "ipython",
    "version": 3
   },
   "file_extension": ".py",
   "mimetype": "text/x-python",
   "name": "python",
   "nbconvert_exporter": "python",
   "pygments_lexer": "ipython3",
   "version": "3.9.7"
  }
 },
 "nbformat": 4,
 "nbformat_minor": 5
}

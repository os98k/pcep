{
 "cells": [
  {
   "cell_type": "raw",
   "id": "52712e27",
   "metadata": {},
   "source": [
    "Previous Classes:\n",
    "    - List \n",
    "    - Tuple\n",
    "    - Set"
   ]
  },
  {
   "cell_type": "raw",
   "id": "389f3f9b",
   "metadata": {},
   "source": [
    "Today\n",
    " - Dictinory  (A key value pair)"
   ]
  },
  {
   "cell_type": "code",
   "execution_count": 2,
   "id": "fc5b874e",
   "metadata": {},
   "outputs": [],
   "source": [
    "# declare and initilize\n",
    "\n",
    "adic = {\"name\": \"Kamran\", \"age\":29}\n",
    "       #  key :  Value     key:value "
   ]
  },
  {
   "cell_type": "code",
   "execution_count": 3,
   "id": "413135e0",
   "metadata": {},
   "outputs": [
    {
     "data": {
      "text/plain": [
       "{'name': 'Kamran', 'age': 29}"
      ]
     },
     "execution_count": 3,
     "metadata": {},
     "output_type": "execute_result"
    }
   ],
   "source": [
    "adic"
   ]
  },
  {
   "cell_type": "code",
   "execution_count": 6,
   "id": "6b6df8ce",
   "metadata": {},
   "outputs": [
    {
     "name": "stdout",
     "output_type": "stream",
     "text": [
      "<class 'dict'>\n"
     ]
    }
   ],
   "source": [
    "print(type(adic))"
   ]
  },
  {
   "cell_type": "code",
   "execution_count": 9,
   "id": "24096ddf",
   "metadata": {},
   "outputs": [],
   "source": [
    "empty_dic = {}\n",
    "alist = [1,2,3,4,5]\n",
    "aset= {22,33,44,55}\n",
    "atuple =(90,100)\n",
    "astring=\"Saylani Mass IT Training\""
   ]
  },
  {
   "cell_type": "code",
   "execution_count": 11,
   "id": "5360257a",
   "metadata": {},
   "outputs": [
    {
     "name": "stdout",
     "output_type": "stream",
     "text": [
      "0 5 4 2 24\n"
     ]
    }
   ],
   "source": [
    "print(len(empty_dic),len(alist),len(aset),len(atuple),len(astring))"
   ]
  },
  {
   "cell_type": "code",
   "execution_count": 12,
   "id": "d635726b",
   "metadata": {},
   "outputs": [
    {
     "data": {
      "text/plain": [
       "{'name': 'Kamran', 'age': 29}"
      ]
     },
     "execution_count": 12,
     "metadata": {},
     "output_type": "execute_result"
    }
   ],
   "source": [
    "adic"
   ]
  },
  {
   "cell_type": "markdown",
   "id": "c4dbebed",
   "metadata": {},
   "source": [
    "Operation: create, add, update, delete,retrieve (CRUD) "
   ]
  },
  {
   "cell_type": "code",
   "execution_count": 13,
   "id": "44cbfea0",
   "metadata": {},
   "outputs": [],
   "source": [
    "#Create\n",
    "adic = {\"name\": \"Kamran\", \"age\":29}\n",
    "       #  key :  Value     key:value "
   ]
  },
  {
   "cell_type": "code",
   "execution_count": 14,
   "id": "a262765d",
   "metadata": {},
   "outputs": [],
   "source": [
    "# add\n",
    "adic['city']= \"Karachi\""
   ]
  },
  {
   "cell_type": "code",
   "execution_count": 15,
   "id": "51a5ecd7",
   "metadata": {},
   "outputs": [
    {
     "data": {
      "text/plain": [
       "{'name': 'Kamran', 'age': 29, 'city': 'Karachi'}"
      ]
     },
     "execution_count": 15,
     "metadata": {},
     "output_type": "execute_result"
    }
   ],
   "source": [
    "adic"
   ]
  },
  {
   "cell_type": "code",
   "execution_count": 16,
   "id": "90f22e61",
   "metadata": {},
   "outputs": [
    {
     "data": {
      "text/plain": [
       "{'name': 'Kamran', 'age': 25, 'city': 'Karachi'}"
      ]
     },
     "execution_count": 16,
     "metadata": {},
     "output_type": "execute_result"
    }
   ],
   "source": [
    "# update\n",
    "adic['age']=25\n",
    "adic"
   ]
  },
  {
   "cell_type": "code",
   "execution_count": 17,
   "id": "330b672d",
   "metadata": {},
   "outputs": [
    {
     "data": {
      "text/plain": [
       "'Kamran'"
      ]
     },
     "execution_count": 17,
     "metadata": {},
     "output_type": "execute_result"
    }
   ],
   "source": [
    "# retrieve\n",
    "adic['name']"
   ]
  },
  {
   "cell_type": "code",
   "execution_count": 18,
   "id": "43332560",
   "metadata": {},
   "outputs": [
    {
     "data": {
      "text/plain": [
       "'Kamran'"
      ]
     },
     "execution_count": 18,
     "metadata": {},
     "output_type": "execute_result"
    }
   ],
   "source": [
    "# another way to get value of key\n",
    "adic.get('name')"
   ]
  },
  {
   "cell_type": "code",
   "execution_count": 19,
   "id": "8dc423ae",
   "metadata": {},
   "outputs": [],
   "source": [
    "del adic['city']"
   ]
  },
  {
   "cell_type": "code",
   "execution_count": 20,
   "id": "7f33e7b1",
   "metadata": {},
   "outputs": [
    {
     "data": {
      "text/plain": [
       "{'name': 'Kamran', 'age': 25}"
      ]
     },
     "execution_count": 20,
     "metadata": {},
     "output_type": "execute_result"
    }
   ],
   "source": [
    "adic"
   ]
  },
  {
   "cell_type": "code",
   "execution_count": 21,
   "id": "e6d55156",
   "metadata": {},
   "outputs": [],
   "source": [
    "roll_1 = {\"name\":\"Asad\",\"father_name\":\"Nasir\", \"Course\":\"Python\", \"Class_time\":\"9 to 11\" }"
   ]
  },
  {
   "cell_type": "code",
   "execution_count": 22,
   "id": "70a8b91a",
   "metadata": {},
   "outputs": [
    {
     "name": "stdout",
     "output_type": "stream",
     "text": [
      "name\n",
      "father_name\n",
      "Course\n",
      "Class_time\n"
     ]
    }
   ],
   "source": [
    "# iterating a dictionary\n",
    "for dic_value in roll_1:\n",
    "    print(dic_value)\n",
    "    \n",
    "# if we directly iterate over a dictionary it will return only the KEYS"
   ]
  },
  {
   "cell_type": "code",
   "execution_count": 23,
   "id": "90bbfda7",
   "metadata": {},
   "outputs": [
    {
     "name": "stdout",
     "output_type": "stream",
     "text": [
      "name\n",
      "father_name\n",
      "Course\n",
      "Class_time\n"
     ]
    }
   ],
   "source": [
    "for keys in roll_1.keys():\n",
    "    print(keys)"
   ]
  },
  {
   "cell_type": "code",
   "execution_count": 24,
   "id": "32bdaf20",
   "metadata": {},
   "outputs": [
    {
     "name": "stdout",
     "output_type": "stream",
     "text": [
      "Asad\n",
      "Nasir\n",
      "Python\n",
      "9 to 11\n"
     ]
    }
   ],
   "source": [
    "for value in roll_1.values():\n",
    "    print(value)"
   ]
  },
  {
   "cell_type": "code",
   "execution_count": 26,
   "id": "3611033b",
   "metadata": {},
   "outputs": [
    {
     "name": "stdout",
     "output_type": "stream",
     "text": [
      "The keys is name and the value is Asad\n",
      "The keys is father_name and the value is Nasir\n",
      "The keys is Course and the value is Python\n",
      "The keys is Class_time and the value is 9 to 11\n"
     ]
    }
   ],
   "source": [
    "# RETRIVING ALL VALUES VIA KEY\n",
    "for keys in roll_1.keys():\n",
    "    print(f\"The keys is {keys} and the value is {roll_1[keys]}\")\n",
    "    "
   ]
  },
  {
   "cell_type": "code",
   "execution_count": 27,
   "id": "c6d5bc4b",
   "metadata": {},
   "outputs": [
    {
     "name": "stdout",
     "output_type": "stream",
     "text": [
      "('name', 'Asad')\n",
      "('father_name', 'Nasir')\n",
      "('Course', 'Python')\n",
      "('Class_time', '9 to 11')\n"
     ]
    }
   ],
   "source": [
    "# getting key value together from dic \n",
    "for xyz in roll_1.items():\n",
    "    print(xyz)"
   ]
  },
  {
   "cell_type": "code",
   "execution_count": 29,
   "id": "ec16283f",
   "metadata": {},
   "outputs": [
    {
     "name": "stdout",
     "output_type": "stream",
     "text": [
      "Key:name      Value:Asad\n",
      "Key:father_name      Value:Nasir\n",
      "Key:Course      Value:Python\n",
      "Key:Class_time      Value:9 to 11\n"
     ]
    }
   ],
   "source": [
    "for key,value in roll_1.items():\n",
    "    print(f\"Key:{key}      Value:{value}\")"
   ]
  },
  {
   "cell_type": "code",
   "execution_count": 31,
   "id": "25670e51",
   "metadata": {},
   "outputs": [
    {
     "data": {
      "text/plain": [
       "{'name': 'Asad',\n",
       " 'father_name': 'Nasir',\n",
       " 'Course': 'Python',\n",
       " 'Class_time': '9 to 11'}"
      ]
     },
     "execution_count": 31,
     "metadata": {},
     "output_type": "execute_result"
    }
   ],
   "source": [
    "roll_1"
   ]
  },
  {
   "cell_type": "code",
   "execution_count": 32,
   "id": "24f45bd7",
   "metadata": {},
   "outputs": [],
   "source": [
    "# a Key can be a str or int\n",
    "# a value can be a str , int, list , tuple, set , dic, boolean  \n",
    "\n",
    "miscDic = {1:100, 2:200}"
   ]
  },
  {
   "cell_type": "code",
   "execution_count": 33,
   "id": "b640ff03",
   "metadata": {},
   "outputs": [
    {
     "data": {
      "text/plain": [
       "{1: 100, 2: 200}"
      ]
     },
     "execution_count": 33,
     "metadata": {},
     "output_type": "execute_result"
    }
   ],
   "source": [
    "miscDic"
   ]
  },
  {
   "cell_type": "code",
   "execution_count": 35,
   "id": "2446c95d",
   "metadata": {},
   "outputs": [],
   "source": [
    "miscDic['three']=300"
   ]
  },
  {
   "cell_type": "code",
   "execution_count": 36,
   "id": "71734587",
   "metadata": {},
   "outputs": [
    {
     "data": {
      "text/plain": [
       "{1: 100, 2: 200, 'three': 300}"
      ]
     },
     "execution_count": 36,
     "metadata": {},
     "output_type": "execute_result"
    }
   ],
   "source": [
    "miscDic"
   ]
  },
  {
   "cell_type": "code",
   "execution_count": 37,
   "id": "288ec4b1",
   "metadata": {},
   "outputs": [
    {
     "data": {
      "text/plain": [
       "{1: 100, 2: 200, 'three': 300, 4: 'Four Hundred'}"
      ]
     },
     "execution_count": 37,
     "metadata": {},
     "output_type": "execute_result"
    }
   ],
   "source": [
    "miscDic[4]=\"Four Hundred\"\n",
    "miscDic"
   ]
  },
  {
   "cell_type": "code",
   "execution_count": 38,
   "id": "0c412dc0",
   "metadata": {},
   "outputs": [
    {
     "data": {
      "text/plain": [
       "{1: 100, 2: 200, 'three': 300, 4: 'Four Hundred', 'test': False}"
      ]
     },
     "execution_count": 38,
     "metadata": {},
     "output_type": "execute_result"
    }
   ],
   "source": [
    "miscDic['test']=False\n",
    "miscDic"
   ]
  },
  {
   "cell_type": "markdown",
   "id": "923e2ab7",
   "metadata": {},
   "source": [
    "# A list in a Dictionary"
   ]
  },
  {
   "cell_type": "code",
   "execution_count": 39,
   "id": "1d581db0",
   "metadata": {},
   "outputs": [],
   "source": [
    "class_python = {'Students':['Asad',\"Fahad\",'Hassan', 'Nasir', 'Karim', 'Rehan']\n",
    "               , 'Courses':['Python', \"GD\", \"WEb\", \"Networking\", 'ChatBot','Python']\n",
    "               , 'Day'    :['MOnday', 'Tuesday', 'Wednesday', 'Thursday', 'Friday', 'Sarturday']\n",
    "                , 'Ages'  :[34,56,34,23,19,20]\n",
    "               }"
   ]
  },
  {
   "cell_type": "code",
   "execution_count": 40,
   "id": "af249af2",
   "metadata": {},
   "outputs": [
    {
     "data": {
      "text/plain": [
       "{'Students': ['Asad', 'Fahad', 'Hassan', 'Nasir', 'Karim', 'Rehan'],\n",
       " 'Courses': ['Python', 'GD', 'WEb', 'Networking', 'ChatBot', 'Python'],\n",
       " 'Day': ['MOnday', 'Tuesday', 'Wednesday', 'Thursday', 'Friday', 'Sarturday'],\n",
       " 'Ages': [34, 56, 34, 23, 19, 20]}"
      ]
     },
     "execution_count": 40,
     "metadata": {},
     "output_type": "execute_result"
    }
   ],
   "source": [
    "class_python"
   ]
  },
  {
   "cell_type": "code",
   "execution_count": 41,
   "id": "99ec7f2a",
   "metadata": {},
   "outputs": [
    {
     "name": "stdout",
     "output_type": "stream",
     "text": [
      "['Asad', 'Fahad', 'Hassan', 'Nasir', 'Karim', 'Rehan']\n",
      "['Python', 'GD', 'WEb', 'Networking', 'ChatBot', 'Python']\n",
      "['MOnday', 'Tuesday', 'Wednesday', 'Thursday', 'Friday', 'Sarturday']\n",
      "[34, 56, 34, 23, 19, 20]\n"
     ]
    }
   ],
   "source": [
    "for key,value in class_python.items():\n",
    "    print(value)"
   ]
  },
  {
   "cell_type": "code",
   "execution_count": 42,
   "id": "6dbbb789",
   "metadata": {},
   "outputs": [
    {
     "name": "stdout",
     "output_type": "stream",
     "text": [
      "Asad\n",
      "Python\n",
      "MOnday\n",
      "34\n"
     ]
    }
   ],
   "source": [
    "# get single a student record\n",
    "for key,value in class_python.items():\n",
    "    print(value[0])"
   ]
  },
  {
   "cell_type": "code",
   "execution_count": 43,
   "id": "ea776aad",
   "metadata": {},
   "outputs": [],
   "source": [
    "import pandas "
   ]
  },
  {
   "cell_type": "code",
   "execution_count": 44,
   "id": "abd53fc9",
   "metadata": {},
   "outputs": [
    {
     "data": {
      "text/html": [
       "<div>\n",
       "<style scoped>\n",
       "    .dataframe tbody tr th:only-of-type {\n",
       "        vertical-align: middle;\n",
       "    }\n",
       "\n",
       "    .dataframe tbody tr th {\n",
       "        vertical-align: top;\n",
       "    }\n",
       "\n",
       "    .dataframe thead th {\n",
       "        text-align: right;\n",
       "    }\n",
       "</style>\n",
       "<table border=\"1\" class=\"dataframe\">\n",
       "  <thead>\n",
       "    <tr style=\"text-align: right;\">\n",
       "      <th></th>\n",
       "      <th>Students</th>\n",
       "      <th>Courses</th>\n",
       "      <th>Day</th>\n",
       "      <th>Ages</th>\n",
       "    </tr>\n",
       "  </thead>\n",
       "  <tbody>\n",
       "    <tr>\n",
       "      <th>0</th>\n",
       "      <td>Asad</td>\n",
       "      <td>Python</td>\n",
       "      <td>MOnday</td>\n",
       "      <td>34</td>\n",
       "    </tr>\n",
       "    <tr>\n",
       "      <th>1</th>\n",
       "      <td>Fahad</td>\n",
       "      <td>GD</td>\n",
       "      <td>Tuesday</td>\n",
       "      <td>56</td>\n",
       "    </tr>\n",
       "    <tr>\n",
       "      <th>2</th>\n",
       "      <td>Hassan</td>\n",
       "      <td>WEb</td>\n",
       "      <td>Wednesday</td>\n",
       "      <td>34</td>\n",
       "    </tr>\n",
       "    <tr>\n",
       "      <th>3</th>\n",
       "      <td>Nasir</td>\n",
       "      <td>Networking</td>\n",
       "      <td>Thursday</td>\n",
       "      <td>23</td>\n",
       "    </tr>\n",
       "    <tr>\n",
       "      <th>4</th>\n",
       "      <td>Karim</td>\n",
       "      <td>ChatBot</td>\n",
       "      <td>Friday</td>\n",
       "      <td>19</td>\n",
       "    </tr>\n",
       "    <tr>\n",
       "      <th>5</th>\n",
       "      <td>Rehan</td>\n",
       "      <td>Python</td>\n",
       "      <td>Sarturday</td>\n",
       "      <td>20</td>\n",
       "    </tr>\n",
       "  </tbody>\n",
       "</table>\n",
       "</div>"
      ],
      "text/plain": [
       "  Students     Courses        Day  Ages\n",
       "0     Asad      Python     MOnday    34\n",
       "1    Fahad          GD    Tuesday    56\n",
       "2   Hassan         WEb  Wednesday    34\n",
       "3    Nasir  Networking   Thursday    23\n",
       "4    Karim     ChatBot     Friday    19\n",
       "5    Rehan      Python  Sarturday    20"
      ]
     },
     "execution_count": 44,
     "metadata": {},
     "output_type": "execute_result"
    }
   ],
   "source": [
    "pandas.DataFrame(class_python)"
   ]
  },
  {
   "cell_type": "code",
   "execution_count": 45,
   "id": "cb5d2264",
   "metadata": {},
   "outputs": [
    {
     "data": {
      "text/plain": [
       "{'Students': ['Asad', 'Fahad', 'Hassan', 'Nasir', 'Karim', 'Rehan'],\n",
       " 'Courses': ['Python', 'GD', 'WEb', 'Networking', 'ChatBot', 'Python'],\n",
       " 'Day': ['MOnday', 'Tuesday', 'Wednesday', 'Thursday', 'Friday', 'Sarturday'],\n",
       " 'Ages': [34, 56, 34, 23, 19, 20]}"
      ]
     },
     "execution_count": 45,
     "metadata": {},
     "output_type": "execute_result"
    }
   ],
   "source": [
    "class_python"
   ]
  },
  {
   "cell_type": "code",
   "execution_count": null,
   "id": "0745e5d1",
   "metadata": {},
   "outputs": [],
   "source": [
    "class_python['Courses']"
   ]
  },
  {
   "cell_type": "code",
   "execution_count": 46,
   "id": "7030ca5f",
   "metadata": {},
   "outputs": [],
   "source": [
    "a = ['Python', 'GD', 'WEb', 'Networking', 'ChatBot', 'Python']"
   ]
  },
  {
   "cell_type": "code",
   "execution_count": 55,
   "id": "a709a474",
   "metadata": {},
   "outputs": [
    {
     "name": "stdout",
     "output_type": "stream",
     "text": [
      "True\n"
     ]
    }
   ],
   "source": [
    "for name in a:\n",
    "    if name==\"ChatBot\":\n",
    "        print(\"True\")\n",
    "        break\n",
    "    "
   ]
  },
  {
   "cell_type": "markdown",
   "id": "bea8eb7d",
   "metadata": {},
   "source": [
    "# Keyword \" in \""
   ]
  },
  {
   "cell_type": "code",
   "execution_count": 56,
   "id": "f9e7d3f4",
   "metadata": {},
   "outputs": [
    {
     "data": {
      "text/plain": [
       "True"
      ]
     },
     "execution_count": 56,
     "metadata": {},
     "output_type": "execute_result"
    }
   ],
   "source": [
    "'ChatBot' in a"
   ]
  },
  {
   "cell_type": "markdown",
   "id": "3eb02de6",
   "metadata": {},
   "source": [
    "# Keyword \"is\""
   ]
  },
  {
   "cell_type": "code",
   "execution_count": 57,
   "id": "f3be2db0",
   "metadata": {},
   "outputs": [],
   "source": [
    "# pass by value\n",
    "b = a.copy()\n",
    "c = a[:]\n",
    "# pass by reference\n",
    "d = c"
   ]
  },
  {
   "cell_type": "code",
   "execution_count": 58,
   "id": "594dc918",
   "metadata": {},
   "outputs": [
    {
     "data": {
      "text/plain": [
       "list"
      ]
     },
     "execution_count": 58,
     "metadata": {},
     "output_type": "execute_result"
    }
   ],
   "source": [
    "if type(a)=='list':\n",
    "    b=a.copy()\n"
   ]
  },
  {
   "cell_type": "code",
   "execution_count": 59,
   "id": "c3c1680e",
   "metadata": {},
   "outputs": [
    {
     "data": {
      "text/plain": [
       "False"
      ]
     },
     "execution_count": 59,
     "metadata": {},
     "output_type": "execute_result"
    }
   ],
   "source": []
  },
  {
   "cell_type": "code",
   "execution_count": 60,
   "id": "7e62a292",
   "metadata": {},
   "outputs": [
    {
     "data": {
      "text/plain": [
       "True"
      ]
     },
     "execution_count": 60,
     "metadata": {},
     "output_type": "execute_result"
    }
   ],
   "source": [
    "d is c"
   ]
  },
  {
   "cell_type": "code",
   "execution_count": 61,
   "id": "d88b58c1",
   "metadata": {},
   "outputs": [],
   "source": [
    "z= 100\n",
    "x = z\n",
    "y =100"
   ]
  },
  {
   "cell_type": "code",
   "execution_count": 62,
   "id": "2e2859ef",
   "metadata": {},
   "outputs": [
    {
     "data": {
      "text/plain": [
       "True"
      ]
     },
     "execution_count": 62,
     "metadata": {},
     "output_type": "execute_result"
    }
   ],
   "source": [
    "z is x"
   ]
  },
  {
   "cell_type": "code",
   "execution_count": 63,
   "id": "829f370b",
   "metadata": {},
   "outputs": [
    {
     "data": {
      "text/plain": [
       "True"
      ]
     },
     "execution_count": 63,
     "metadata": {},
     "output_type": "execute_result"
    }
   ],
   "source": [
    "y is z"
   ]
  },
  {
   "cell_type": "code",
   "execution_count": 64,
   "id": "2ad0b133",
   "metadata": {},
   "outputs": [
    {
     "data": {
      "text/plain": [
       "'WEb'"
      ]
     },
     "execution_count": 64,
     "metadata": {},
     "output_type": "execute_result"
    }
   ],
   "source": [
    "class_python['Courses'][2]"
   ]
  },
  {
   "cell_type": "code",
   "execution_count": 79,
   "id": "67c27265",
   "metadata": {},
   "outputs": [
    {
     "data": {
      "text/plain": [
       "{'Students': ['Asad', 'Fahad', 'Hassan', 'Nasir', 'Karim', 'Rehan'],\n",
       " 'Courses': ['Python', 'GD', 'WEb', 'Networking', 'ChatBot', 'Python'],\n",
       " 'Day': ['MOnday', 'Tuesday', 'Wednesday', 'Thursday', 'Friday', 'Sarturday'],\n",
       " 'Ages': [34, 56, 34, 23, 19, 20]}"
      ]
     },
     "execution_count": 79,
     "metadata": {},
     "output_type": "execute_result"
    }
   ],
   "source": [
    "class_python"
   ]
  },
  {
   "cell_type": "code",
   "execution_count": 80,
   "id": "f462099a",
   "metadata": {},
   "outputs": [
    {
     "name": "stdout",
     "output_type": "stream",
     "text": [
      "There is no 'Courss' key\n"
     ]
    }
   ],
   "source": [
    "for key in class_python:\n",
    "    if key=='Courses':\n",
    "        for course in class_python[key]:\n",
    "            print(course)\n",
    "    else:\n",
    "        print(\"There is no 'Courss' key\")\n",
    "        break"
   ]
  },
  {
   "cell_type": "code",
   "execution_count": 73,
   "id": "e9a1e0f9",
   "metadata": {},
   "outputs": [
    {
     "name": "stdout",
     "output_type": "stream",
     "text": [
      "Python\n",
      "GD\n",
      "WEb\n",
      "Networking\n",
      "ChatBot\n",
      "Python\n"
     ]
    }
   ],
   "source": [
    "for key in class_python['Courses']:\n",
    "    print(key)"
   ]
  },
  {
   "cell_type": "code",
   "execution_count": 74,
   "id": "9e1dcfc0",
   "metadata": {},
   "outputs": [
    {
     "data": {
      "text/plain": [
       "{'Students': ['Asad', 'Fahad', 'Hassan', 'Nasir', 'Karim', 'Rehan'],\n",
       " 'Courses': ['Python', 'GD', 'WEb', 'Networking', 'ChatBot', 'Python'],\n",
       " 'Day': ['MOnday', 'Tuesday', 'Wednesday', 'Thursday', 'Friday', 'Sarturday'],\n",
       " 'Ages': [34, 56, 34, 23, 19, 20]}"
      ]
     },
     "execution_count": 74,
     "metadata": {},
     "output_type": "execute_result"
    }
   ],
   "source": [
    "class_python"
   ]
  },
  {
   "cell_type": "code",
   "execution_count": 76,
   "id": "f14c5a95",
   "metadata": {},
   "outputs": [
    {
     "data": {
      "text/plain": [
       "23"
      ]
     },
     "execution_count": 76,
     "metadata": {},
     "output_type": "execute_result"
    }
   ],
   "source": [
    "class_python['Ages'][3]"
   ]
  },
  {
   "cell_type": "code",
   "execution_count": null,
   "id": "f09f64f9",
   "metadata": {},
   "outputs": [],
   "source": []
  }
 ],
 "metadata": {
  "kernelspec": {
   "display_name": "Python 3 (ipykernel)",
   "language": "python",
   "name": "python3"
  },
  "language_info": {
   "codemirror_mode": {
    "name": "ipython",
    "version": 3
   },
   "file_extension": ".py",
   "mimetype": "text/x-python",
   "name": "python",
   "nbconvert_exporter": "python",
   "pygments_lexer": "ipython3",
   "version": "3.9.7"
  }
 },
 "nbformat": 4,
 "nbformat_minor": 5
}

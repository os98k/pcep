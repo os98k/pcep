{
 "cells": [
  {
   "cell_type": "markdown",
   "id": "0a9038b7",
   "metadata": {},
   "source": [
    "# Last Class\n",
    " - Logcial Operators\n",
    "     - and , or\n",
    " - Bitwise Operator\n",
    "     - & , | , ~  , ^ , <<< , >>>>"
   ]
  },
  {
   "cell_type": "markdown",
   "id": "7b431129",
   "metadata": {},
   "source": [
    "# Today Class\n",
    "   - List \n",
    "   - list methods\n",
    "   - List indexing \n",
    "   - List Slicing \n",
    "   - Loops\n",
    "       - for loop\n",
    "       - while loop"
   ]
  },
  {
   "cell_type": "markdown",
   "id": "69b30043",
   "metadata": {},
   "source": [
    "# List "
   ]
  },
  {
   "cell_type": "code",
   "execution_count": 5,
   "id": "0095673d",
   "metadata": {},
   "outputs": [
    {
     "name": "stdout",
     "output_type": "stream",
     "text": [
      "<class 'list'>\n",
      "<class 'str'>\n"
     ]
    }
   ],
   "source": [
    "# it a construct data structure\n",
    "# list array \n",
    "\n",
    "country_name = \"Pakistan\" \n",
    "student1 = \"Asad\"\n",
    "\n",
    "students_list  = []  \n",
    "print(type(students_list))\n",
    "print(type(student1))"
   ]
  },
  {
   "cell_type": "code",
   "execution_count": 7,
   "id": "2c600d7c",
   "metadata": {},
   "outputs": [],
   "source": [
    "students = ['Asad', 'Fahad','Ali', 'Faraz']"
   ]
  },
  {
   "cell_type": "code",
   "execution_count": 11,
   "id": "8b203aa2",
   "metadata": {},
   "outputs": [
    {
     "name": "stdout",
     "output_type": "stream",
     "text": [
      "['Asad', 'Fahad', 'Ali', 'Faraz']\n"
     ]
    }
   ],
   "source": [
    "print(students)"
   ]
  },
  {
   "cell_type": "markdown",
   "id": "f1f334cd",
   "metadata": {},
   "source": [
    "# Indexing\n",
    "    - forward indexing\n",
    "    - reverse indexing"
   ]
  },
  {
   "cell_type": "code",
   "execution_count": 12,
   "id": "398a7831",
   "metadata": {},
   "outputs": [],
   "source": [
    "#####forward indexing####\n",
    "#### couting starts from left to right#####    \n",
    "\n",
    "### list of strings####\n",
    "\n",
    "students = ['Asad', 'Fahad','Ali', 'Faraz']\n",
    "#             0        1      2       3  "
   ]
  },
  {
   "cell_type": "code",
   "execution_count": 13,
   "id": "492f99a2",
   "metadata": {},
   "outputs": [
    {
     "data": {
      "text/plain": [
       "'Faraz'"
      ]
     },
     "execution_count": 13,
     "metadata": {},
     "output_type": "execute_result"
    }
   ],
   "source": [
    "students[3]"
   ]
  },
  {
   "cell_type": "code",
   "execution_count": 14,
   "id": "20ff4e80",
   "metadata": {},
   "outputs": [
    {
     "data": {
      "text/plain": [
       "'Asad'"
      ]
     },
     "execution_count": 14,
     "metadata": {},
     "output_type": "execute_result"
    }
   ],
   "source": [
    "students[0]"
   ]
  },
  {
   "cell_type": "code",
   "execution_count": 15,
   "id": "c7b35715",
   "metadata": {},
   "outputs": [
    {
     "name": "stdout",
     "output_type": "stream",
     "text": [
      "<class 'list'>\n"
     ]
    }
   ],
   "source": [
    "print(type(students))"
   ]
  },
  {
   "cell_type": "code",
   "execution_count": 16,
   "id": "2db6ad3d",
   "metadata": {},
   "outputs": [
    {
     "data": {
      "text/plain": [
       "str"
      ]
     },
     "execution_count": 16,
     "metadata": {},
     "output_type": "execute_result"
    }
   ],
   "source": [
    "type(students[2])"
   ]
  },
  {
   "cell_type": "code",
   "execution_count": 17,
   "id": "cd259005",
   "metadata": {},
   "outputs": [],
   "source": [
    "####Reverse Indexing####\n",
    "students = ['Asad', 'Fahad','Ali', 'Faraz']\n",
    "#              -4      -3     -2     -1 \n"
   ]
  },
  {
   "cell_type": "code",
   "execution_count": 18,
   "id": "0ef0d4c2",
   "metadata": {},
   "outputs": [
    {
     "data": {
      "text/plain": [
       "'Fahad'"
      ]
     },
     "execution_count": 18,
     "metadata": {},
     "output_type": "execute_result"
    }
   ],
   "source": [
    "students[-3]"
   ]
  },
  {
   "cell_type": "code",
   "execution_count": 19,
   "id": "ce44e22b",
   "metadata": {},
   "outputs": [
    {
     "data": {
      "text/plain": [
       "'Fahad'"
      ]
     },
     "execution_count": 19,
     "metadata": {},
     "output_type": "execute_result"
    }
   ],
   "source": [
    "students[1]"
   ]
  },
  {
   "cell_type": "code",
   "execution_count": 20,
   "id": "e72e722b",
   "metadata": {},
   "outputs": [
    {
     "data": {
      "text/plain": [
       "True"
      ]
     },
     "execution_count": 20,
     "metadata": {},
     "output_type": "execute_result"
    }
   ],
   "source": [
    "students[1] == students[-3]"
   ]
  },
  {
   "cell_type": "code",
   "execution_count": 21,
   "id": "aa580b7c",
   "metadata": {},
   "outputs": [
    {
     "data": {
      "text/plain": [
       "4"
      ]
     },
     "execution_count": 21,
     "metadata": {},
     "output_type": "execute_result"
    }
   ],
   "source": [
    "len(students)# length "
   ]
  },
  {
   "cell_type": "code",
   "execution_count": 22,
   "id": "0aa1fdbb",
   "metadata": {},
   "outputs": [],
   "source": [
    "### list of integers###\n",
    "marks=[9,7,6,7,8,9,4,5,6,7,8,9,10,10]"
   ]
  },
  {
   "cell_type": "code",
   "execution_count": 23,
   "id": "07768ca2",
   "metadata": {},
   "outputs": [
    {
     "data": {
      "text/plain": [
       "[9, 7, 6, 7, 8, 9, 4, 5, 6, 7, 8, 9, 10, 10]"
      ]
     },
     "execution_count": 23,
     "metadata": {},
     "output_type": "execute_result"
    }
   ],
   "source": [
    "marks"
   ]
  },
  {
   "cell_type": "code",
   "execution_count": 26,
   "id": "ed978009",
   "metadata": {},
   "outputs": [
    {
     "name": "stdout",
     "output_type": "stream",
     "text": [
      "<class 'list'>\n"
     ]
    }
   ],
   "source": [
    "print(type(marks))"
   ]
  },
  {
   "cell_type": "code",
   "execution_count": 27,
   "id": "deaf83fc",
   "metadata": {},
   "outputs": [
    {
     "name": "stdout",
     "output_type": "stream",
     "text": [
      "<class 'int'>\n"
     ]
    }
   ],
   "source": [
    "print(type(marks[8]))"
   ]
  },
  {
   "cell_type": "markdown",
   "id": "7212e25a",
   "metadata": {},
   "source": [
    "<b>A list can hold</b>\n",
    "- int \n",
    "- flaot,\n",
    "-bool\n",
    "-string\n",
    "- list\n",
    "- list can hold all the mentioned data togehter \n",
    " "
   ]
  },
  {
   "cell_type": "code",
   "execution_count": 31,
   "id": "4cb2c354",
   "metadata": {},
   "outputs": [
    {
     "data": {
      "text/plain": [
       "['Python', 100, 50.5, True, [9, 7, 6, 7, 8, 9, 4, 5, 6, 7, 8, 9, 10, 10]]"
      ]
     },
     "execution_count": 31,
     "metadata": {},
     "output_type": "execute_result"
    }
   ],
   "source": [
    "misc = [\"Python\", 100, 50.5, True, marks]\n",
    "misc   #   0       1    2      3     4"
   ]
  },
  {
   "cell_type": "code",
   "execution_count": 32,
   "id": "6d0b61c2",
   "metadata": {},
   "outputs": [
    {
     "data": {
      "text/plain": [
       "True"
      ]
     },
     "execution_count": 32,
     "metadata": {},
     "output_type": "execute_result"
    }
   ],
   "source": [
    "misc[3]"
   ]
  },
  {
   "cell_type": "code",
   "execution_count": 33,
   "id": "7a25b59c",
   "metadata": {},
   "outputs": [
    {
     "ename": "IndexError",
     "evalue": "list index out of range",
     "output_type": "error",
     "traceback": [
      "\u001b[1;31m---------------------------------------------------------------------------\u001b[0m",
      "\u001b[1;31mIndexError\u001b[0m                                Traceback (most recent call last)",
      "\u001b[1;32mC:\\Users\\ADMINI~1\\AppData\\Local\\Temp/ipykernel_8528/2869617108.py\u001b[0m in \u001b[0;36m<module>\u001b[1;34m\u001b[0m\n\u001b[1;32m----> 1\u001b[1;33m \u001b[0mmisc\u001b[0m\u001b[1;33m[\u001b[0m\u001b[1;36m10\u001b[0m\u001b[1;33m]\u001b[0m\u001b[1;33m\u001b[0m\u001b[1;33m\u001b[0m\u001b[0m\n\u001b[0m",
      "\u001b[1;31mIndexError\u001b[0m: list index out of range"
     ]
    }
   ],
   "source": [
    "misc[10]"
   ]
  },
  {
   "cell_type": "code",
   "execution_count": 34,
   "id": "03e547dc",
   "metadata": {},
   "outputs": [
    {
     "data": {
      "text/plain": [
       "[9, 7, 6, 7, 8, 9, 4, 5, 6, 7, 8, 9, 10, 10]"
      ]
     },
     "execution_count": 34,
     "metadata": {},
     "output_type": "execute_result"
    }
   ],
   "source": [
    "misc[4]"
   ]
  },
  {
   "cell_type": "code",
   "execution_count": 35,
   "id": "2709ff5a",
   "metadata": {},
   "outputs": [
    {
     "data": {
      "text/plain": [
       "5"
      ]
     },
     "execution_count": 35,
     "metadata": {},
     "output_type": "execute_result"
    }
   ],
   "source": [
    "misc[4][7]"
   ]
  },
  {
   "cell_type": "markdown",
   "id": "b5289b3f",
   "metadata": {},
   "source": [
    "iterable  >>>>  means that can be accessed in parts\n",
    "\n",
    "like strings are iterable, lists are iterable "
   ]
  },
  {
   "cell_type": "code",
   "execution_count": 36,
   "id": "379eb05a",
   "metadata": {},
   "outputs": [
    {
     "data": {
      "text/plain": [
       "'Pakistan'"
      ]
     },
     "execution_count": 36,
     "metadata": {},
     "output_type": "execute_result"
    }
   ],
   "source": [
    "country_name"
   ]
  },
  {
   "cell_type": "code",
   "execution_count": 37,
   "id": "02c0eaa9",
   "metadata": {},
   "outputs": [
    {
     "data": {
      "text/plain": [
       "'a'"
      ]
     },
     "execution_count": 37,
     "metadata": {},
     "output_type": "execute_result"
    }
   ],
   "source": [
    "country_name[6]"
   ]
  },
  {
   "cell_type": "code",
   "execution_count": 39,
   "id": "906e9cf1",
   "metadata": {},
   "outputs": [
    {
     "data": {
      "text/plain": [
       "'t'"
      ]
     },
     "execution_count": 39,
     "metadata": {},
     "output_type": "execute_result"
    }
   ],
   "source": [
    "misc[0][2]"
   ]
  },
  {
   "cell_type": "code",
   "execution_count": 41,
   "id": "f143ea61",
   "metadata": {},
   "outputs": [
    {
     "ename": "TypeError",
     "evalue": "'int' object is not subscriptable",
     "output_type": "error",
     "traceback": [
      "\u001b[1;31m---------------------------------------------------------------------------\u001b[0m",
      "\u001b[1;31mTypeError\u001b[0m                                 Traceback (most recent call last)",
      "\u001b[1;32mC:\\Users\\ADMINI~1\\AppData\\Local\\Temp/ipykernel_8528/3015271687.py\u001b[0m in \u001b[0;36m<module>\u001b[1;34m\u001b[0m\n\u001b[1;32m----> 1\u001b[1;33m \u001b[0mmisc\u001b[0m\u001b[1;33m[\u001b[0m\u001b[1;36m1\u001b[0m\u001b[1;33m]\u001b[0m\u001b[1;33m[\u001b[0m\u001b[1;36m0\u001b[0m\u001b[1;33m]\u001b[0m\u001b[1;33m\u001b[0m\u001b[1;33m\u001b[0m\u001b[0m\n\u001b[0m",
      "\u001b[1;31mTypeError\u001b[0m: 'int' object is not subscriptable"
     ]
    }
   ],
   "source": [
    "misc[1][0]"
   ]
  },
  {
   "cell_type": "code",
   "execution_count": 42,
   "id": "582fe49d",
   "metadata": {},
   "outputs": [
    {
     "data": {
      "text/plain": [
       "[11, 22, 33, 44, 55, 66, 77, 88, 99]"
      ]
     },
     "execution_count": 42,
     "metadata": {},
     "output_type": "execute_result"
    }
   ],
   "source": [
    "newlist = [11,22,33,44,55,66,77,88,99]\n",
    "newlist\n",
    "# list are mutable\n",
    "# strings are imutable\n",
    "\n",
    "del, update(repalce), add(append), create"
   ]
  },
  {
   "cell_type": "code",
   "execution_count": 43,
   "id": "402b62a4",
   "metadata": {},
   "outputs": [],
   "source": [
    "\n",
    "# update list\n",
    "    \n",
    "newlist[8]= \"NinetyNine\""
   ]
  },
  {
   "cell_type": "code",
   "execution_count": 44,
   "id": "399ae213",
   "metadata": {},
   "outputs": [
    {
     "data": {
      "text/plain": [
       "[11, 22, 33, 44, 55, 66, 77, 88, 'NinetyNine']"
      ]
     },
     "execution_count": 44,
     "metadata": {},
     "output_type": "execute_result"
    }
   ],
   "source": [
    "newlist"
   ]
  },
  {
   "cell_type": "code",
   "execution_count": 45,
   "id": "446dc302",
   "metadata": {},
   "outputs": [
    {
     "ename": "IndexError",
     "evalue": "list assignment index out of range",
     "output_type": "error",
     "traceback": [
      "\u001b[1;31m---------------------------------------------------------------------------\u001b[0m",
      "\u001b[1;31mIndexError\u001b[0m                                Traceback (most recent call last)",
      "\u001b[1;32mC:\\Users\\ADMINI~1\\AppData\\Local\\Temp/ipykernel_8528/3100938759.py\u001b[0m in \u001b[0;36m<module>\u001b[1;34m\u001b[0m\n\u001b[0;32m      1\u001b[0m \u001b[1;31m# add list\u001b[0m\u001b[1;33m\u001b[0m\u001b[1;33m\u001b[0m\u001b[0m\n\u001b[1;32m----> 2\u001b[1;33m \u001b[0mnewlist\u001b[0m\u001b[1;33m[\u001b[0m\u001b[1;36m9\u001b[0m\u001b[1;33m]\u001b[0m \u001b[1;33m=\u001b[0m \u001b[1;36m100\u001b[0m\u001b[1;33m\u001b[0m\u001b[1;33m\u001b[0m\u001b[0m\n\u001b[0m",
      "\u001b[1;31mIndexError\u001b[0m: list assignment index out of range"
     ]
    }
   ],
   "source": [
    "# add list\n",
    "newlist[9] = 100  # wrong way"
   ]
  },
  {
   "cell_type": "code",
   "execution_count": 46,
   "id": "a14e2cc6",
   "metadata": {},
   "outputs": [],
   "source": [
    "newlist.append(100)"
   ]
  },
  {
   "cell_type": "code",
   "execution_count": 47,
   "id": "470a936f",
   "metadata": {},
   "outputs": [
    {
     "data": {
      "text/plain": [
       "[11, 22, 33, 44, 55, 66, 77, 88, 'NinetyNine', 100]"
      ]
     },
     "execution_count": 47,
     "metadata": {},
     "output_type": "execute_result"
    }
   ],
   "source": [
    "newlist"
   ]
  },
  {
   "cell_type": "code",
   "execution_count": 48,
   "id": "a50b091a",
   "metadata": {},
   "outputs": [],
   "source": [
    "del newlist[8]"
   ]
  },
  {
   "cell_type": "code",
   "execution_count": 49,
   "id": "979b9448",
   "metadata": {},
   "outputs": [
    {
     "data": {
      "text/plain": [
       "[11, 22, 33, 44, 55, 66, 77, 88, 100]"
      ]
     },
     "execution_count": 49,
     "metadata": {},
     "output_type": "execute_result"
    }
   ],
   "source": [
    "newlist"
   ]
  },
  {
   "cell_type": "code",
   "execution_count": 50,
   "id": "507bd925",
   "metadata": {},
   "outputs": [],
   "source": [
    "newlist.append(99)"
   ]
  },
  {
   "cell_type": "code",
   "execution_count": 51,
   "id": "46102f06",
   "metadata": {},
   "outputs": [
    {
     "data": {
      "text/plain": [
       "[11, 22, 33, 44, 55, 66, 77, 88, 100, 99]"
      ]
     },
     "execution_count": 51,
     "metadata": {},
     "output_type": "execute_result"
    }
   ],
   "source": [
    "newlist"
   ]
  },
  {
   "cell_type": "code",
   "execution_count": 52,
   "id": "60a64d47",
   "metadata": {},
   "outputs": [
    {
     "data": {
      "text/plain": [
       "[]"
      ]
     },
     "execution_count": 52,
     "metadata": {},
     "output_type": "execute_result"
    }
   ],
   "source": [
    "newlist.clear()\n",
    "newlist"
   ]
  },
  {
   "cell_type": "code",
   "execution_count": 53,
   "id": "1b999e6f",
   "metadata": {},
   "outputs": [],
   "source": [
    "newlist = [11,22,33,44,55,66,77,88,99]"
   ]
  },
  {
   "cell_type": "code",
   "execution_count": 54,
   "id": "ab16956e",
   "metadata": {},
   "outputs": [],
   "source": [
    "copy_of_newlist = newlist.copy()"
   ]
  },
  {
   "cell_type": "code",
   "execution_count": 55,
   "id": "3f529734",
   "metadata": {},
   "outputs": [
    {
     "data": {
      "text/plain": [
       "[11, 22, 33, 44, 55, 66, 77, 88, 99]"
      ]
     },
     "execution_count": 55,
     "metadata": {},
     "output_type": "execute_result"
    }
   ],
   "source": [
    "copy_of_newlist"
   ]
  },
  {
   "cell_type": "code",
   "execution_count": 57,
   "id": "6f3b3486",
   "metadata": {},
   "outputs": [
    {
     "data": {
      "text/plain": [
       "1"
      ]
     },
     "execution_count": 57,
     "metadata": {},
     "output_type": "execute_result"
    }
   ],
   "source": [
    "newlist.count(77)"
   ]
  },
  {
   "cell_type": "code",
   "execution_count": 58,
   "id": "fd29c756",
   "metadata": {},
   "outputs": [],
   "source": [
    "newlist.append(copy_of_newlist)"
   ]
  },
  {
   "cell_type": "code",
   "execution_count": 59,
   "id": "0abb80ea",
   "metadata": {},
   "outputs": [
    {
     "data": {
      "text/plain": [
       "[11, 22, 33, 44, 55, 66, 77, 88, 99, [11, 22, 33, 44, 55, 66, 77, 88, 99]]"
      ]
     },
     "execution_count": 59,
     "metadata": {},
     "output_type": "execute_result"
    }
   ],
   "source": [
    "newlist"
   ]
  },
  {
   "cell_type": "code",
   "execution_count": 60,
   "id": "32cd8003",
   "metadata": {},
   "outputs": [
    {
     "data": {
      "text/plain": [
       "10"
      ]
     },
     "execution_count": 60,
     "metadata": {},
     "output_type": "execute_result"
    }
   ],
   "source": [
    "len(newlist)"
   ]
  },
  {
   "cell_type": "code",
   "execution_count": 61,
   "id": "d5b60f18",
   "metadata": {},
   "outputs": [],
   "source": [
    "newlist.extend(copy_of_newlist)"
   ]
  },
  {
   "cell_type": "code",
   "execution_count": 62,
   "id": "2eeb4a66",
   "metadata": {},
   "outputs": [
    {
     "data": {
      "text/plain": [
       "[11,\n",
       " 22,\n",
       " 33,\n",
       " 44,\n",
       " 55,\n",
       " 66,\n",
       " 77,\n",
       " 88,\n",
       " 99,\n",
       " [11, 22, 33, 44, 55, 66, 77, 88, 99],\n",
       " 11,\n",
       " 22,\n",
       " 33,\n",
       " 44,\n",
       " 55,\n",
       " 66,\n",
       " 77,\n",
       " 88,\n",
       " 99]"
      ]
     },
     "execution_count": 62,
     "metadata": {},
     "output_type": "execute_result"
    }
   ],
   "source": [
    "newlist"
   ]
  },
  {
   "cell_type": "code",
   "execution_count": 63,
   "id": "c91e6630",
   "metadata": {},
   "outputs": [
    {
     "data": {
      "text/plain": [
       "19"
      ]
     },
     "execution_count": 63,
     "metadata": {},
     "output_type": "execute_result"
    }
   ],
   "source": [
    "len(newlist)"
   ]
  },
  {
   "cell_type": "code",
   "execution_count": 64,
   "id": "9fd17b70",
   "metadata": {},
   "outputs": [],
   "source": [
    "copy_of_newlist.extend(country_name)"
   ]
  },
  {
   "cell_type": "code",
   "execution_count": 65,
   "id": "2b1817a3",
   "metadata": {},
   "outputs": [
    {
     "data": {
      "text/plain": [
       "[11, 22, 33, 44, 55, 66, 77, 88, 99, 'P', 'a', 'k', 'i', 's', 't', 'a', 'n']"
      ]
     },
     "execution_count": 65,
     "metadata": {},
     "output_type": "execute_result"
    }
   ],
   "source": [
    "copy_of_newlist"
   ]
  },
  {
   "cell_type": "code",
   "execution_count": 67,
   "id": "2238fb73",
   "metadata": {},
   "outputs": [
    {
     "data": {
      "text/plain": [
       "[1, 2, 3, 4, 5, 6]"
      ]
     },
     "execution_count": 67,
     "metadata": {},
     "output_type": "execute_result"
    }
   ],
   "source": [
    "alist = [1,2,3]\n",
    "blist = [4,5,6]\n",
    "\n",
    "alist + blist"
   ]
  },
  {
   "cell_type": "code",
   "execution_count": 68,
   "id": "16dce86e",
   "metadata": {},
   "outputs": [],
   "source": [
    "alist.extend(blist)"
   ]
  },
  {
   "cell_type": "code",
   "execution_count": 69,
   "id": "78b724cb",
   "metadata": {},
   "outputs": [
    {
     "data": {
      "text/plain": [
       "[1, 2, 3, 4, 5, 6]"
      ]
     },
     "execution_count": 69,
     "metadata": {},
     "output_type": "execute_result"
    }
   ],
   "source": [
    "alist"
   ]
  },
  {
   "cell_type": "code",
   "execution_count": 70,
   "id": "07841e0b",
   "metadata": {},
   "outputs": [
    {
     "data": {
      "text/plain": [
       "4"
      ]
     },
     "execution_count": 70,
     "metadata": {},
     "output_type": "execute_result"
    }
   ],
   "source": [
    "alist.index(5)"
   ]
  },
  {
   "cell_type": "code",
   "execution_count": 71,
   "id": "8f958e6e",
   "metadata": {},
   "outputs": [
    {
     "ename": "ValueError",
     "evalue": "55 is not in list",
     "output_type": "error",
     "traceback": [
      "\u001b[1;31m---------------------------------------------------------------------------\u001b[0m",
      "\u001b[1;31mValueError\u001b[0m                                Traceback (most recent call last)",
      "\u001b[1;32mC:\\Users\\ADMINI~1\\AppData\\Local\\Temp/ipykernel_8528/510097691.py\u001b[0m in \u001b[0;36m<module>\u001b[1;34m\u001b[0m\n\u001b[1;32m----> 1\u001b[1;33m \u001b[0malist\u001b[0m\u001b[1;33m.\u001b[0m\u001b[0mindex\u001b[0m\u001b[1;33m(\u001b[0m\u001b[1;36m55\u001b[0m\u001b[1;33m)\u001b[0m\u001b[1;33m\u001b[0m\u001b[1;33m\u001b[0m\u001b[0m\n\u001b[0m",
      "\u001b[1;31mValueError\u001b[0m: 55 is not in list"
     ]
    }
   ],
   "source": [
    "alist.index(55)"
   ]
  },
  {
   "cell_type": "code",
   "execution_count": 72,
   "id": "6cea9d4e",
   "metadata": {},
   "outputs": [
    {
     "data": {
      "text/plain": [
       "[1, 2, 3, 4, 5, 6]"
      ]
     },
     "execution_count": 72,
     "metadata": {},
     "output_type": "execute_result"
    }
   ],
   "source": [
    "#append places the value in the end of the list \n",
    "# insert places the value at your desired index\n",
    "\n",
    "alist"
   ]
  },
  {
   "cell_type": "code",
   "execution_count": 73,
   "id": "53476296",
   "metadata": {},
   "outputs": [],
   "source": [
    "alist.insert(3, \"i am insert\")"
   ]
  },
  {
   "cell_type": "code",
   "execution_count": 74,
   "id": "53b819d6",
   "metadata": {},
   "outputs": [
    {
     "data": {
      "text/plain": [
       "[1, 2, 3, 'i am insert', 4, 5, 6]"
      ]
     },
     "execution_count": 74,
     "metadata": {},
     "output_type": "execute_result"
    }
   ],
   "source": [
    "alist"
   ]
  },
  {
   "cell_type": "code",
   "execution_count": 75,
   "id": "0c680d30",
   "metadata": {},
   "outputs": [],
   "source": [
    "# 'delete' deletes the value from your desired location (index)\n",
    "# it donot return our deleted value\n",
    "del alist[6]"
   ]
  },
  {
   "cell_type": "code",
   "execution_count": 76,
   "id": "fd364fae",
   "metadata": {},
   "outputs": [
    {
     "data": {
      "text/plain": [
       "[1, 2, 3, 'i am insert', 4, 5]"
      ]
     },
     "execution_count": 76,
     "metadata": {},
     "output_type": "execute_result"
    }
   ],
   "source": [
    "alist"
   ]
  },
  {
   "cell_type": "code",
   "execution_count": 77,
   "id": "ff712e4a",
   "metadata": {},
   "outputs": [
    {
     "data": {
      "text/plain": [
       "5"
      ]
     },
     "execution_count": 77,
     "metadata": {},
     "output_type": "execute_result"
    }
   ],
   "source": [
    "# pop deletes the value from the end of the list and \n",
    "#it can also delte from desired index\n",
    "# pop returns the deleted value\n",
    "deletedValue = alist.pop()\n",
    "deletedValue"
   ]
  },
  {
   "cell_type": "code",
   "execution_count": 78,
   "id": "5aa6c21a",
   "metadata": {},
   "outputs": [
    {
     "data": {
      "text/plain": [
       "[1, 2, 3, 'i am insert', 4]"
      ]
     },
     "execution_count": 78,
     "metadata": {},
     "output_type": "execute_result"
    }
   ],
   "source": [
    "alist"
   ]
  },
  {
   "cell_type": "code",
   "execution_count": 85,
   "id": "89522e9d",
   "metadata": {},
   "outputs": [
    {
     "ename": "IndexError",
     "evalue": "pop from empty list",
     "output_type": "error",
     "traceback": [
      "\u001b[1;31m---------------------------------------------------------------------------\u001b[0m",
      "\u001b[1;31mIndexError\u001b[0m                                Traceback (most recent call last)",
      "\u001b[1;32mC:\\Users\\ADMINI~1\\AppData\\Local\\Temp/ipykernel_8528/1217575834.py\u001b[0m in \u001b[0;36m<module>\u001b[1;34m\u001b[0m\n\u001b[1;32m----> 1\u001b[1;33m \u001b[0malist\u001b[0m\u001b[1;33m.\u001b[0m\u001b[0mpop\u001b[0m\u001b[1;33m(\u001b[0m\u001b[1;33m)\u001b[0m\u001b[1;33m\u001b[0m\u001b[1;33m\u001b[0m\u001b[0m\n\u001b[0m\u001b[0;32m      2\u001b[0m \u001b[0malist\u001b[0m\u001b[1;33m\u001b[0m\u001b[1;33m\u001b[0m\u001b[0m\n",
      "\u001b[1;31mIndexError\u001b[0m: pop from empty list"
     ]
    }
   ],
   "source": [
    "alist.pop()\n",
    "alist"
   ]
  },
  {
   "cell_type": "code",
   "execution_count": 87,
   "id": "6871785c",
   "metadata": {},
   "outputs": [
    {
     "data": {
      "text/plain": [
       "['Asad', 'Fahad', 'Ali', 'Faraz']"
      ]
     },
     "execution_count": 87,
     "metadata": {},
     "output_type": "execute_result"
    }
   ],
   "source": [
    "students"
   ]
  },
  {
   "cell_type": "code",
   "execution_count": 88,
   "id": "367c112a",
   "metadata": {},
   "outputs": [],
   "source": [
    "# del , pop , pop(index) we must know the inderx of the value\n",
    "students.remove('Ali')\n",
    "\n",
    "# remove removes the value by value not by index"
   ]
  },
  {
   "cell_type": "code",
   "execution_count": 89,
   "id": "e0b8d31f",
   "metadata": {},
   "outputs": [
    {
     "data": {
      "text/plain": [
       "['Asad', 'Fahad', 'Faraz']"
      ]
     },
     "execution_count": 89,
     "metadata": {},
     "output_type": "execute_result"
    }
   ],
   "source": [
    "students"
   ]
  },
  {
   "cell_type": "code",
   "execution_count": 90,
   "id": "5211a156",
   "metadata": {},
   "outputs": [
    {
     "ename": "ValueError",
     "evalue": "list.remove(x): x not in list",
     "output_type": "error",
     "traceback": [
      "\u001b[1;31m---------------------------------------------------------------------------\u001b[0m",
      "\u001b[1;31mValueError\u001b[0m                                Traceback (most recent call last)",
      "\u001b[1;32mC:\\Users\\ADMINI~1\\AppData\\Local\\Temp/ipykernel_8528/3519120729.py\u001b[0m in \u001b[0;36m<module>\u001b[1;34m\u001b[0m\n\u001b[1;32m----> 1\u001b[1;33m \u001b[0mstudents\u001b[0m\u001b[1;33m.\u001b[0m\u001b[0mremove\u001b[0m\u001b[1;33m(\u001b[0m\u001b[1;34m\"Ali\"\u001b[0m\u001b[1;33m)\u001b[0m\u001b[1;33m\u001b[0m\u001b[1;33m\u001b[0m\u001b[0m\n\u001b[0m",
      "\u001b[1;31mValueError\u001b[0m: list.remove(x): x not in list"
     ]
    }
   ],
   "source": [
    "students.remove(\"Ali\")"
   ]
  },
  {
   "cell_type": "code",
   "execution_count": 91,
   "id": "71770ce4",
   "metadata": {},
   "outputs": [],
   "source": [
    "students.reverse()"
   ]
  },
  {
   "cell_type": "code",
   "execution_count": 92,
   "id": "3567e958",
   "metadata": {},
   "outputs": [
    {
     "data": {
      "text/plain": [
       "['Faraz', 'Fahad', 'Asad']"
      ]
     },
     "execution_count": 92,
     "metadata": {},
     "output_type": "execute_result"
    }
   ],
   "source": [
    "students"
   ]
  },
  {
   "cell_type": "code",
   "execution_count": 93,
   "id": "b7e961a9",
   "metadata": {},
   "outputs": [],
   "source": [
    "num = [12,45,33,22,78]\n",
    "num.reverse()"
   ]
  },
  {
   "cell_type": "code",
   "execution_count": 94,
   "id": "0ca4cc42",
   "metadata": {},
   "outputs": [
    {
     "data": {
      "text/plain": [
       "[78, 22, 33, 45, 12]"
      ]
     },
     "execution_count": 94,
     "metadata": {},
     "output_type": "execute_result"
    }
   ],
   "source": [
    "num"
   ]
  },
  {
   "cell_type": "code",
   "execution_count": 95,
   "id": "aa04bd55",
   "metadata": {},
   "outputs": [],
   "source": [
    "num.sort()"
   ]
  },
  {
   "cell_type": "code",
   "execution_count": 96,
   "id": "336d9618",
   "metadata": {},
   "outputs": [
    {
     "data": {
      "text/plain": [
       "[12, 22, 33, 45, 78]"
      ]
     },
     "execution_count": 96,
     "metadata": {},
     "output_type": "execute_result"
    }
   ],
   "source": [
    "num"
   ]
  },
  {
   "cell_type": "code",
   "execution_count": 97,
   "id": "60dabdb3",
   "metadata": {},
   "outputs": [],
   "source": [
    "num.sort(reverse=True)"
   ]
  },
  {
   "cell_type": "code",
   "execution_count": 99,
   "id": "b7b16165",
   "metadata": {},
   "outputs": [
    {
     "data": {
      "text/plain": [
       "[78, 45, 33, 22, 12]"
      ]
     },
     "execution_count": 99,
     "metadata": {},
     "output_type": "execute_result"
    }
   ],
   "source": [
    "num"
   ]
  },
  {
   "cell_type": "markdown",
   "id": "2fcb7317",
   "metadata": {},
   "source": [
    "# List Slicing"
   ]
  },
  {
   "cell_type": "code",
   "execution_count": 105,
   "id": "86533c0b",
   "metadata": {},
   "outputs": [],
   "source": [
    "nums = [0,1,2,3,4,5,6,7,8,9,10,11,12,13,14,15,16,17,18,19,20]"
   ]
  },
  {
   "cell_type": "code",
   "execution_count": 112,
   "id": "d4f0a1c1",
   "metadata": {},
   "outputs": [
    {
     "data": {
      "text/plain": [
       "int"
      ]
     },
     "execution_count": 112,
     "metadata": {},
     "output_type": "execute_result"
    }
   ],
   "source": [
    "# indexing\n",
    "type(nums[12])"
   ]
  },
  {
   "cell_type": "code",
   "execution_count": 109,
   "id": "7fd27205",
   "metadata": {},
   "outputs": [
    {
     "data": {
      "text/plain": [
       "[9, 10, 11, 12, 13]"
      ]
     },
     "execution_count": 109,
     "metadata": {},
     "output_type": "execute_result"
    }
   ],
   "source": [
    "# slicing \n",
    "sliced = nums[9:14]\n",
    "sliced"
   ]
  },
  {
   "cell_type": "code",
   "execution_count": 113,
   "id": "9ea2b9f9",
   "metadata": {},
   "outputs": [
    {
     "data": {
      "text/plain": [
       "list"
      ]
     },
     "execution_count": 113,
     "metadata": {},
     "output_type": "execute_result"
    }
   ],
   "source": [
    "type(nums[12:13])"
   ]
  },
  {
   "cell_type": "code",
   "execution_count": 114,
   "id": "75dbfe75",
   "metadata": {},
   "outputs": [
    {
     "data": {
      "text/plain": [
       "[]"
      ]
     },
     "execution_count": 114,
     "metadata": {},
     "output_type": "execute_result"
    }
   ],
   "source": [
    "nums[15:8]"
   ]
  },
  {
   "cell_type": "code",
   "execution_count": null,
   "id": "73ee3488",
   "metadata": {},
   "outputs": [],
   "source": []
  }
 ],
 "metadata": {
  "kernelspec": {
   "display_name": "Python 3 (ipykernel)",
   "language": "python",
   "name": "python3"
  },
  "language_info": {
   "codemirror_mode": {
    "name": "ipython",
    "version": 3
   },
   "file_extension": ".py",
   "mimetype": "text/x-python",
   "name": "python",
   "nbconvert_exporter": "python",
   "pygments_lexer": "ipython3",
   "version": "3.9.7"
  }
 },
 "nbformat": 4,
 "nbformat_minor": 5
}

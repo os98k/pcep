{
 "cells": [
  {
   "cell_type": "markdown",
   "id": "264c97f8",
   "metadata": {},
   "source": [
    "# Last Class\n",
    " - What is function?\n",
    " - Define Declare \n",
    " - Call"
   ]
  },
  {
   "cell_type": "markdown",
   "id": "949457b1",
   "metadata": {},
   "source": [
    "# TodayClass:\n",
    "    - Function"
   ]
  },
  {
   "cell_type": "code",
   "execution_count": 28,
   "id": "22348085",
   "metadata": {},
   "outputs": [],
   "source": [
    "def square_of_a_number():\n",
    "    num = float(input(\"Enter a number to square:\"))\n",
    "    square = num**2\n",
    "    print(f\"The sqaure of {num} is {square}\")"
   ]
  },
  {
   "cell_type": "code",
   "execution_count": 29,
   "id": "5759f92e",
   "metadata": {},
   "outputs": [
    {
     "name": "stdout",
     "output_type": "stream",
     "text": [
      "Enter a number to square:5.6\n",
      "The sqaure of 5.6 is 31.359999999999996\n"
     ]
    }
   ],
   "source": [
    "square_of_a_number()"
   ]
  },
  {
   "cell_type": "code",
   "execution_count": 30,
   "id": "81fa098b",
   "metadata": {},
   "outputs": [],
   "source": [
    "def area_of_square():\n",
    "    length = float(input(\"Enter length of sqaure in meters\"))\n",
    "    breadth = float(input(\"Enter breadth of square in meters\"))\n",
    "    area = length * breadth\n",
    "    print(f\"Length: {length} \\nBreadth {breadth}: \\nArea: {area} meters square\")"
   ]
  },
  {
   "cell_type": "code",
   "execution_count": 31,
   "id": "6708e9cf",
   "metadata": {},
   "outputs": [
    {
     "name": "stdout",
     "output_type": "stream",
     "text": [
      "Enter length of sqaure in meters4\n",
      "Enter breadth of square in meters9\n",
      "Length: 4.0 \n",
      "Breadth 9.0: \n",
      "Area: 36.0 meters square\n"
     ]
    }
   ],
   "source": [
    "area_of_square()"
   ]
  },
  {
   "cell_type": "code",
   "execution_count": 33,
   "id": "90b3f01c",
   "metadata": {},
   "outputs": [
    {
     "name": "stdout",
     "output_type": "stream",
     "text": [
      "Enter length of sqaure in meters6\n",
      "Enter breadth of square in meters8.9\n",
      "Length: 6.0 \n",
      "Breadth 8.9: \n",
      "Area: 53.400000000000006 meters square\n"
     ]
    }
   ],
   "source": [
    "area_of_square()"
   ]
  },
  {
   "cell_type": "code",
   "execution_count": 34,
   "id": "027cbe61",
   "metadata": {},
   "outputs": [
    {
     "name": "stdout",
     "output_type": "stream",
     "text": [
      "Jan2022\n"
     ]
    }
   ],
   "source": [
    "print(\"Jan2022\")\n",
    "#      Argument"
   ]
  },
  {
   "cell_type": "markdown",
   "id": "a6566e65",
   "metadata": {},
   "source": [
    "# Parameters and Arguments of  a function"
   ]
  },
  {
   "cell_type": "code",
   "execution_count": 69,
   "id": "ed7ba7ea",
   "metadata": {},
   "outputs": [],
   "source": [
    "def salary_increment(name='',eos=0,currentSalary=0): # parameters\n",
    "    '''This function is defined in our class of SMIT\n",
    "     on 26th Jan 2022\n",
    "     this function needs 3 arguments the name of emp \n",
    "     year of service\n",
    "     current salary of the employe\n",
    "     this will return Salary Details '''\n",
    "    \n",
    "    if eos >=1:\n",
    "        \n",
    "        if currentSalary <50000:\n",
    "            increment = currentSalary*.20\n",
    "            newSalary = currentSalary + increment\n",
    "            \n",
    "        elif ((currentSalary>=50000) and (currentSalary<100000)):\n",
    "            increment = currentSalary*.15\n",
    "            newSalary = currentSalary + increment\n",
    "            \n",
    "        elif ((currentSalary>=100000) and (currentSalary<=150000)):\n",
    "            increment = currentSalary*.10\n",
    "            newSalary = currentSalary + increment\n",
    "        else:\n",
    "            increment = currentSalary*.05\n",
    "            newSalary = currentSalary + increment\n",
    "        print(f\"\"\"\n",
    "                    Name of Employee: {name}\n",
    "                    Year of Service : {eos}\n",
    "                    Current Salary  : {currentSalary}\n",
    "                    Increment Amount: {increment}\n",
    "                    New Salary      : {newSalary }\"\"\")\n",
    "            \n",
    "    else:\n",
    "        print(\"There is no increment for you this year\")\n",
    "    \n",
    "    "
   ]
  },
  {
   "cell_type": "code",
   "execution_count": 61,
   "id": "0346e330",
   "metadata": {},
   "outputs": [
    {
     "name": "stdout",
     "output_type": "stream",
     "text": [
      "\n",
      "                    Name of Employee: Nasir\n",
      "                    Year of Service : 2\n",
      "                    Current Salary  : 120000\n",
      "                    Increment Amount: 12000.0\n",
      "                    New Salary      : 132000.0\n"
     ]
    }
   ],
   "source": [
    "salary_increment(\"Nasir\", 2, 120000)# arguments"
   ]
  },
  {
   "cell_type": "code",
   "execution_count": 62,
   "id": "fec454a2",
   "metadata": {},
   "outputs": [
    {
     "name": "stdout",
     "output_type": "stream",
     "text": [
      "There is no increment for you this year\n"
     ]
    }
   ],
   "source": [
    "salary_increment('Asad', 0.9, 65000)# arguments"
   ]
  },
  {
   "cell_type": "code",
   "execution_count": 63,
   "id": "10c4017a",
   "metadata": {},
   "outputs": [
    {
     "name": "stdout",
     "output_type": "stream",
     "text": [
      "\n",
      "                    Name of Employee: Hasan\n",
      "                    Year of Service : 3\n",
      "                    Current Salary  : 150000\n",
      "                    Increment Amount: 15000.0\n",
      "                    New Salary      : 165000.0\n"
     ]
    }
   ],
   "source": [
    "salary_increment(\"Hasan\", 3, 150000)# arguments"
   ]
  },
  {
   "cell_type": "markdown",
   "id": "1cac08ce",
   "metadata": {},
   "source": [
    "The variables written in function definition are called parameters\n",
    "\n",
    "The Values supplied during a function call are called arguments"
   ]
  },
  {
   "cell_type": "code",
   "execution_count": 64,
   "id": "068faae9",
   "metadata": {},
   "outputs": [
    {
     "name": "stdout",
     "output_type": "stream",
     "text": [
      "\n",
      "                    Name of Employee: Fahad\n",
      "                    Year of Service : 2\n",
      "                    Current Salary  : 36000\n",
      "                    Increment Amount: 7200.0\n",
      "                    New Salary      : 43200.0\n"
     ]
    }
   ],
   "source": [
    "salary_increment(eos=2, name=\"Fahad\",currentSalary=36000)# keyword arguments"
   ]
  },
  {
   "cell_type": "code",
   "execution_count": 65,
   "id": "0cc9d788",
   "metadata": {},
   "outputs": [
    {
     "name": "stdout",
     "output_type": "stream",
     "text": [
      "There is no increment for you this year\n"
     ]
    }
   ],
   "source": [
    "salary_increment('Danish')"
   ]
  },
  {
   "cell_type": "code",
   "execution_count": 66,
   "id": "9578a97b",
   "metadata": {},
   "outputs": [
    {
     "name": "stdout",
     "output_type": "stream",
     "text": [
      "\n",
      "                    Name of Employee: Rehan\n",
      "                    Year of Service : 5\n",
      "                    Current Salary  : 0\n",
      "                    Increment Amount: 0.0\n",
      "                    New Salary      : 0.0\n"
     ]
    }
   ],
   "source": [
    "salary_increment(\"Rehan\", 5)"
   ]
  },
  {
   "cell_type": "code",
   "execution_count": 67,
   "id": "5c82558e",
   "metadata": {},
   "outputs": [
    {
     "name": "stdout",
     "output_type": "stream",
     "text": [
      "\n",
      "                    Name of Employee: 5\n",
      "                    Year of Service : 60000\n",
      "                    Current Salary  : 0\n",
      "                    Increment Amount: 0.0\n",
      "                    New Salary      : 0.0\n"
     ]
    }
   ],
   "source": [
    "salary_increment(5,60000)"
   ]
  },
  {
   "cell_type": "code",
   "execution_count": 68,
   "id": "3e1e969a",
   "metadata": {},
   "outputs": [
    {
     "name": "stdout",
     "output_type": "stream",
     "text": [
      "Enter employee namerizwan\n",
      "Enter number of years in service2\n",
      "Enter current salary of the empployee78000\n",
      "\n",
      "                    Name of Employee: rizwan\n",
      "                    Year of Service : 2.0\n",
      "                    Current Salary  : 78000.0\n",
      "                    Increment Amount: 11700.0\n",
      "                    New Salary      : 89700.0\n"
     ]
    }
   ],
   "source": [
    "name= input(\"Enter employee name\")\n",
    "eos = float(input(\"Enter number of years in service\"))\n",
    "current_salary = float(input(\"Enter current salary of the empployee\"))\n",
    "\n",
    "\n",
    "salary_increment(name, eos, current_salary)\n",
    "\n"
   ]
  },
  {
   "cell_type": "code",
   "execution_count": 75,
   "id": "85fa57a0",
   "metadata": {},
   "outputs": [
    {
     "name": "stdout",
     "output_type": "stream",
     "text": [
      "Help on function salary_increment in module __main__:\n",
      "\n",
      "salary_increment(name='', eos=0, currentSalary=0)\n",
      "    This function is defined in our class of SMIT\n",
      "    on 26th Jan 2022\n",
      "    this function needs 3 arguments the name of emp \n",
      "    year of service\n",
      "    current salary of the employe\n",
      "    this will return Salary Details\n",
      "\n"
     ]
    }
   ],
   "source": [
    "help(salary_increment)"
   ]
  },
  {
   "cell_type": "code",
   "execution_count": 76,
   "id": "af9d3708",
   "metadata": {},
   "outputs": [
    {
     "name": "stdout",
     "output_type": "stream",
     "text": [
      "Help on built-in function len in module builtins:\n",
      "\n",
      "len(obj, /)\n",
      "    Return the number of items in a container.\n",
      "\n"
     ]
    }
   ],
   "source": [
    "help(len)"
   ]
  },
  {
   "cell_type": "code",
   "execution_count": 77,
   "id": "9cd926cd",
   "metadata": {},
   "outputs": [
    {
     "name": "stdout",
     "output_type": "stream",
     "text": [
      "Hello, Jesse!\n"
     ]
    }
   ],
   "source": [
    "def greet_user(username):\n",
    " \"\"\"Display a simple greeting.\"\"\"\n",
    " print(\"Hello, \" + username.title() + \"!\")\n",
    "\n",
    "greet_user('jesse')"
   ]
  },
  {
   "cell_type": "code",
   "execution_count": 79,
   "id": "e6de29ea",
   "metadata": {},
   "outputs": [],
   "source": [
    "def describe_pet(animal_type, pet_name):\n",
    "    \"\"\"Display information about a pet.\"\"\"\n",
    "    print(\"\\nI have a \" + animal_type + \".\")\n",
    "    print(\"My \" + animal_type + \"'s name is \" + pet_name.title() + \".\")"
   ]
  },
  {
   "cell_type": "code",
   "execution_count": 80,
   "id": "24e81fe8",
   "metadata": {},
   "outputs": [
    {
     "name": "stdout",
     "output_type": "stream",
     "text": [
      "\n",
      "I have a hamster.\n",
      "My hamster's name is Harry.\n"
     ]
    }
   ],
   "source": [
    "describe_pet('hamster', 'harry')"
   ]
  },
  {
   "cell_type": "markdown",
   "id": "dcd02b18",
   "metadata": {},
   "source": [
    "# Return Values"
   ]
  },
  {
   "cell_type": "markdown",
   "id": "8728ed87",
   "metadata": {},
   "source": [
    "Gobal Variable: Can be accessed in and out of function\n",
    "\n",
    "Local Variable: local variables are defined and accessed only inside the function"
   ]
  },
  {
   "cell_type": "code",
   "execution_count": 99,
   "id": "a79c22d4",
   "metadata": {},
   "outputs": [],
   "source": [
    "a  = 100   # gloabl variable\n",
    "\n",
    "def square_of_a_number(num):\n",
    "    \n",
    "    square = num**2   # local variable\n",
    "    print(f\"The sqaure of {num} is {square} which is a local variable\")\n",
    "    print(f\"The value of global variable a is {a}\")\n",
    "    "
   ]
  },
  {
   "cell_type": "code",
   "execution_count": 100,
   "id": "3c8e1184",
   "metadata": {},
   "outputs": [
    {
     "name": "stdout",
     "output_type": "stream",
     "text": [
      "The sqaure of 7 is 49 which is a local variable\n",
      "The value of global variable a is 100\n"
     ]
    }
   ],
   "source": [
    "square_of_a_number(7)"
   ]
  },
  {
   "cell_type": "code",
   "execution_count": 101,
   "id": "1771804e",
   "metadata": {},
   "outputs": [
    {
     "ename": "NameError",
     "evalue": "name 'square' is not defined",
     "output_type": "error",
     "traceback": [
      "\u001b[1;31m---------------------------------------------------------------------------\u001b[0m",
      "\u001b[1;31mNameError\u001b[0m                                 Traceback (most recent call last)",
      "\u001b[1;32mC:\\Users\\ADMINI~1\\AppData\\Local\\Temp/ipykernel_11284/3646405350.py\u001b[0m in \u001b[0;36m<module>\u001b[1;34m\u001b[0m\n\u001b[1;32m----> 1\u001b[1;33m \u001b[0mprint\u001b[0m\u001b[1;33m(\u001b[0m\u001b[0msquare\u001b[0m\u001b[1;33m)\u001b[0m\u001b[1;33m\u001b[0m\u001b[1;33m\u001b[0m\u001b[0m\n\u001b[0m",
      "\u001b[1;31mNameError\u001b[0m: name 'square' is not defined"
     ]
    }
   ],
   "source": [
    "print(square)"
   ]
  },
  {
   "cell_type": "code",
   "execution_count": 94,
   "id": "250c1cba",
   "metadata": {},
   "outputs": [
    {
     "ename": "NameError",
     "evalue": "name 'country_name' is not defined",
     "output_type": "error",
     "traceback": [
      "\u001b[1;31m---------------------------------------------------------------------------\u001b[0m",
      "\u001b[1;31mNameError\u001b[0m                                 Traceback (most recent call last)",
      "\u001b[1;32mC:\\Users\\ADMINI~1\\AppData\\Local\\Temp/ipykernel_11284/3210242057.py\u001b[0m in \u001b[0;36m<module>\u001b[1;34m\u001b[0m\n\u001b[1;32m----> 1\u001b[1;33m \u001b[0mcountry_name\u001b[0m\u001b[1;33m\u001b[0m\u001b[1;33m\u001b[0m\u001b[0m\n\u001b[0m",
      "\u001b[1;31mNameError\u001b[0m: name 'country_name' is not defined"
     ]
    }
   ],
   "source": []
  },
  {
   "cell_type": "code",
   "execution_count": 116,
   "id": "84f7a8b1",
   "metadata": {},
   "outputs": [],
   "source": [
    "def circumference(radius):\n",
    "    circumference  = 2 * 3.142 * radius \n",
    "    # ksi local variable ki value ko function se bahar access karne k liye\n",
    "    # return k through bahar nikalenge\n",
    "    return circumference"
   ]
  },
  {
   "cell_type": "code",
   "execution_count": 117,
   "id": "92405e91",
   "metadata": {},
   "outputs": [],
   "source": [
    "value_of_cir = circumference(4.5)"
   ]
  },
  {
   "cell_type": "code",
   "execution_count": 118,
   "id": "9266032e",
   "metadata": {},
   "outputs": [],
   "source": [
    "value_of_cir"
   ]
  },
  {
   "cell_type": "code",
   "execution_count": null,
   "id": "efdb3281",
   "metadata": {},
   "outputs": [],
   "source": []
  }
 ],
 "metadata": {
  "kernelspec": {
   "display_name": "Python 3 (ipykernel)",
   "language": "python",
   "name": "python3"
  },
  "language_info": {
   "codemirror_mode": {
    "name": "ipython",
    "version": 3
   },
   "file_extension": ".py",
   "mimetype": "text/x-python",
   "name": "python",
   "nbconvert_exporter": "python",
   "pygments_lexer": "ipython3",
   "version": "3.9.7"
  }
 },
 "nbformat": 4,
 "nbformat_minor": 5
}

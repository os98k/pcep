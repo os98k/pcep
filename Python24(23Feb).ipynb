{
 "cells": [
  {
   "cell_type": "code",
   "execution_count": 1,
   "id": "6596e5a7",
   "metadata": {},
   "outputs": [],
   "source": [
    "import psycopg2"
   ]
  },
  {
   "cell_type": "code",
   "execution_count": 25,
   "id": "e3ae0d21",
   "metadata": {},
   "outputs": [],
   "source": [
    "host_name = 'localhost'\n",
    "data_base = 'postgres'\n",
    "user_name = 'postgres'\n",
    "pwd = 'saylani1234'\n",
    "port_id = 5432\n",
    "\n",
    "# configuration file"
   ]
  },
  {
   "cell_type": "code",
   "execution_count": 38,
   "id": "2cf258a8",
   "metadata": {},
   "outputs": [],
   "source": [
    "cur = None\n",
    "conn= None\n",
    "try:\n",
    "    conn = psycopg2.connect(\n",
    "                host=host_name\n",
    "                ,port=port_id\n",
    "                ,user = user_name\n",
    "                ,password=pwd\n",
    "                ,dbname=data_base)\n",
    "    \n",
    "    cur = conn.cursor()\n",
    "    cur.execute(\"DROP TABLE IF EXISTS student\")\n",
    "    \n",
    "    ######## Create Table Querry###############\n",
    "    #Step1:\n",
    "    create_table_script = '''\n",
    "            CREATE TABLE IF NOT EXISTS student(\n",
    "            id       INT PRIMARY KEY\n",
    "           ,name     VARCHAR(50) NOT NULL\n",
    "           ,course   VARCHAR(50) NOT NULL\n",
    "           ,fee      INT \n",
    "           )\n",
    "    '''\n",
    "    #Step2: Execute query using cur\n",
    "    cur.execute(create_table_script)\n",
    "    \n",
    "    \n",
    "    #### Insert Table Data Querry #########\n",
    "    insert_table_script = '''\n",
    "                INSERT INTO student(id, name,course, fee)\n",
    "                VALUES(%s,%s,%s,%s)\n",
    "                '''\n",
    "    records = [(116,'Nasir','Python',12000),\n",
    "               (113, \"Asad\", \"Python\", 13000),\n",
    "              (114, \"Noman\", \"Java\", 15000),\n",
    "               (115, \"fahad\", \"C\", 10000)]\n",
    "    \n",
    "    for record in records:\n",
    "        cur.execute(insert_table_script, record)\n",
    "    \n",
    "    \n",
    "    #########update querry##################\n",
    "    update_record_script = '''     \n",
    "     UPDATE student SET fee = fee + (fee * 0.2)    \n",
    "    '''\n",
    "    cur.execute(update_record_script)\n",
    "    \n",
    "    \n",
    "    \n",
    "    #Step3: Commit the changes using conn (1 time)\n",
    "    conn.commit()\n",
    "    \n",
    "    \n",
    "    \n",
    "    \n",
    "    \n",
    "    \n",
    "except Exception as error:\n",
    "    print(\"Exception Caught: \\n\" + str(error))\n",
    "finally:\n",
    "    if cur is not None:\n",
    "        cur.close()\n",
    "    \n",
    "    if conn is not None:\n",
    "        conn.close()"
   ]
  },
  {
   "cell_type": "code",
   "execution_count": null,
   "id": "6aa58c00",
   "metadata": {},
   "outputs": [],
   "source": []
  }
 ],
 "metadata": {
  "kernelspec": {
   "display_name": "Python 3 (ipykernel)",
   "language": "python",
   "name": "python3"
  },
  "language_info": {
   "codemirror_mode": {
    "name": "ipython",
    "version": 3
   },
   "file_extension": ".py",
   "mimetype": "text/x-python",
   "name": "python",
   "nbconvert_exporter": "python",
   "pygments_lexer": "ipython3",
   "version": "3.9.7"
  }
 },
 "nbformat": 4,
 "nbformat_minor": 5
}

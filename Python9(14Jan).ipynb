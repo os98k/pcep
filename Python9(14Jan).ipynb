{
 "cells": [
  {
   "cell_type": "markdown",
   "id": "87e550a3",
   "metadata": {},
   "source": [
    "# Last Class\n",
    " - List\n",
    " - list methods\n",
    " - List indexing\n",
    " - List Slicing\n"
   ]
  },
  {
   "cell_type": "markdown",
   "id": "16f84ba8",
   "metadata": {},
   "source": [
    "# Today Class\n",
    " - More on list\n",
    " - loops\n",
    "    - While \n",
    "    -for loop"
   ]
  },
  {
   "cell_type": "code",
   "execution_count": 1,
   "id": "ac111502",
   "metadata": {},
   "outputs": [],
   "source": [
    "# list Slicing "
   ]
  },
  {
   "cell_type": "code",
   "execution_count": 2,
   "id": "95d43bbe",
   "metadata": {},
   "outputs": [],
   "source": [
    "numbers = [11,22,33,44,55,66,77,88,99,100]"
   ]
  },
  {
   "cell_type": "code",
   "execution_count": 5,
   "id": "2437b72b",
   "metadata": {},
   "outputs": [],
   "source": [
    "# Slicing is always done in Left to Right direction\n",
    "# there will be no syntax error in case of wrong slice but results empty list\n",
    "# slice returns the copy \n",
    "sliced_nums = numbers[3:7]"
   ]
  },
  {
   "cell_type": "code",
   "execution_count": 6,
   "id": "052bb00c",
   "metadata": {},
   "outputs": [
    {
     "data": {
      "text/plain": [
       "[44, 55, 66, 77]"
      ]
     },
     "execution_count": 6,
     "metadata": {},
     "output_type": "execute_result"
    }
   ],
   "source": [
    "sliced_nums"
   ]
  },
  {
   "cell_type": "code",
   "execution_count": 7,
   "id": "369c6c32",
   "metadata": {},
   "outputs": [
    {
     "data": {
      "text/plain": [
       "[]"
      ]
     },
     "execution_count": 7,
     "metadata": {},
     "output_type": "execute_result"
    }
   ],
   "source": [
    "numbers[7:3]"
   ]
  },
  {
   "cell_type": "code",
   "execution_count": 10,
   "id": "c70163aa",
   "metadata": {},
   "outputs": [
    {
     "data": {
      "text/plain": [
       "[77, 88, 99]"
      ]
     },
     "execution_count": 10,
     "metadata": {},
     "output_type": "execute_result"
    }
   ],
   "source": [
    "#i want to sliced from 77(index6) to 100(index9)\n",
    "numbers[6:9]\n",
    "\n",
    "# 100 will not be included in the slice as extreme right index is ignored."
   ]
  },
  {
   "cell_type": "code",
   "execution_count": 11,
   "id": "3a0e3fea",
   "metadata": {},
   "outputs": [
    {
     "data": {
      "text/plain": [
       "[77, 88, 99, 100]"
      ]
     },
     "execution_count": 11,
     "metadata": {},
     "output_type": "execute_result"
    }
   ],
   "source": [
    "numbers[6:10]"
   ]
  },
  {
   "cell_type": "code",
   "execution_count": 12,
   "id": "2444fa74",
   "metadata": {},
   "outputs": [
    {
     "data": {
      "text/plain": [
       "[77, 88, 99, 100]"
      ]
     },
     "execution_count": 12,
     "metadata": {},
     "output_type": "execute_result"
    }
   ],
   "source": [
    "numbers[6:]  # start from index 6 and goto very last"
   ]
  },
  {
   "cell_type": "code",
   "execution_count": 13,
   "id": "3afc9495",
   "metadata": {},
   "outputs": [
    {
     "data": {
      "text/plain": [
       "[11, 22, 33, 44, 55, 66]"
      ]
     },
     "execution_count": 13,
     "metadata": {},
     "output_type": "execute_result"
    }
   ],
   "source": [
    "numbers[:6] # start from very begining and goto index 6-1"
   ]
  },
  {
   "cell_type": "markdown",
   "id": "b6f70d02",
   "metadata": {},
   "source": [
    "# Copying a list "
   ]
  },
  {
   "cell_type": "code",
   "execution_count": 14,
   "id": "c099299b",
   "metadata": {},
   "outputs": [
    {
     "data": {
      "text/plain": [
       "[11, 22, 33, 44, 55, 66, 77, 88, 99, 100]"
      ]
     },
     "execution_count": 14,
     "metadata": {},
     "output_type": "execute_result"
    }
   ],
   "source": [
    "new = numbers.copy()\n",
    "new\n",
    "# by using copy function"
   ]
  },
  {
   "cell_type": "code",
   "execution_count": 16,
   "id": "0c0c5780",
   "metadata": {},
   "outputs": [
    {
     "data": {
      "text/plain": [
       "[11, 22, 33, 44, 55, 66, 77, 88, 99, 100]"
      ]
     },
     "execution_count": 16,
     "metadata": {},
     "output_type": "execute_result"
    }
   ],
   "source": [
    "new1 = numbers[0:9+1]\n",
    "new1"
   ]
  },
  {
   "cell_type": "code",
   "execution_count": 17,
   "id": "fba6d140",
   "metadata": {},
   "outputs": [],
   "source": [
    "new2 = numbers[:] # start from 0 and goto very end"
   ]
  },
  {
   "cell_type": "code",
   "execution_count": 18,
   "id": "45fa1897",
   "metadata": {},
   "outputs": [
    {
     "data": {
      "text/plain": [
       "[11, 22, 33, 44, 55, 66, 77, 88, 99, 100]"
      ]
     },
     "execution_count": 18,
     "metadata": {},
     "output_type": "execute_result"
    }
   ],
   "source": [
    "new2"
   ]
  },
  {
   "cell_type": "code",
   "execution_count": 19,
   "id": "d4668bbe",
   "metadata": {},
   "outputs": [
    {
     "data": {
      "text/plain": [
       "[11, 22, 33, 44, 55, 66, 77, 88, 99, 100]"
      ]
     },
     "execution_count": 19,
     "metadata": {},
     "output_type": "execute_result"
    }
   ],
   "source": [
    "numbers"
   ]
  },
  {
   "cell_type": "code",
   "execution_count": 20,
   "id": "f5ffaba2",
   "metadata": {},
   "outputs": [],
   "source": [
    "myNums = numbers"
   ]
  },
  {
   "cell_type": "code",
   "execution_count": 21,
   "id": "5f7daa5c",
   "metadata": {},
   "outputs": [
    {
     "data": {
      "text/plain": [
       "[11, 22, 33, 44, 55, 66, 77, 88, 99, 100]"
      ]
     },
     "execution_count": 21,
     "metadata": {},
     "output_type": "execute_result"
    }
   ],
   "source": [
    "myNums"
   ]
  },
  {
   "cell_type": "code",
   "execution_count": 22,
   "id": "79f24ed7",
   "metadata": {},
   "outputs": [
    {
     "data": {
      "text/plain": [
       "2692823969088"
      ]
     },
     "execution_count": 22,
     "metadata": {},
     "output_type": "execute_result"
    }
   ],
   "source": [
    "id(numbers)"
   ]
  },
  {
   "cell_type": "code",
   "execution_count": 23,
   "id": "d19777dd",
   "metadata": {},
   "outputs": [
    {
     "data": {
      "text/plain": [
       "2692823969088"
      ]
     },
     "execution_count": 23,
     "metadata": {},
     "output_type": "execute_result"
    }
   ],
   "source": [
    "id(myNums)"
   ]
  },
  {
   "cell_type": "code",
   "execution_count": 24,
   "id": "2be4a3a3",
   "metadata": {},
   "outputs": [],
   "source": [
    "del numbers[9]"
   ]
  },
  {
   "cell_type": "code",
   "execution_count": 25,
   "id": "e3071684",
   "metadata": {},
   "outputs": [
    {
     "data": {
      "text/plain": [
       "[11, 22, 33, 44, 55, 66, 77, 88, 99]"
      ]
     },
     "execution_count": 25,
     "metadata": {},
     "output_type": "execute_result"
    }
   ],
   "source": [
    "numbers"
   ]
  },
  {
   "cell_type": "code",
   "execution_count": 26,
   "id": "375bd9f1",
   "metadata": {},
   "outputs": [
    {
     "data": {
      "text/plain": [
       "[11, 22, 33, 44, 55, 66, 77, 88, 99]"
      ]
     },
     "execution_count": 26,
     "metadata": {},
     "output_type": "execute_result"
    }
   ],
   "source": [
    "myNums"
   ]
  },
  {
   "cell_type": "code",
   "execution_count": 27,
   "id": "03c68428",
   "metadata": {},
   "outputs": [],
   "source": [
    "a=100 \n",
    "b=a\n",
    "# Pass by refernce "
   ]
  },
  {
   "cell_type": "code",
   "execution_count": 28,
   "id": "4381fe15",
   "metadata": {},
   "outputs": [
    {
     "data": {
      "text/plain": [
       "2692746728912"
      ]
     },
     "execution_count": 28,
     "metadata": {},
     "output_type": "execute_result"
    }
   ],
   "source": [
    "id(a)"
   ]
  },
  {
   "cell_type": "code",
   "execution_count": 29,
   "id": "c8a7ed96",
   "metadata": {},
   "outputs": [
    {
     "data": {
      "text/plain": [
       "2692746728912"
      ]
     },
     "execution_count": 29,
     "metadata": {},
     "output_type": "execute_result"
    }
   ],
   "source": [
    "id(b)"
   ]
  },
  {
   "cell_type": "code",
   "execution_count": 30,
   "id": "cd9a89a1",
   "metadata": {},
   "outputs": [],
   "source": [
    "c = 100"
   ]
  },
  {
   "cell_type": "code",
   "execution_count": 31,
   "id": "fed9a80d",
   "metadata": {},
   "outputs": [
    {
     "data": {
      "text/plain": [
       "2692746728912"
      ]
     },
     "execution_count": 31,
     "metadata": {},
     "output_type": "execute_result"
    }
   ],
   "source": [
    "id(c)"
   ]
  },
  {
   "cell_type": "markdown",
   "id": "dbb4f046",
   "metadata": {},
   "source": [
    "Update list"
   ]
  },
  {
   "cell_type": "code",
   "execution_count": 32,
   "id": "434bbcbe",
   "metadata": {},
   "outputs": [
    {
     "data": {
      "text/plain": [
       "[11, 22, 33, 44, 55, 66, 77, 88, 99]"
      ]
     },
     "execution_count": 32,
     "metadata": {},
     "output_type": "execute_result"
    }
   ],
   "source": [
    "myNums"
   ]
  },
  {
   "cell_type": "code",
   "execution_count": 33,
   "id": "45db855b",
   "metadata": {},
   "outputs": [],
   "source": [
    "myNums[2]=3333"
   ]
  },
  {
   "cell_type": "code",
   "execution_count": 34,
   "id": "a63ca02d",
   "metadata": {},
   "outputs": [
    {
     "data": {
      "text/plain": [
       "[11, 22, 3333, 44, 55, 66, 77, 88, 99]"
      ]
     },
     "execution_count": 34,
     "metadata": {},
     "output_type": "execute_result"
    }
   ],
   "source": [
    "myNums"
   ]
  },
  {
   "cell_type": "code",
   "execution_count": 35,
   "id": "3c5c7aff",
   "metadata": {},
   "outputs": [
    {
     "data": {
      "text/plain": [
       "[11, 22, 3333, 44, 55, 66, 77, 88, 99]"
      ]
     },
     "execution_count": 35,
     "metadata": {},
     "output_type": "execute_result"
    }
   ],
   "source": [
    "numbers"
   ]
  },
  {
   "cell_type": "code",
   "execution_count": 36,
   "id": "d1e9bb64",
   "metadata": {},
   "outputs": [],
   "source": [
    "myNums[2:4]=[333,444,555]"
   ]
  },
  {
   "cell_type": "code",
   "execution_count": 37,
   "id": "c8c17a54",
   "metadata": {},
   "outputs": [
    {
     "data": {
      "text/plain": [
       "[11, 22, 333, 444, 555, 55, 66, 77, 88, 99]"
      ]
     },
     "execution_count": 37,
     "metadata": {},
     "output_type": "execute_result"
    }
   ],
   "source": [
    "myNums"
   ]
  },
  {
   "cell_type": "code",
   "execution_count": 39,
   "id": "f7a642f0",
   "metadata": {},
   "outputs": [
    {
     "data": {
      "text/plain": [
       "[22, 333, 444, 555, 55]"
      ]
     },
     "execution_count": 39,
     "metadata": {},
     "output_type": "execute_result"
    }
   ],
   "source": [
    "myNums[1:6:1]"
   ]
  },
  {
   "cell_type": "code",
   "execution_count": 40,
   "id": "42d63a05",
   "metadata": {},
   "outputs": [
    {
     "data": {
      "text/plain": [
       "[22, 444, 55]"
      ]
     },
     "execution_count": 40,
     "metadata": {},
     "output_type": "execute_result"
    }
   ],
   "source": [
    "myNums[1:6:2]"
   ]
  },
  {
   "cell_type": "code",
   "execution_count": 41,
   "id": "1372fe2c",
   "metadata": {},
   "outputs": [
    {
     "data": {
      "text/plain": [
       "[11, 333, 555, 66, 88]"
      ]
     },
     "execution_count": 41,
     "metadata": {},
     "output_type": "execute_result"
    }
   ],
   "source": [
    "myNums[::2]"
   ]
  },
  {
   "cell_type": "markdown",
   "id": "b321d40b",
   "metadata": {},
   "source": [
    "# Is there a way to slice from right to left??????"
   ]
  },
  {
   "cell_type": "code",
   "execution_count": 42,
   "id": "5e9fcd5e",
   "metadata": {},
   "outputs": [
    {
     "data": {
      "text/plain": [
       "[11, 22, 333, 444, 555, 55, 66, 77, 88, 99]"
      ]
     },
     "execution_count": 42,
     "metadata": {},
     "output_type": "execute_result"
    }
   ],
   "source": [
    "myNums"
   ]
  },
  {
   "cell_type": "code",
   "execution_count": 43,
   "id": "2f905ce2",
   "metadata": {},
   "outputs": [
    {
     "data": {
      "text/plain": [
       "[99, 88, 77, 66, 55, 555, 444, 333, 22, 11]"
      ]
     },
     "execution_count": 43,
     "metadata": {},
     "output_type": "execute_result"
    }
   ],
   "source": [
    "myNums[::-1]"
   ]
  },
  {
   "cell_type": "code",
   "execution_count": 45,
   "id": "615d6d80",
   "metadata": {},
   "outputs": [
    {
     "data": {
      "text/plain": [
       "[77, 66, 55]"
      ]
     },
     "execution_count": 45,
     "metadata": {},
     "output_type": "execute_result"
    }
   ],
   "source": [
    "myNums[-3:-6:-1]"
   ]
  },
  {
   "cell_type": "code",
   "execution_count": 46,
   "id": "908e6f38",
   "metadata": {},
   "outputs": [
    {
     "data": {
      "text/plain": [
       "[555, 55, 66]"
      ]
     },
     "execution_count": 46,
     "metadata": {},
     "output_type": "execute_result"
    }
   ],
   "source": [
    "myNums[-6:-3]"
   ]
  },
  {
   "cell_type": "code",
   "execution_count": 47,
   "id": "e7b7352c",
   "metadata": {},
   "outputs": [],
   "source": [
    "para = \"We are leraning python\""
   ]
  },
  {
   "cell_type": "code",
   "execution_count": 48,
   "id": "2ee1af5b",
   "metadata": {},
   "outputs": [
    {
     "data": {
      "text/plain": [
       "'re'"
      ]
     },
     "execution_count": 48,
     "metadata": {},
     "output_type": "execute_result"
    }
   ],
   "source": [
    "para[4:6]"
   ]
  },
  {
   "cell_type": "code",
   "execution_count": 49,
   "id": "f2837477",
   "metadata": {},
   "outputs": [
    {
     "ename": "TypeError",
     "evalue": "'str' object does not support item assignment",
     "output_type": "error",
     "traceback": [
      "\u001b[1;31m---------------------------------------------------------------------------\u001b[0m",
      "\u001b[1;31mTypeError\u001b[0m                                 Traceback (most recent call last)",
      "\u001b[1;32mC:\\Users\\ADMINI~1\\AppData\\Local\\Temp/ipykernel_13956/250570577.py\u001b[0m in \u001b[0;36m<module>\u001b[1;34m\u001b[0m\n\u001b[1;32m----> 1\u001b[1;33m \u001b[0mpara\u001b[0m\u001b[1;33m[\u001b[0m\u001b[1;36m4\u001b[0m\u001b[1;33m]\u001b[0m\u001b[1;33m=\u001b[0m\u001b[1;34m\"ererte\"\u001b[0m\u001b[1;33m\u001b[0m\u001b[1;33m\u001b[0m\u001b[0m\n\u001b[0m",
      "\u001b[1;31mTypeError\u001b[0m: 'str' object does not support item assignment"
     ]
    }
   ],
   "source": [
    "para[4]=\"ererte\"\n",
    "\n",
    "# coz string is immutable"
   ]
  },
  {
   "cell_type": "code",
   "execution_count": 51,
   "id": "a8dda59a",
   "metadata": {},
   "outputs": [
    {
     "data": {
      "text/plain": [
       "'We are leraning pythonWe are leraning pythonWe are leraning python'"
      ]
     },
     "execution_count": 51,
     "metadata": {},
     "output_type": "execute_result"
    }
   ],
   "source": [
    "para * 3"
   ]
  },
  {
   "cell_type": "code",
   "execution_count": 52,
   "id": "903654f0",
   "metadata": {},
   "outputs": [
    {
     "data": {
      "text/plain": [
       "'666'"
      ]
     },
     "execution_count": 52,
     "metadata": {},
     "output_type": "execute_result"
    }
   ],
   "source": [
    "a = str(6)\n",
    "b = 3\n",
    "\n",
    "a * b"
   ]
  },
  {
   "cell_type": "code",
   "execution_count": 53,
   "id": "d35bda07",
   "metadata": {},
   "outputs": [
    {
     "data": {
      "text/plain": [
       "[11,\n",
       " 22,\n",
       " 333,\n",
       " 444,\n",
       " 555,\n",
       " 55,\n",
       " 66,\n",
       " 77,\n",
       " 88,\n",
       " 99,\n",
       " 11,\n",
       " 22,\n",
       " 333,\n",
       " 444,\n",
       " 555,\n",
       " 55,\n",
       " 66,\n",
       " 77,\n",
       " 88,\n",
       " 99]"
      ]
     },
     "execution_count": 53,
     "metadata": {},
     "output_type": "execute_result"
    }
   ],
   "source": [
    "myNums*2"
   ]
  },
  {
   "cell_type": "markdown",
   "id": "89610ce1",
   "metadata": {},
   "source": [
    "# Loops"
   ]
  },
  {
   "cell_type": "code",
   "execution_count": 57,
   "id": "f22b8204",
   "metadata": {},
   "outputs": [
    {
     "name": "stdout",
     "output_type": "stream",
     "text": [
      "Weldone Nasir\n",
      "Weldone Asad\n",
      "Weldone Handy\n",
      "Weldone yasir\n",
      "Weldone Nasir1\n",
      "Weldone Asad2\n",
      "Weldone Handy3\n",
      "Weldone yasir4\n"
     ]
    }
   ],
   "source": [
    "# To reduce our code \n",
    "staff_list = [\"Nasir\", \"Asad\", \"Handy\", \"yasir\",\"Nasir1\", \"Asad2\", \"Handy3\", \"yasir4\"]\n",
    "print(f\"Weldone {staff[0]}\")\n",
    "print(f\"Weldone {staff[1]}\")\n",
    "print(f\"Weldone {staff[2]}\")\n",
    "print(f\"Weldone {staff[3]}\")\n",
    "print(f\"Weldone {staff[4]}\")\n",
    "print(f\"Weldone {staff[5]}\")\n",
    "print(f\"Weldone {staff[6]}\")\n",
    "print(f\"Weldone {staff[7]}\")"
   ]
  },
  {
   "cell_type": "code",
   "execution_count": 58,
   "id": "81db81d0",
   "metadata": {},
   "outputs": [
    {
     "name": "stdout",
     "output_type": "stream",
     "text": [
      "Weldone Nasir\n",
      "Weldone Asad\n",
      "Weldone Handy\n",
      "Weldone yasir\n",
      "Weldone Nasir1\n",
      "Weldone Asad2\n",
      "Weldone Handy3\n",
      "Weldone yasir4\n"
     ]
    }
   ],
   "source": [
    "# to do repeated task in one go\n",
    "for staff in staff_list:\n",
    "    print(f\"Weldone {staff}\")\n",
    "    "
   ]
  },
  {
   "cell_type": "code",
   "execution_count": 61,
   "id": "bc19d8d9",
   "metadata": {},
   "outputs": [
    {
     "name": "stdout",
     "output_type": "stream",
     "text": [
      "W\n",
      "e\n",
      " \n",
      "a\n",
      "r\n",
      "e\n",
      " \n",
      "l\n",
      "e\n",
      "r\n",
      "a\n",
      "n\n",
      "i\n",
      "n\n",
      "g\n",
      " \n",
      "p\n",
      "y\n",
      "t\n",
      "h\n",
      "o\n",
      "n\n"
     ]
    }
   ],
   "source": [
    "for character in para:\n",
    "    print(character)\n",
    "    "
   ]
  },
  {
   "cell_type": "code",
   "execution_count": 63,
   "id": "9e09dff4",
   "metadata": {},
   "outputs": [
    {
     "name": "stdout",
     "output_type": "stream",
     "text": [
      "p\n",
      "a\n",
      "r\n",
      "a\n"
     ]
    }
   ],
   "source": [
    "for character in \"para\":\n",
    "    print(character)"
   ]
  },
  {
   "cell_type": "code",
   "execution_count": 64,
   "id": "07bd64bf",
   "metadata": {},
   "outputs": [
    {
     "name": "stdout",
     "output_type": "stream",
     "text": [
      "pppppppppp\n",
      "aaaaaaaaaa\n",
      "rrrrrrrrrr\n",
      "aaaaaaaaaa\n"
     ]
    }
   ],
   "source": [
    "for character in \"para\":\n",
    "    print(character*10)"
   ]
  },
  {
   "cell_type": "code",
   "execution_count": 66,
   "id": "103c6efc",
   "metadata": {},
   "outputs": [
    {
     "ename": "TypeError",
     "evalue": "'int' object is not iterable",
     "output_type": "error",
     "traceback": [
      "\u001b[1;31m---------------------------------------------------------------------------\u001b[0m",
      "\u001b[1;31mTypeError\u001b[0m                                 Traceback (most recent call last)",
      "\u001b[1;32mC:\\Users\\ADMINI~1\\AppData\\Local\\Temp/ipykernel_13956/759948406.py\u001b[0m in \u001b[0;36m<module>\u001b[1;34m\u001b[0m\n\u001b[1;32m----> 1\u001b[1;33m \u001b[1;32mfor\u001b[0m \u001b[0mdigit\u001b[0m \u001b[1;32min\u001b[0m \u001b[1;36m1000000\u001b[0m\u001b[1;33m:\u001b[0m\u001b[1;33m\u001b[0m\u001b[1;33m\u001b[0m\u001b[0m\n\u001b[0m\u001b[0;32m      2\u001b[0m     \u001b[0mprint\u001b[0m\u001b[1;33m(\u001b[0m\u001b[0mdigit\u001b[0m\u001b[1;33m)\u001b[0m\u001b[1;33m\u001b[0m\u001b[1;33m\u001b[0m\u001b[0m\n",
      "\u001b[1;31mTypeError\u001b[0m: 'int' object is not iterable"
     ]
    }
   ],
   "source": [
    "for digit in 1000000:\n",
    "    print(digit)"
   ]
  },
  {
   "cell_type": "code",
   "execution_count": 67,
   "id": "75811dc0",
   "metadata": {},
   "outputs": [
    {
     "name": "stdout",
     "output_type": "stream",
     "text": [
      "1\n",
      "0\n",
      "0\n",
      "0\n",
      "0\n",
      "0\n",
      "0\n"
     ]
    }
   ],
   "source": [
    "for digit in \"1000000\":\n",
    "    print(digit)"
   ]
  },
  {
   "cell_type": "markdown",
   "id": "f0f4fabe",
   "metadata": {},
   "source": [
    "# range()"
   ]
  },
  {
   "cell_type": "code",
   "execution_count": 72,
   "id": "51bedf8d",
   "metadata": {},
   "outputs": [
    {
     "name": "stdout",
     "output_type": "stream",
     "text": [
      "01234"
     ]
    }
   ],
   "source": [
    "for a in range(5):#01234\n",
    "    print(a, end=\"\")"
   ]
  },
  {
   "cell_type": "code",
   "execution_count": 73,
   "id": "874a0c9c",
   "metadata": {},
   "outputs": [
    {
     "name": "stdout",
     "output_type": "stream",
     "text": [
      "123456789101112131415161718192021222324"
     ]
    }
   ],
   "source": [
    "for a in range(1,25):#01234\n",
    "    print(a, end=\"\")"
   ]
  },
  {
   "cell_type": "code",
   "execution_count": 74,
   "id": "d3561a80",
   "metadata": {},
   "outputs": [],
   "source": [
    "for a in range(10,1):#01234\n",
    "    print(a, end=\"\")"
   ]
  },
  {
   "cell_type": "code",
   "execution_count": 77,
   "id": "86440730",
   "metadata": {},
   "outputs": [
    {
     "name": "stdout",
     "output_type": "stream",
     "text": [
      "1471013161922"
     ]
    }
   ],
   "source": [
    "for a in range(1,25,3):#01234\n",
    "    print(a, end=\"\")"
   ]
  },
  {
   "cell_type": "code",
   "execution_count": 80,
   "id": "deb8f1a2",
   "metadata": {},
   "outputs": [
    {
     "name": "stdout",
     "output_type": "stream",
     "text": [
      "25\n",
      "23\n",
      "21\n",
      "19\n",
      "17\n",
      "15\n",
      "13\n",
      "11\n",
      "9\n",
      "7\n"
     ]
    }
   ],
   "source": [
    "for a in range(25,5,-2):#01234\n",
    "    print(a)"
   ]
  },
  {
   "cell_type": "markdown",
   "id": "b43cf557",
   "metadata": {},
   "source": [
    "# For loop keywrods \n",
    "   - continue\n",
    "   - break\n",
    "   - else"
   ]
  },
  {
   "cell_type": "code",
   "execution_count": 82,
   "id": "27553b7d",
   "metadata": {},
   "outputs": [
    {
     "name": "stdout",
     "output_type": "stream",
     "text": [
      "1\n",
      "2\n",
      "3\n",
      "4\n",
      "5\n",
      "6\n",
      "7\n"
     ]
    }
   ],
   "source": [
    "for num in range(1,11):\n",
    "    print(num)\n",
    "    if num == 7:\n",
    "        break"
   ]
  },
  {
   "cell_type": "code",
   "execution_count": 84,
   "id": "3e607869",
   "metadata": {},
   "outputs": [
    {
     "name": "stdout",
     "output_type": "stream",
     "text": [
      "1\n",
      "2\n",
      "3\n",
      "4\n",
      "5\n",
      "6\n",
      "8\n",
      "9\n",
      "10\n"
     ]
    }
   ],
   "source": [
    "for num in range(1,11):\n",
    "    if num == 7:\n",
    "        continue\n",
    "    print(num)\n",
    "    "
   ]
  },
  {
   "cell_type": "code",
   "execution_count": 88,
   "id": "88b8cdc5",
   "metadata": {},
   "outputs": [
    {
     "name": "stdout",
     "output_type": "stream",
     "text": [
      "Enter a number9\n",
      "The number 9 is odd\n"
     ]
    }
   ],
   "source": [
    "# write a program to check if user given input is odd or even\n",
    "num = int(input(\"Enter a number\"))\n",
    "if num%2==0:\n",
    "    print(f\"The number {num} is even\")\n",
    "else:\n",
    "    print(f\"The number {num} is odd\")"
   ]
  },
  {
   "cell_type": "code",
   "execution_count": 89,
   "id": "6b995f44",
   "metadata": {},
   "outputs": [
    {
     "name": "stdout",
     "output_type": "stream",
     "text": [
      "Enter a number2\n",
      "The number 2 is even\n",
      "Enter a number3\n",
      "The number 3 is odd\n",
      "Enter a number5\n",
      "The number 5 is odd\n",
      "Enter a number6\n",
      "The number 6 is even\n",
      "Enter a number8\n",
      "The number 8 is even\n"
     ]
    }
   ],
   "source": [
    "for a in range(5):\n",
    "    num = int(input(\"Enter a number\"))\n",
    "    if num%2==0:\n",
    "        print(f\"The number {num} is even\")\n",
    "    else:\n",
    "        print(f\"The number {num} is odd\")"
   ]
  },
  {
   "cell_type": "code",
   "execution_count": 90,
   "id": "d7e1c760",
   "metadata": {},
   "outputs": [
    {
     "name": "stdout",
     "output_type": "stream",
     "text": [
      "Enter a number99\n",
      "The number 99 is odd\n",
      "Enter a number50\n",
      "The number 50 is even\n",
      "Enter a number23\n",
      "The number 23 is odd\n",
      "Enter a number78\n",
      "The number 78 is even\n",
      "Enter a number90\n",
      "The number 90 is even\n"
     ]
    }
   ],
   "source": [
    "evens=[]\n",
    "odds=[]\n",
    "\n",
    "for a in range(5):\n",
    "    num = int(input(\"Enter a number\"))\n",
    "    if num%2==0:\n",
    "        print(f\"The number {num} is even\")\n",
    "        evens.append(num)\n",
    "    else:\n",
    "        print(f\"The number {num} is odd\")\n",
    "        odds.append(num)"
   ]
  },
  {
   "cell_type": "code",
   "execution_count": 91,
   "id": "391dcb71",
   "metadata": {},
   "outputs": [
    {
     "data": {
      "text/plain": [
       "[50, 78, 90]"
      ]
     },
     "execution_count": 91,
     "metadata": {},
     "output_type": "execute_result"
    }
   ],
   "source": [
    "evens"
   ]
  },
  {
   "cell_type": "code",
   "execution_count": 102,
   "id": "e2927b8d",
   "metadata": {},
   "outputs": [
    {
     "data": {
      "text/plain": [
       "['my', 'name', 'is', 'nasir', 'hussain']"
      ]
     },
     "execution_count": 102,
     "metadata": {},
     "output_type": "execute_result"
    }
   ],
   "source": [
    "\"my name is nasir hussain\".split(' ')"
   ]
  },
  {
   "cell_type": "code",
   "execution_count": 92,
   "id": "7be0a38b",
   "metadata": {},
   "outputs": [
    {
     "data": {
      "text/plain": [
       "[99, 23]"
      ]
     },
     "execution_count": 92,
     "metadata": {},
     "output_type": "execute_result"
    }
   ],
   "source": [
    "odds"
   ]
  },
  {
   "cell_type": "code",
   "execution_count": 96,
   "id": "945d0813",
   "metadata": {},
   "outputs": [
    {
     "name": "stdout",
     "output_type": "stream",
     "text": [
      "Enter your favourite numbers1,2,3,4,5,6,7,8,9,0,1,2,3,2,3,4,5,6,7,56,5434,45,67\n"
     ]
    },
    {
     "data": {
      "text/plain": [
       "['1',\n",
       " '2',\n",
       " '3',\n",
       " '4',\n",
       " '5',\n",
       " '6',\n",
       " '7',\n",
       " '8',\n",
       " '9',\n",
       " '0',\n",
       " '1',\n",
       " '2',\n",
       " '3',\n",
       " '2',\n",
       " '3',\n",
       " '4',\n",
       " '5',\n",
       " '6',\n",
       " '7',\n",
       " '56',\n",
       " '5434',\n",
       " '45',\n",
       " '67']"
      ]
     },
     "execution_count": 96,
     "metadata": {},
     "output_type": "execute_result"
    }
   ],
   "source": [
    "numbers = input(\"Enter your favourite numbers\").split(',')\n",
    "numbers"
   ]
  },
  {
   "cell_type": "code",
   "execution_count": 98,
   "id": "ae7f584c",
   "metadata": {},
   "outputs": [
    {
     "name": "stdout",
     "output_type": "stream",
     "text": [
      "Enter your favourite numbers1,2,3,4,5,6,7,8,9,0\n",
      "Evens : ['2', '4', '6', '8', '0']\n",
      "odds  : ['1', '3', '5', '7', '9']\n"
     ]
    }
   ],
   "source": [
    "numbers = input(\"Enter your favourite numbers\").split(',')\n",
    "evens= []\n",
    "odds = []\n",
    "\n",
    "for num in numbers:\n",
    "    if int(num)%2==0:\n",
    "        evens.append(num)\n",
    "    else:\n",
    "        odds.append(num)\n",
    "print(f\"Evens : {evens}\")\n",
    "print(f\"odds  : {odds}\" )"
   ]
  },
  {
   "cell_type": "code",
   "execution_count": 103,
   "id": "5b105358",
   "metadata": {},
   "outputs": [
    {
     "data": {
      "text/plain": [
       "[2, 3, 4]"
      ]
     },
     "execution_count": 103,
     "metadata": {},
     "output_type": "execute_result"
    }
   ],
   "source": [
    "a = [1, 2,  3,  4,  5]\n",
    "#   -5  -4  -3  -2  -1  \n",
    "a[-4:-1]"
   ]
  },
  {
   "cell_type": "code",
   "execution_count": 104,
   "id": "f6ec987a",
   "metadata": {},
   "outputs": [
    {
     "data": {
      "text/plain": [
       "[2, 3, 4]"
      ]
     },
     "execution_count": 104,
     "metadata": {},
     "output_type": "execute_result"
    }
   ],
   "source": [
    "a[1:4]"
   ]
  },
  {
   "cell_type": "code",
   "execution_count": null,
   "id": "1a9be18b",
   "metadata": {},
   "outputs": [],
   "source": []
  }
 ],
 "metadata": {
  "kernelspec": {
   "display_name": "Python 3 (ipykernel)",
   "language": "python",
   "name": "python3"
  },
  "language_info": {
   "codemirror_mode": {
    "name": "ipython",
    "version": 3
   },
   "file_extension": ".py",
   "mimetype": "text/x-python",
   "name": "python",
   "nbconvert_exporter": "python",
   "pygments_lexer": "ipython3",
   "version": "3.9.7"
  }
 },
 "nbformat": 4,
 "nbformat_minor": 5
}

{
 "cells": [
  {
   "cell_type": "markdown",
   "id": "2a9fbbcc",
   "metadata": {},
   "source": [
    "# File Handling\n",
    "   What is File Handling? \n",
    "   \n",
    "   Why we use File Handling?\n",
    "    \n",
    "   Advantages of File Handling?\n",
    "   \n",
    "     Operations using File...\n",
    "     \n",
    "   10.1 ...\n",
    "   "
   ]
  },
  {
   "cell_type": "code",
   "execution_count": null,
   "id": "1dd31f64",
   "metadata": {},
   "outputs": [],
   "source": [
    "example_list = []\n",
    "for i in range(3):\n",
    "    example_name = input(\"Enter Your Three Best Friend Name:\")\n",
    "    example_list.append(example_name)\n",
    "for i in example_list:\n",
    "    print(i)\n"
   ]
  },
  {
   "cell_type": "code",
   "execution_count": null,
   "id": "1cda097c",
   "metadata": {},
   "outputs": [],
   "source": [
    "with open(\"abc_def.txt\") as file:\n",
    "    data=file.read()\n",
    "    print(data)\n",
    "    \n",
    "#example.close()"
   ]
  },
  {
   "cell_type": "code",
   "execution_count": null,
   "id": "68a44190",
   "metadata": {},
   "outputs": [],
   "source": [
    "with open(\"abc_defges.txt\",\"r\") as file:\n",
    "    data=file.read()\n",
    "    print(data)"
   ]
  },
  {
   "cell_type": "markdown",
   "id": "8e5d8326",
   "metadata": {},
   "source": [
    "idr hamari file auto-generate using \"w\""
   ]
  },
  {
   "cell_type": "code",
   "execution_count": null,
   "id": "af7904dc",
   "metadata": {},
   "outputs": [],
   "source": [
    "with open(\"abc.txt\",\"w\") as example_one:\n",
    "    example_one.write(\"practice make better!\")\n"
   ]
  },
  {
   "cell_type": "markdown",
   "id": "754ebf5f",
   "metadata": {},
   "source": [
    "idr hamari file auto-generate using \"a\""
   ]
  },
  {
   "cell_type": "code",
   "execution_count": null,
   "id": "0ea1c140",
   "metadata": {},
   "outputs": [],
   "source": [
    "with open(\"abc.txtg\", \"a\") as file:\n",
    "    file.write(\"\\nPython is the easiest language\")\n"
   ]
  },
  {
   "cell_type": "code",
   "execution_count": null,
   "id": "be174a45",
   "metadata": {},
   "outputs": [],
   "source": [
    "with open(\"abc.txtg\", \"d\") as file_one:\n",
    "    file.delete(\"abc.txtg\")"
   ]
  },
  {
   "cell_type": "code",
   "execution_count": null,
   "id": "25d3aba8",
   "metadata": {},
   "outputs": [],
   "source": [
    "import os\n",
    "path= \"abc_def.txt\"\n",
    "if os.path.isfile(path):\n",
    "    os.remove(path)\n",
    "else:\n",
    "    print(\"there is no file:\")\n"
   ]
  },
  {
   "cell_type": "code",
   "execution_count": null,
   "id": "0510527c",
   "metadata": {},
   "outputs": [],
   "source": [
    "name  = input(\"Enter you r name \")\n",
    "print(name)"
   ]
  },
  {
   "cell_type": "markdown",
   "id": "581da16e",
   "metadata": {},
   "source": [
    "# Mode \n",
    "\n",
    " - read\n",
    " - write\n",
    " - append\n",
    " - write + \n",
    " - read + \n",
    " "
   ]
  },
  {
   "cell_type": "code",
   "execution_count": 2,
   "id": "912fa6c9",
   "metadata": {},
   "outputs": [],
   "source": [
    "with open(\"myfile.txt\", \"r\") as f:\n",
    "    data = f.read()\n",
    "    "
   ]
  },
  {
   "cell_type": "code",
   "execution_count": 3,
   "id": "f57932c5",
   "metadata": {},
   "outputs": [
    {
     "data": {
      "text/plain": [
       "'This is my perfect file'"
      ]
     },
     "execution_count": 3,
     "metadata": {},
     "output_type": "execute_result"
    }
   ],
   "source": [
    "data"
   ]
  },
  {
   "cell_type": "code",
   "execution_count": 5,
   "id": "75e2617e",
   "metadata": {},
   "outputs": [],
   "source": [
    "with open(\"yourfile.txt\", \"w\") as f:\n",
    "    f.write(\"This is another line in the file\")"
   ]
  },
  {
   "cell_type": "code",
   "execution_count": 6,
   "id": "efbf99d3",
   "metadata": {},
   "outputs": [],
   "source": [
    "with open(\"yourfile.txt\", \"a\") as f:\n",
    "    f.write('''\n",
    "    Name: Nasir \n",
    "    Class: Python\n",
    "    Saylani Mass It Training Program\n",
    "    ''')"
   ]
  },
  {
   "cell_type": "code",
   "execution_count": 9,
   "id": "fa538da2",
   "metadata": {},
   "outputs": [
    {
     "name": "stdout",
     "output_type": "stream",
     "text": [
      "ing and sending electronic messages, \n",
      "typically consisting of alphabetic and numeric characters,\n",
      " between two or more users of mobile devices, desktops/laptops, or another type of compatible computer\n"
     ]
    }
   ],
   "source": [
    "with open(\"helloworld.txt\", \"w+\") as file:\n",
    "    file.write(\"Text messaging, or texting, \\nis the act of composing and sending electronic messages, \\ntypically consisting of alphabetic and numeric characters,\\n between two or more users of mobile devices, desktops/laptops, or another type of compatible computer\")\n",
    "    file.seek(50)\n",
    "    data = file.read()\n",
    "    print(data)"
   ]
  },
  {
   "cell_type": "code",
   "execution_count": 11,
   "id": "05319b8a",
   "metadata": {},
   "outputs": [
    {
     "name": "stdout",
     "output_type": "stream",
     "text": [
      "this is ousaif speaking\n",
      "we all are students \n",
      "we learned python\n"
     ]
    }
   ],
   "source": [
    "with open(\"exercise.txt\", \"r\") as jk:\n",
    "    contents = jk.read()\n",
    "    print(contents)"
   ]
  },
  {
   "cell_type": "code",
   "execution_count": 14,
   "id": "1862b9f2",
   "metadata": {},
   "outputs": [
    {
     "name": "stdout",
     "output_type": "stream",
     "text": [
      "this is ousaif speaking\n",
      "we all are students\n",
      "we learned python\n"
     ]
    }
   ],
   "source": [
    "with open(\"exercise.txt\") as sk:\n",
    "    for i in sk:\n",
    "        print(i.rstrip())"
   ]
  },
  {
   "cell_type": "code",
   "execution_count": 21,
   "id": "1cc5002a",
   "metadata": {},
   "outputs": [
    {
     "name": "stdout",
     "output_type": "stream",
     "text": [
      "this is ousaif speaking\n",
      "we all are students\n",
      "we learned python\n"
     ]
    }
   ],
   "source": [
    "with open(\"exercise.txt\") as ik:\n",
    "    content = ik.readlines()\n",
    "    \n",
    "for line in content:\n",
    "    print(line.rstrip())"
   ]
  },
  {
   "cell_type": "code",
   "execution_count": null,
   "id": "72dc5e58",
   "metadata": {},
   "outputs": [],
   "source": []
  }
 ],
 "metadata": {
  "kernelspec": {
   "display_name": "Python 3 (ipykernel)",
   "language": "python",
   "name": "python3"
  },
  "language_info": {
   "codemirror_mode": {
    "name": "ipython",
    "version": 3
   },
   "file_extension": ".py",
   "mimetype": "text/x-python",
   "name": "python",
   "nbconvert_exporter": "python",
   "pygments_lexer": "ipython3",
   "version": "3.9.7"
  }
 },
 "nbformat": 4,
 "nbformat_minor": 5
}

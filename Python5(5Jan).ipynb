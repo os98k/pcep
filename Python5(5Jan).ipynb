{
 "cells": [
  {
   "cell_type": "markdown",
   "id": "94f38969",
   "metadata": {},
   "source": [
    "# Operators and their priorities\n",
    "\n",
    "+ - * / == != % **  ()\n",
    "\n",
    "BODMAS"
   ]
  },
  {
   "cell_type": "markdown",
   "id": "bd404914",
   "metadata": {},
   "source": [
    "Priority\tOperator\t\n",
    "1\t          +, -\tunary\n",
    "\n",
    "2\t           **\t\n",
    "\n",
    "3\t           *, /, //, %\t\n",
    "\n",
    "4\t           +, -\tbinary\n",
    "\n",
    "Binding of expression is LEFT to Right"
   ]
  },
  {
   "cell_type": "code",
   "execution_count": 2,
   "id": "2bfa1ea8",
   "metadata": {},
   "outputs": [
    {
     "data": {
      "text/plain": [
       "-14"
      ]
     },
     "execution_count": 2,
     "metadata": {},
     "output_type": "execute_result"
    }
   ],
   "source": [
    "-3*6+4\n",
    "#-14"
   ]
  },
  {
   "cell_type": "code",
   "execution_count": 14,
   "id": "2ce61002",
   "metadata": {},
   "outputs": [
    {
     "name": "stdout",
     "output_type": "stream",
     "text": [
      "1\n"
     ]
    }
   ],
   "source": [
    "print(2 * 3 % 5)"
   ]
  },
  {
   "cell_type": "code",
   "execution_count": 23,
   "id": "ddf48c16",
   "metadata": {},
   "outputs": [
    {
     "name": "stdout",
     "output_type": "stream",
     "text": [
      "10.0\n"
     ]
    }
   ],
   "source": [
    "print((5 * ((25 % 13) + 100) / (2 * 13)) // 2)"
   ]
  },
  {
   "cell_type": "code",
   "execution_count": 24,
   "id": "b9007ecd",
   "metadata": {},
   "outputs": [
    {
     "name": "stdout",
     "output_type": "stream",
     "text": [
      "16 8.0 8\n"
     ]
    }
   ],
   "source": [
    "print((2 ** 4), (2 * 4.), (2 * 4))\n",
    "      "
   ]
  },
  {
   "cell_type": "code",
   "execution_count": 27,
   "id": "e17fdc26",
   "metadata": {},
   "outputs": [
    {
     "name": "stdout",
     "output_type": "stream",
     "text": [
      "-0.5 0.5 0 -1\n"
     ]
    }
   ],
   "source": [
    "print((-2 / 4), (2 / 4), (2 // 4), (-2 // 4))\n",
    " #       -0.5      0.5     2              "
   ]
  },
  {
   "cell_type": "markdown",
   "id": "566dfe82",
   "metadata": {},
   "source": [
    "# If Statment\n",
    "\n",
    "conditional"
   ]
  },
  {
   "cell_type": "code",
   "execution_count": 31,
   "id": "a9d16ef9",
   "metadata": {},
   "outputs": [
    {
     "name": "stdout",
     "output_type": "stream",
     "text": [
      "Please tell me your nameASAD\n",
      "Welcome asad\n"
     ]
    }
   ],
   "source": [
    "st_name = input(\"Please tell me your name\").lower()\n",
    "\n",
    "if  st_name == \"asad\":\n",
    "    print(f\"Welcome {st_name}\")"
   ]
  },
  {
   "cell_type": "code",
   "execution_count": 42,
   "id": "05f45282",
   "metadata": {},
   "outputs": [
    {
     "name": "stdout",
     "output_type": "stream",
     "text": [
      "Enter you guessed number>>99\n",
      "You win the game\n",
      "You win the game\n",
      "You win the game\n",
      "You win the game\n",
      "You win the game\n",
      "You win the game\n",
      "Block ends here\n",
      "You win the game2\n"
     ]
    }
   ],
   "source": [
    "number = int(input(\"Enter you guessed number>>\"))\n",
    "\n",
    "luckyNumber = 99\n",
    "\n",
    "if number == luckyNumber:\n",
    "    print(\"You win the game\")\n",
    "    print(\"You win the game\")\n",
    "    print(\"You win the game\")\n",
    "    print(\"You win the game\")\n",
    "    print(\"You win the game\")\n",
    "    print(\"You win the game\")\n",
    "    print(\"Block ends here\")\n",
    "print(\"You win the game2\")\n",
    "    #print(\"You win the game\")"
   ]
  },
  {
   "cell_type": "code",
   "execution_count": 37,
   "id": "fbf70307",
   "metadata": {},
   "outputs": [
    {
     "name": "stdout",
     "output_type": "stream",
     "text": [
      "Enter you guessed number>>99\n"
     ]
    }
   ],
   "source": [
    "number = int(input(\"Enter you guessed number>>\"))\n",
    "\n",
    "luckyNumber = 99\n",
    "\n",
    "if number == luckyNumber:\n",
    "    pass"
   ]
  },
  {
   "cell_type": "markdown",
   "id": "e9d92780",
   "metadata": {},
   "source": [
    "# If Else Statment"
   ]
  },
  {
   "cell_type": "code",
   "execution_count": 1,
   "id": "5c4954a4",
   "metadata": {},
   "outputs": [
    {
     "name": "stdout",
     "output_type": "stream",
     "text": [
      "What is the price of tomato per kg567\n",
      "Give me 1 kg \n"
     ]
    }
   ],
   "source": [
    "price_of_tomato = int(float(input(\"What is the price of tomato per kg\")))\n",
    "\n",
    "if price_of_tomato >=100:\n",
    "    print(\"Give me 1 kg \")\n",
    "else:\n",
    "    print(\"Give me 5kg\")\n"
   ]
  },
  {
   "cell_type": "code",
   "execution_count": 50,
   "id": "8776d321",
   "metadata": {},
   "outputs": [
    {
     "data": {
      "text/plain": [
       "99"
      ]
     },
     "execution_count": 50,
     "metadata": {},
     "output_type": "execute_result"
    }
   ],
   "source": [
    "int(99.99)"
   ]
  },
  {
   "cell_type": "code",
   "execution_count": 51,
   "id": "ab84217d",
   "metadata": {},
   "outputs": [
    {
     "ename": "ValueError",
     "evalue": "invalid literal for int() with base 10: '99.99'",
     "output_type": "error",
     "traceback": [
      "\u001b[1;31m---------------------------------------------------------------------------\u001b[0m",
      "\u001b[1;31mValueError\u001b[0m                                Traceback (most recent call last)",
      "\u001b[1;32mC:\\Users\\ADMINI~1\\AppData\\Local\\Temp/ipykernel_13256/3384024788.py\u001b[0m in \u001b[0;36m<module>\u001b[1;34m\u001b[0m\n\u001b[1;32m----> 1\u001b[1;33m \u001b[0mint\u001b[0m\u001b[1;33m(\u001b[0m\u001b[1;34m\"99.99\"\u001b[0m\u001b[1;33m)\u001b[0m\u001b[1;33m\u001b[0m\u001b[1;33m\u001b[0m\u001b[0m\n\u001b[0m",
      "\u001b[1;31mValueError\u001b[0m: invalid literal for int() with base 10: '99.99'"
     ]
    }
   ],
   "source": [
    "int(\"99.99\")"
   ]
  },
  {
   "cell_type": "code",
   "execution_count": 56,
   "id": "b92ee3e7",
   "metadata": {},
   "outputs": [
    {
     "data": {
      "text/plain": [
       "99"
      ]
     },
     "execution_count": 56,
     "metadata": {},
     "output_type": "execute_result"
    }
   ],
   "source": [
    "int(float('99.99'))"
   ]
  },
  {
   "cell_type": "code",
   "execution_count": 2,
   "id": "c4873d49",
   "metadata": {},
   "outputs": [
    {
     "data": {
      "text/plain": [
       "-1"
      ]
     },
     "execution_count": 2,
     "metadata": {},
     "output_type": "execute_result"
    }
   ],
   "source": [
    "-2//4"
   ]
  },
  {
   "cell_type": "code",
   "execution_count": 4,
   "id": "a51a1442",
   "metadata": {},
   "outputs": [
    {
     "data": {
      "text/plain": [
       "-1"
      ]
     },
     "execution_count": 4,
     "metadata": {},
     "output_type": "execute_result"
    }
   ],
   "source": [
    "-2//4"
   ]
  },
  {
   "cell_type": "code",
   "execution_count": 5,
   "id": "294c6ca5",
   "metadata": {},
   "outputs": [
    {
     "data": {
      "text/plain": [
       "0.5"
      ]
     },
     "execution_count": 5,
     "metadata": {},
     "output_type": "execute_result"
    }
   ],
   "source": [
    "2/4"
   ]
  },
  {
   "cell_type": "code",
   "execution_count": 6,
   "id": "9bda0df1",
   "metadata": {},
   "outputs": [
    {
     "data": {
      "text/plain": [
       "-3"
      ]
     },
     "execution_count": 6,
     "metadata": {},
     "output_type": "execute_result"
    }
   ],
   "source": [
    "-5//2"
   ]
  },
  {
   "cell_type": "code",
   "execution_count": null,
   "id": "9e82f99d",
   "metadata": {},
   "outputs": [],
   "source": []
  }
 ],
 "metadata": {
  "kernelspec": {
   "display_name": "Python 3 (ipykernel)",
   "language": "python",
   "name": "python3"
  },
  "language_info": {
   "codemirror_mode": {
    "name": "ipython",
    "version": 3
   },
   "file_extension": ".py",
   "mimetype": "text/x-python",
   "name": "python",
   "nbconvert_exporter": "python",
   "pygments_lexer": "ipython3",
   "version": "3.9.7"
  }
 },
 "nbformat": 4,
 "nbformat_minor": 5
}
